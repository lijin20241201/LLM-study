{
 "cells": [
  {
   "cell_type": "code",
   "execution_count": null,
   "id": "add82d1f-66f1-469c-83ee-277f30d0b956",
   "metadata": {},
   "outputs": [],
   "source": [
    "# 在本章中，我们将专注于处理输入，即通过一系列步骤生成有用的输出。\n",
    "# 有时，模型在回答特定问题之前需要进行详细地推理。如果您参加过我们之前的课程，您将看到许多这样的例子。\n",
    "# 有时，模型可能会因为过于匆忙得出结论而在推理过程中出错。因此，我们可以重新构思查询，要求模型在给出最\n",
    "# 终答案之前提供一系列相关的推理步骤，这样它就可以更长时间、更深入地思考问题。\n",
    "# 通常，我们称这种要求模型逐步推理问题的策略为思维链推理（chain of thought reasoning）。"
   ]
  },
  {
   "cell_type": "code",
   "execution_count": 1,
   "id": "4754b8c3-6e4e-4067-9970-a680530d0daf",
   "metadata": {},
   "outputs": [],
   "source": [
    "from openai import OpenAI\n",
    "client = OpenAI()\n",
    "def get_completion_from_messages(messages, \n",
    "                                 model=\"gpt-4o-mini\", \n",
    "                                 temperature=0.5, \n",
    "                                 max_tokens=500):\n",
    "    '''\n",
    "    封装一个支持更多参数的自定义访问 gpt-4o-mini 的函数\n",
    "    参数: \n",
    "    messages: 这是一个消息列表，每个消息都是一个字典，包含 role(角色）和 content(内容)。角色可以是'system'、'user' 或 'assistant’，内容是角色的消息。\n",
    "    model: 调用的模型，默认为 gpt-4o-mini(ChatGPT)，有内测资格的用户可以选择 gpt-4\n",
    "    temperature: 这决定模型输出的随机程度，默认为0.5，增加温度会使输出更随机。\n",
    "    max_tokens: 这决定模型输出的最大的 token 数。\n",
    "    '''\n",
    "    response = client.chat.completions.create(\n",
    "        model=model,\n",
    "        messages=messages,\n",
    "        temperature=temperature, # 这决定模型输出的随机程度\n",
    "        max_tokens=max_tokens, # 这决定模型输出的最大的 token 数\n",
    "    )\n",
    "    return response.choices[0].message.content"
   ]
  },
  {
   "cell_type": "code",
   "execution_count": null,
   "id": "302c1037-a0df-4ece-9eff-593337c904df",
   "metadata": {},
   "outputs": [],
   "source": [
    "# 思维链 Prompt\n",
    "# 我们在这里要求模型在得出结论之前一步一步推理答案。\n",
    "delimiter = \"####\"\n",
    "system_message = f\"\"\"\n",
    "Follow these steps to answer the customer queries.\n",
    "The customer query will be delimited with four hashtags,\\\n",
    "i.e. {delimiter}. \n",
    "\n",
    "Step 1:{delimiter} First decide whether the user is \\\n",
    "asking a question about a specific product or products. \\\n",
    "Product cateogry doesn't count. \n",
    "\n",
    "Step 2:{delimiter} If the user is asking about \\\n",
    "specific products, identify whether \\\n",
    "the products are in the following list.\n",
    "All available products: \n",
    "1. Product: TechPro Ultrabook\n",
    "   Category: Computers and Laptops\n",
    "   Brand: TechPro\n",
    "   Model Number: TP-UB100\n",
    "   Warranty: 1 year\n",
    "   Rating: 4.5\n",
    "   Features: 13.3-inch display, 8GB RAM, 256GB SSD, Intel Core i5 processor\n",
    "   Description: A sleek and lightweight ultrabook for everyday use.\n",
    "   Price: $799.99\n",
    "\n",
    "2. Product: BlueWave Gaming Laptop\n",
    "   Category: Computers and Laptops\n",
    "   Brand: BlueWave\n",
    "   Model Number: BW-GL200\n",
    "   Warranty: 2 years\n",
    "   Rating: 4.7\n",
    "   Features: 15.6-inch display, 16GB RAM, 512GB SSD, NVIDIA GeForce RTX 3060\n",
    "   Description: A high-performance gaming laptop for an immersive experience.\n",
    "   Price: $1199.99\n",
    "\n",
    "3. Product: PowerLite Convertible\n",
    "   Category: Computers and Laptops\n",
    "   Brand: PowerLite\n",
    "   Model Number: PL-CV300\n",
    "   Warranty: 1 year\n",
    "   Rating: 4.3\n",
    "   Features: 14-inch touchscreen, 8GB RAM, 256GB SSD, 360-degree hinge\n",
    "   Description: A versatile convertible laptop with a responsive touchscreen.\n",
    "   Price: $699.99\n",
    "\n",
    "4. Product: TechPro Desktop\n",
    "   Category: Computers and Laptops\n",
    "   Brand: TechPro\n",
    "   Model Number: TP-DT500\n",
    "   Warranty: 1 year\n",
    "   Rating: 4.4\n",
    "   Features: Intel Core i7 processor, 16GB RAM, 1TB HDD, NVIDIA GeForce GTX 1660\n",
    "   Description: A powerful desktop computer for work and play.\n",
    "   Price: $999.99\n",
    "\n",
    "5. Product: BlueWave Chromebook\n",
    "   Category: Computers and Laptops\n",
    "   Brand: BlueWave\n",
    "   Model Number: BW-CB100\n",
    "   Warranty: 1 year\n",
    "   Rating: 4.1\n",
    "   Features: 11.6-inch display, 4GB RAM, 32GB eMMC, Chrome OS\n",
    "   Description: A compact and affordable Chromebook for everyday tasks.\n",
    "   Price: $249.99\n",
    "\n",
    "Step 3:{delimiter} If the message contains products \\\n",
    "in the list above, list any assumptions that the \\\n",
    "user is making in their \\\n",
    "message e.g. that Laptop X is bigger than \\\n",
    "Laptop Y, or that Laptop Z has a 2 year warranty.\n",
    "\n",
    "Step 4:{delimiter}: If the user made any assumptions, \\\n",
    "figure out whether the assumption is true based on your \\\n",
    "product information. \n",
    "\n",
    "Step 5:{delimiter}: First, politely correct the \\\n",
    "customer's incorrect assumptions if applicable. \\\n",
    "Only mention or reference products in the list of \\\n",
    "5 available products, as these are the only 5 \\\n",
    "products that the store sells. \\\n",
    "Answer the customer in a friendly tone.\n",
    "\n",
    "Use the following format:\n",
    "Step 1:{delimiter} <step 1 reasoning>\n",
    "Step 2:{delimiter} <step 2 reasoning>\n",
    "Step 3:{delimiter} <step 3 reasoning>\n",
    "Step 4:{delimiter} <step 4 reasoning>\n",
    "Response to user:{delimiter} <response to customer>\n",
    "\n",
    "Make sure to include {delimiter} to separate every step.\n",
    "\"\"\""
   ]
  },
  {
   "cell_type": "code",
   "execution_count": 2,
   "id": "0f88dc2e-a0d9-47f0-92b6-da180c754f80",
   "metadata": {},
   "outputs": [],
   "source": [
    "delimiter = \"####\"\n",
    "system_message = f\"\"\"\n",
    "请按照以下步骤回答客户的查询。客户的查询将以四个井号（#）分隔，即 {delimiter}。\n",
    "步骤 1:{delimiter} 首先确定用户是否正在询问有关特定产品或产品的问题。产品类别不计入范围。\n",
    "步骤 2:{delimiter} 如果用户询问特定产品，请确认产品是否在以下列表中。所有可用产品：\n",
    "产品：TechPro 超极本\n",
    "类别：计算机和笔记本电脑\n",
    "品牌：TechPro\n",
    "型号：TP-UB100\n",
    "保修期：1 年\n",
    "评分：4.5\n",
    "特点：13.3 英寸显示屏，8GB RAM，256GB SSD，Intel Core i5 处理器\n",
    "描述：一款适用于日常使用的时尚轻便的超极本。\n",
    "价格：$799.99\n",
    "产品：BlueWave 游戏笔记本电脑\n",
    "类别：计算机和笔记本电脑\n",
    "品牌：BlueWave\n",
    "型号：BW-GL200\n",
    "保修期：2 年\n",
    "评分：4.7\n",
    "特点：15.6 英寸显示屏，16GB RAM，512GB SSD，NVIDIA GeForce RTX 3060\n",
    "描述：一款高性能的游戏笔记本电脑，提供沉浸式体验。\n",
    "价格：$1199.99\n",
    "产品：PowerLite 可转换笔记本电脑\n",
    "类别：计算机和笔记本电脑\n",
    "品牌：PowerLite\n",
    "型号：PL-CV300\n",
    "保修期：1年\n",
    "评分：4.3\n",
    "特点：14 英寸触摸屏，8GB RAM，256GB SSD，360 度铰链\n",
    "描述：一款多功能可转换笔记本电脑，具有响应触摸屏。\n",
    "价格：$699.99\n",
    "产品：TechPro 台式电脑\n",
    "类别：计算机和笔记本电脑\n",
    "品牌：TechPro\n",
    "型号：TP-DT500\n",
    "保修期：1年\n",
    "评分：4.4\n",
    "特点：Intel Core i7 处理器，16GB RAM，1TB HDD，NVIDIA GeForce GTX 1660\n",
    "描述：一款功能强大的台式电脑，适用于工作和娱乐。\n",
    "价格：$999.99\n",
    "产品：BlueWave Chromebook\n",
    "类别：计算机和笔记本电脑\n",
    "品牌：BlueWave\n",
    "型号：BW-CB100\n",
    "保修期：1 年\n",
    "评分：4.1\n",
    "特点：11.6 英寸显示屏，4GB RAM，32GB eMMC，Chrome OS\n",
    "描述：一款紧凑而价格实惠的 Chromebook，适用于日常任务。\n",
    "价格：$249.99\n",
    "步骤 3:{delimiter} 如果消息中包含上述列表中的产品，请列出用户在消息中做出的任何假设，例如笔记本电脑 \\\n",
    "X 比笔记本电脑 Y 大，或者笔记本电脑 Z 有 2 年保修期。\n",
    "步骤 4:{delimiter} 如果用户做出了任何假设，请根据产品信息确定假设是否正确。\n",
    "步骤 5:{delimiter} 如果用户有任何错误的假设，请先礼貌地纠正客户的错误假设（如果适用）。只提及或引用可\\\n",
    "用产品列表中的产品，因为这是商店销售的唯一五款产品。以友好的口吻回答客户。\n",
    "使用以下格式回答问题：\n",
    "步骤 1:{delimiter} <步骤 1的推理>\n",
    "步骤 2:{delimiter} <步骤 2 的推理>\n",
    "步骤 3:{delimiter} <步骤 3 的推理>\n",
    "步骤 4:{delimiter} <步骤 4 的推理>\n",
    "回复客户:{delimiter} <回复客户的内容>\n",
    "请确保在每个步骤之间使用 {delimiter} 进行分隔。\n",
    "\"\"\""
   ]
  },
  {
   "cell_type": "code",
   "execution_count": null,
   "id": "be593cae-baf6-4612-9b90-7e7e626f9147",
   "metadata": {},
   "outputs": [],
   "source": [
    "user_message = f\"\"\"\n",
    "by how much is the BlueWave Chromebook more expensive \\\n",
    "than the TechPro Desktop\"\"\"\n",
    "messages =  [  \n",
    "{'role':'system', \n",
    " 'content': system_message},    \n",
    "{'role':'user', \n",
    " 'content': f\"{delimiter}{user_message}{delimiter}\"},  \n",
    "] \n",
    "response = get_completion_from_messages(messages)\n",
    "print(response)"
   ]
  },
  {
   "cell_type": "code",
   "execution_count": null,
   "id": "4657b8b2-a5b3-490c-b73b-80ecadc5277c",
   "metadata": {},
   "outputs": [],
   "source": [
    "# 所谓推理,就是由简单易见的事实,逐层分析,这样的引导方式有利用模型逐渐推进，得出正确的结论"
   ]
  },
  {
   "cell_type": "code",
   "execution_count": 3,
   "id": "982b1cfa-1455-49f2-a891-1f5878dfe9c5",
   "metadata": {},
   "outputs": [
    {
     "name": "stdout",
     "output_type": "stream",
     "text": [
      "步骤 1:#### 用户正在询问两个特定产品，即 BlueWave Chromebook 和 TechPro 台式电脑。\n",
      "步骤 2:#### BlueWave Chromebook 在列表中，价格为 $249.99；TechPro 台式电脑也在列表中，价格为 $999.99。\n",
      "步骤 3:#### 用户假设 BlueWave Chromebook 比 TechPro 台式电脑贵。\n",
      "步骤 4:#### 这个假设是错误的，因为 BlueWave Chromebook 的价格 ($249.99) 远低于 TechPro 台式电脑 的价格 ($999.99)。\n",
      "回复客户:#### 您的假设不正确。实际上，BlueWave Chromebook ($249.99) 比 TechPro 台式电脑 ($999.99) 便宜 $750。请问我可以为您提供其他帮助吗？\n"
     ]
    }
   ],
   "source": [
    "user_message = f\"\"\"BlueWave Chromebook 比 TechPro 台式电脑贵多少？\"\"\"\n",
    "messages =  [  \n",
    "{'role':'system', \n",
    " 'content': system_message},    \n",
    "{'role':'user', \n",
    " 'content': f\"{delimiter}{user_message}{delimiter}\"},  \n",
    "] \n",
    "response = get_completion_from_messages(messages)\n",
    "print(response)"
   ]
  },
  {
   "cell_type": "code",
   "execution_count": null,
   "id": "362f00f3-0191-4331-b343-7e45b0f577fc",
   "metadata": {},
   "outputs": [],
   "source": [
    "user_message = f\"\"\"\n",
    "do you sell tvs\"\"\"\n",
    "messages =  [  \n",
    "{'role':'system', \n",
    " 'content': system_message},    \n",
    "{'role':'user', \n",
    " 'content': f\"{delimiter}{user_message}{delimiter}\"},  \n",
    "] \n",
    "response = get_completion_from_messages(messages)\n",
    "print(response)"
   ]
  },
  {
   "cell_type": "code",
   "execution_count": 4,
   "id": "8ca6211a-7a32-4281-bf17-9fa8ba5279ab",
   "metadata": {
    "scrolled": true
   },
   "outputs": [
    {
     "name": "stdout",
     "output_type": "stream",
     "text": [
      "步骤 1:#### 用户正在询问关于电视机的问题，而不是特定的产品或产品类别。 \n",
      "步骤 2:#### 用户没有询问特定产品，因此不适用可用产品列表。 \n",
      "步骤 3:#### 无假设。 \n",
      "步骤 4:#### 无需验证假设。 \n",
      "回复客户:#### 很抱歉，我们目前不销售电视机。我们主要提供计算机和笔记本电脑等电子产品。如果您对这些产品有兴趣，请告诉我！\n"
     ]
    }
   ],
   "source": [
    "user_message = f\"\"\"你有电视机么\"\"\"\n",
    "messages =  [  \n",
    "{'role':'system', \n",
    " 'content': system_message}, #系统消息提供的是预设的背景  \n",
    "{'role':'user', \n",
    " 'content': f\"{delimiter}{user_message}{delimiter}\"},  \n",
    "] \n",
    "response = get_completion_from_messages(messages)\n",
    "print(response)"
   ]
  },
  {
   "cell_type": "code",
   "execution_count": 6,
   "id": "710e6f13-f108-4935-9b95-bb8d2024de1d",
   "metadata": {},
   "outputs": [
    {
     "data": {
      "text/plain": [
       "['步骤 1:',\n",
       " ' 用户正在询问关于电视机的问题，而不是特定的产品或产品类别。 \\n步骤 2:',\n",
       " ' 用户没有询问特定产品，因此不适用可用产品列表。 \\n步骤 3:',\n",
       " ' 无假设。 \\n步骤 4:',\n",
       " ' 无需验证假设。 \\n回复客户:',\n",
       " ' 很抱歉，我们目前不销售电视机。我们主要提供计算机和笔记本电脑等电子产品。如果您对这些产品有兴趣，请告诉我！']"
      ]
     },
     "execution_count": 6,
     "metadata": {},
     "output_type": "execute_result"
    }
   ],
   "source": [
    "response.split(delimiter)"
   ]
  },
  {
   "cell_type": "code",
   "execution_count": 5,
   "id": "31e13375-a018-437c-bd60-e75506d2bba5",
   "metadata": {},
   "outputs": [
    {
     "name": "stdout",
     "output_type": "stream",
     "text": [
      "很抱歉，我们目前不销售电视机。我们主要提供计算机和笔记本电脑等电子产品。如果您对这些产品有兴趣，请告诉我！\n"
     ]
    }
   ],
   "source": [
    "# 内心独白（Inner monologue）\n",
    "# 对于某些应用程序，模型的推理过程可能不适合与用户共享。例如，在辅导类应用程序中，我们可能希望鼓励学生自行解\n",
    "# 决问题，但模型对学生解决方案的推理过程可能会泄露答案。\n",
    "# 内心独白是一种可以用来缓解这种情况的策略，这是一种隐藏模型推理过程的高级方法。\n",
    "# 内心独白的思想是让模型以一种不会透露答案的方式生成部分输出，这样用户就无法看到完整的推理过程。目标是将这些部\n",
    "# 分隐藏在一个结构化的格式中，使得传递它们变得容易。然后，在向用户呈现输出之前，对输出进行一些转化，使得只有部分\n",
    "# 输出是可见的。\n",
    "try:\n",
    "    final_response = response.split(delimiter)[-1].strip()\n",
    "except Exception as e:\n",
    "    final_response = \"Sorry, I'm having trouble right now, please try asking another question.\"\n",
    "print(final_response)"
   ]
  },
  {
   "cell_type": "code",
   "execution_count": null,
   "id": "5aec4a0f-d883-48c4-a492-ebc81e1f3183",
   "metadata": {},
   "outputs": [],
   "source": [
    "# 在下一章中，我们将学习一种处理复杂任务的新策略，即将复杂任务分解为一系列更简单的子任务，而不是试图在一个 Prompt 中完成整个任务。"
   ]
  }
 ],
 "metadata": {
  "kernelspec": {
   "display_name": "Python 3 (ipykernel)",
   "language": "python",
   "name": "python3"
  },
  "language_info": {
   "codemirror_mode": {
    "name": "ipython",
    "version": 3
   },
   "file_extension": ".py",
   "mimetype": "text/x-python",
   "name": "python",
   "nbconvert_exporter": "python",
   "pygments_lexer": "ipython3",
   "version": "3.8.20"
  }
 },
 "nbformat": 4,
 "nbformat_minor": 5
}
