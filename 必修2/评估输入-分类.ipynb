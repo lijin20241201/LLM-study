{
 "cells": [
  {
   "cell_type": "code",
   "execution_count": null,
   "id": "c3b1767f-1f73-40ed-8d38-f8df4a8662a4",
   "metadata": {},
   "outputs": [],
   "source": [
    "# 在本章中，我们将重点讨论评估输入任务，这对于确保系统的质量和安全性至关重要。\n",
    "# 对于需要处理不同情况下的许多独立指令集的任务，首先对查询类型进行分类，并以此为基础确定要使用哪些指令，具有诸多益处。\n",
    "# 这可以通过定义固定的类别和 hard-coding 与处理给定类别任务相关的指令来实现。\n",
    "# 例如，在构建客户服务助手时，首先对查询类型进行分类，然后根据该分类确定要使用哪些指令，这一点可能非常重要。\n",
    "# 举个具体的例子，如果用户要求关闭其帐户，那么二级指令可能是添加有关如何关闭账户的额外说明；而如果用户询问特定产品的信息，\n",
    "# 则二级指令可能会添加更多的产品信息。"
   ]
  },
  {
   "cell_type": "code",
   "execution_count": 1,
   "id": "3e9210ae-fba3-4a2f-b294-248946212e9e",
   "metadata": {},
   "outputs": [],
   "source": [
    "from openai import OpenAI\n",
    "client = OpenAI()\n",
    "def get_completion_from_messages(messages, \n",
    "                                 model=\"gpt-4o-mini\", \n",
    "                                 temperature=0.5, \n",
    "                                 max_tokens=500):\n",
    "    '''\n",
    "    封装一个支持更多参数的自定义访问 gpt-4o-mini 的函数\n",
    "    参数: \n",
    "    messages: 这是一个消息列表，每个消息都是一个字典，包含 role(角色）和 content(内容)。角色可以是'system'、'user' 或 'assistant’，内容是角色的消息。\n",
    "    model: 调用的模型，默认为 gpt-4o-mini(ChatGPT)，有内测资格的用户可以选择 gpt-4\n",
    "    temperature: 这决定模型输出的随机程度，默认为0.5，增加温度会使输出更随机。\n",
    "    max_tokens: 这决定模型输出的最大的 token 数。\n",
    "    '''\n",
    "    response = client.chat.completions.create(\n",
    "        model=model,\n",
    "        messages=messages,\n",
    "        temperature=temperature, # 这决定模型输出的随机程度\n",
    "        max_tokens=max_tokens, # 这决定模型输出的最大的 token 数\n",
    "    )\n",
    "    return response.choices[0].message.content"
   ]
  },
  {
   "cell_type": "code",
   "execution_count": null,
   "id": "b1258ddf-dbae-4baf-86a3-a3b8ff7f9c51",
   "metadata": {},
   "outputs": [],
   "source": [
    "# 对用户指令进行分类\n",
    "# 在这里，我们使用系统消息 （system_message） 作为系统的全局指导，并选用 # 作为分隔符。\n",
    "# 分隔符是一种用于区分指令或输出中不同部分的工具，它能帮助模型识别各个部分，从而提高系统在执\n",
    "# 行特定任务时的准确性和效率。\n",
    "# 在这个例子中，我们选择使用 # 作为分隔符。\n",
    "# 是一个理想的分隔符，因为它可以被视为一个独立的 token。"
   ]
  },
  {
   "cell_type": "code",
   "execution_count": 2,
   "id": "4b1291ed-3093-4d01-ad4c-b7e46d58ab40",
   "metadata": {},
   "outputs": [],
   "source": [
    "delimiter = \"####\""
   ]
  },
  {
   "cell_type": "code",
   "execution_count": null,
   "id": "09901717-0b18-4d34-aa88-968cc5c6a647",
   "metadata": {},
   "outputs": [],
   "source": [
    "\n",
    "# 这是我们的 system message，我们正在以下面的方式询问模型。\n",
    "system_message = f\"\"\"\n",
    "You will be provided with customer service queries. \\\n",
    "The customer service query will be delimited with \\\n",
    "{delimiter} characters.\n",
    "Classify each query into a primary category \\\n",
    "and a secondary category. \n",
    "Provide your output in json format with the \\\n",
    "keys: primary and secondary.\n",
    "\n",
    "Primary categories: Billing, Technical Support, \\\n",
    "Account Management, or General Inquiry.\n",
    "\n",
    "Billing secondary categories:\n",
    "Unsubscribe or upgrade\n",
    "Add a payment method\n",
    "Explanation for charge\n",
    "Dispute a charge\n",
    "\n",
    "Technical Support secondary categories:\n",
    "General troubleshooting\n",
    "Device compatibility\n",
    "Software updates\n",
    "\n",
    "Account Management secondary categories:\n",
    "Password reset\n",
    "Update personal information\n",
    "Close account\n",
    "Account security\n",
    "\n",
    "General Inquiry secondary categories:\n",
    "Product information\n",
    "Pricing\n",
    "Feedback\n",
    "Speak to a human\n",
    "\n",
    "\"\"\""
   ]
  },
  {
   "cell_type": "code",
   "execution_count": null,
   "id": "a01acfcc-1190-4d0e-b3cf-0d7afafff336",
   "metadata": {},
   "outputs": [],
   "source": [
    "# 这里的主要类别可以成一级类别(菜单),次要类别可以看成二级类别(菜单),相当于对一个国家先分省份(一级)\n",
    "# 之后在每个省份下划分市(二级)"
   ]
  },
  {
   "cell_type": "code",
   "execution_count": null,
   "id": "6c41ab98-1813-42cd-9ce5-7e19b6752c86",
   "metadata": {},
   "outputs": [],
   "source": [
    "# 我如何退货？|订单已经超过预计送达日期怎么办？|如何联系人工客服？\n",
    "# 这些问题都是客户服务查询，企业会根据问题的内容提供相应的解答或解决措施。"
   ]
  },
  {
   "cell_type": "code",
   "execution_count": null,
   "id": "6eda385d-7043-4d34-a43a-2eba135b922c",
   "metadata": {},
   "outputs": [],
   "source": [
    "# 在系统中，主要类别和次要类别的层级关系通常表现为：\n",
    "# 主要类别 -> 次要类别 -> 具体问题\n",
    "# 技术支持 -> 常规故障排除 -> 软件无法启动"
   ]
  },
  {
   "cell_type": "code",
   "execution_count": 3,
   "id": "89074c96-4c61-48c3-91a8-e601f8351134",
   "metadata": {},
   "outputs": [],
   "source": [
    "system_message = f\"\"\"\n",
    "你将获得客户服务查询。\n",
    "每个客户服务查询都将用{delimiter}字符分隔。\n",
    "将每个查询分类到一个主要类别和一个次要类别中。\n",
    "以 JSON 格式提供你的输出，包含以下键：primary 和 secondary。\n",
    "主要类别：计费（Billing）、技术支持（Technical Support）、账户管理（Account Management）或一般咨询（General Inquiry）。\n",
    "计费次要类别：\n",
    "取消订阅或升级（Unsubscribe or upgrade）\n",
    "添加付款方式（Add a payment method）\n",
    "收费解释（Explanation for charge）\n",
    "争议费用（Dispute a charge）\n",
    "技术支持次要类别：\n",
    "常规故障排除（General troubleshooting）\n",
    "设备兼容性（Device compatibility）\n",
    "软件更新（Software updates）\n",
    "账户管理次要类别：\n",
    "重置密码（Password reset）\n",
    "更新个人信息（Update personal information）\n",
    "关闭账户（Close account）\n",
    "账户安全（Account security）\n",
    "一般咨询次要类别：\n",
    "产品信息（Product information）\n",
    "定价（Pricing）\n",
    "反馈（Feedback）\n",
    "与人工对话（Speak to a human）\n",
    "\"\"\""
   ]
  },
  {
   "cell_type": "code",
   "execution_count": 4,
   "id": "b376108d-e88f-4492-ab60-17adc4d9f435",
   "metadata": {},
   "outputs": [
    {
     "name": "stdout",
     "output_type": "stream",
     "text": [
      "\n",
      "你将获得客户服务查询。\n",
      "每个客户服务查询都将用####字符分隔。\n",
      "将每个查询分类到一个主要类别和一个次要类别中。\n",
      "以 JSON 格式提供你的输出，包含以下键：primary 和 secondary。\n",
      "主要类别：计费（Billing）、技术支持（Technical Support）、账户管理（Account Management）或一般咨询（General Inquiry）。\n",
      "计费次要类别：\n",
      "取消订阅或升级（Unsubscribe or upgrade）\n",
      "添加付款方式（Add a payment method）\n",
      "收费解释（Explanation for charge）\n",
      "争议费用（Dispute a charge）\n",
      "技术支持次要类别：\n",
      "常规故障排除（General troubleshooting）\n",
      "设备兼容性（Device compatibility）\n",
      "软件更新（Software updates）\n",
      "账户管理次要类别：\n",
      "重置密码（Password reset）\n",
      "更新个人信息（Update personal information）\n",
      "关闭账户（Close account）\n",
      "账户安全（Account security）\n",
      "一般咨询次要类别：\n",
      "产品信息（Product information）\n",
      "定价（Pricing）\n",
      "反馈（Feedback）\n",
      "与人工对话（Speak to a human）\n",
      "\n"
     ]
    }
   ],
   "source": [
    "print(system_message) "
   ]
  },
  {
   "cell_type": "code",
   "execution_count": null,
   "id": "1c449dc6-a318-4514-beee-575441affab9",
   "metadata": {},
   "outputs": [],
   "source": [
    "# 现在我们来看一个用户消息（user message）的例子。\n",
    "# 我希望你删除我的个人资料和所有用户数据\n",
    "user_message = \"\"\"I want you to delete my profile and all of my user data\"\"\""
   ]
  },
  {
   "cell_type": "code",
   "execution_count": 5,
   "id": "274759a3-19c1-4bf1-a16c-c821855c3ff0",
   "metadata": {},
   "outputs": [],
   "source": [
    "user_message = \"\"\"我希望你删除我的个人资料和所有用户数据。\"\"\"\n",
    "# 将这个消息格式化为一个消息列表，系统消息和用户消息使用\"####\"进行分隔。\n",
    "# 我们思考一下，作为人类，这句话属于哪个类别：\"我想让您删除我的个人资料。\"\n",
    "# 这句话看上去属于\"Account Management\"，或者属于\"Close account\"。\n",
    "messages =  [  \n",
    "{'role':'system', \n",
    " 'content': system_message},    \n",
    "{'role':'user', \n",
    " 'content': f\"{delimiter}{user_message}{delimiter}\"},  \n",
    "]"
   ]
  },
  {
   "cell_type": "code",
   "execution_count": 6,
   "id": "cd14bd5a-dbb1-4791-99e8-5871d2b29f01",
   "metadata": {},
   "outputs": [
    {
     "name": "stdout",
     "output_type": "stream",
     "text": [
      "{'role': 'user', 'content': '####我希望你删除我的个人资料和所有用户数据。####'}\n"
     ]
    }
   ],
   "source": [
    "print(messages[1])"
   ]
  },
  {
   "cell_type": "code",
   "execution_count": 9,
   "id": "4103606a-ef95-4234-87bc-300fe42d2d2a",
   "metadata": {},
   "outputs": [
    {
     "data": {
      "text/plain": [
       "2"
      ]
     },
     "execution_count": 9,
     "metadata": {},
     "output_type": "execute_result"
    }
   ],
   "source": [
    "len(messages)"
   ]
  },
  {
   "cell_type": "code",
   "execution_count": 10,
   "id": "b452181a-85eb-428a-8a08-22ba9cf06818",
   "metadata": {},
   "outputs": [
    {
     "name": "stdout",
     "output_type": "stream",
     "text": [
      "\n",
      "你将获得客户服务查询。\n",
      "每个客户服务查询都将用####字符分隔。\n",
      "将每个查询分类到一个主要类别和一个次要类别中。\n",
      "以 JSON 格式提供你的输出，包含以下键：primary 和 secondary。\n",
      "主要类别：计费（Billing）、技术支持（Technical Support）、账户管理（Account Management）或一般咨询（General Inquiry）。\n",
      "计费次要类别：\n",
      "取消订阅或升级（Unsubscribe or upgrade）\n",
      "添加付款方式（Add a payment method）\n",
      "收费解释（Explanation for charge）\n",
      "争议费用（Dispute a charge）\n",
      "技术支持次要类别：\n",
      "常规故障排除（General troubleshooting）\n",
      "设备兼容性（Device compatibility）\n",
      "软件更新（Software updates）\n",
      "账户管理次要类别：\n",
      "重置密码（Password reset）\n",
      "更新个人信息（Update personal information）\n",
      "关闭账户（Close account）\n",
      "账户安全（Account security）\n",
      "一般咨询次要类别：\n",
      "产品信息（Product information）\n",
      "定价（Pricing）\n",
      "反馈（Feedback）\n",
      "与人工对话（Speak to a human）\n",
      "\n",
      "####我希望你删除我的个人资料和所有用户数据。####\n"
     ]
    }
   ],
   "source": [
    "lst=[print(i['content']) for i in messages]"
   ]
  },
  {
   "cell_type": "code",
   "execution_count": null,
   "id": "55bfd1f9-d7f6-478e-bf26-943fd7d2f439",
   "metadata": {},
   "outputs": [],
   "source": [
    "# 让我们看看模型是如何思考的\n",
    "# 模型的分类是将\"Account Management\"作为\"primary\"，\"Close account\"作为\"secondary\"。\n",
    "# 请求结构化输出（如 JSON）的好处是，您可以轻松地将其读入某个对象中，例如 Python 中的字典。如果您使用其\n",
    "# 他语言，也可以转换为其他对象，然后输入到后续步骤中。"
   ]
  },
  {
   "cell_type": "code",
   "execution_count": 11,
   "id": "adbfa8bd-6ca0-477b-b755-9751076a39f2",
   "metadata": {},
   "outputs": [
    {
     "name": "stdout",
     "output_type": "stream",
     "text": [
      "{\n",
      "  \"primary\": \"账户管理\",\n",
      "  \"secondary\": \"关闭账户\"\n",
      "}\n"
     ]
    }
   ],
   "source": [
    "response = get_completion_from_messages(messages)\n",
    "print(response)"
   ]
  },
  {
   "cell_type": "code",
   "execution_count": null,
   "id": "7b510755-9efa-4e14-9c85-3d6e52f0a509",
   "metadata": {},
   "outputs": [],
   "source": [
    "# 这是另一个用户消息: \"告诉我更多关于你们的平板电视的信息\"\n",
    "# 我们运用相同的消息列表来获取模型的响应，然后打印出来。\n",
    "# 这里返回了另一个分类结果，并且看起来应该是正确的。"
   ]
  },
  {
   "cell_type": "code",
   "execution_count": null,
   "id": "59478a93-efe2-45c6-9f99-b80c54c13173",
   "metadata": {},
   "outputs": [],
   "source": [
    "user_message = \"\"\"Tell me more about your flat screen tvs\"\"\"\n",
    "messages =  [  \n",
    "{'role':'system', \n",
    " 'content': system_message},    \n",
    "{'role':'user', \n",
    " 'content': f\"{delimiter}{user_message}{delimiter}\"},  \n",
    "] \n",
    "response = get_completion_from_messages(messages)\n",
    "print(response)"
   ]
  },
  {
   "cell_type": "code",
   "execution_count": 12,
   "id": "1c416943-5a2c-40b8-a46a-70c5f729f2bf",
   "metadata": {},
   "outputs": [
    {
     "name": "stdout",
     "output_type": "stream",
     "text": [
      "{\n",
      "  \"primary\": \"一般咨询\",\n",
      "  \"secondary\": \"产品信息\"\n",
      "}\n"
     ]
    }
   ],
   "source": [
    "user_message = f\"\"\"\\\n",
    "告诉我更多有关你们的平板电脑的信息\"\"\"\n",
    "messages =  [  \n",
    "{'role':'system', \n",
    " 'content': system_message},    \n",
    "{'role':'user', \n",
    " 'content': f\"{delimiter}{user_message}{delimiter}\"},  \n",
    "] \n",
    "response = get_completion_from_messages(messages)\n",
    "print(response)"
   ]
  },
  {
   "cell_type": "code",
   "execution_count": null,
   "id": "8fa82248-53aa-469e-9eba-ef9e040b773f",
   "metadata": {},
   "outputs": [],
   "source": [
    "# 因此，根据客户咨询的分类，我们现在可以提供一套更具体的指令来处理后续步骤。\n",
    "# 在这种情况下，我们可能会添加关于电视的额外信息，而在其他情况下，我们可能希望提供关闭账户的链接或类似的内容。\n",
    "# 在接下来的章节中，我们将进一步了解处理输入的不同方法\n",
    "# 在下一章中，我们将探讨更多关于评估输入的方法，特别是如何确保用户以负责任的方式使用系统。"
   ]
  }
 ],
 "metadata": {
  "kernelspec": {
   "display_name": "Python 3 (ipykernel)",
   "language": "python",
   "name": "python3"
  },
  "language_info": {
   "codemirror_mode": {
    "name": "ipython",
    "version": 3
   },
   "file_extension": ".py",
   "mimetype": "text/x-python",
   "name": "python",
   "nbconvert_exporter": "python",
   "pygments_lexer": "ipython3",
   "version": "3.8.20"
  }
 },
 "nbformat": 4,
 "nbformat_minor": 5
}
