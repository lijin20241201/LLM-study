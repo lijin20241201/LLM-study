{
 "cells": [
  {
   "cell_type": "code",
   "execution_count": null,
   "id": "249240b4-8736-4866-8ca8-baff1644aca6",
   "metadata": {},
   "outputs": [],
   "source": [
    "# 思维链（Chain of Thought Reasoning）通常是一次性给出所有提示或问题，并要求模型分步推理。\n",
    "# 链式推理（Chain of Thought）则强调将问题拆分成多个部分，分阶段进行推理"
   ]
  },
  {
   "cell_type": "code",
   "execution_count": null,
   "id": "cced9513-9ea1-4b37-97ae-bc666a2f2e07",
   "metadata": {},
   "outputs": [],
   "source": [
    "# 在上一章中，了解了如何评估 LLM 模型在 有明确正确答案 的情况下的输出，我们可以编写一个函数来判断 LLM 输出是否正确地分类并列出产品。\n",
    "# 然而，如果 LLM 用于生成文本，而不仅仅是分类问题的答案呢？接下来，我们将探讨如何评估这种类型的 LLM 输出的方法。"
   ]
  },
  {
   "cell_type": "code",
   "execution_count": 1,
   "id": "c2ee946d-0b04-4d89-ab2f-4c144cd18f53",
   "metadata": {},
   "outputs": [],
   "source": [
    "# 导入 OpenAI API\n",
    "import os\n",
    "import openai\n",
    "import sys\n",
    "# sys.path.append('../..')\n",
    "import utils_en\n",
    "import utils_zh"
   ]
  },
  {
   "cell_type": "code",
   "execution_count": 2,
   "id": "dcb1491f-b3a5-455a-bdf2-178cc6623fcb",
   "metadata": {},
   "outputs": [],
   "source": [
    "from openai import OpenAI\n",
    "client = OpenAI()\n",
    "def get_completion_from_messages(messages, \n",
    "                                 model=\"gpt-4o-mini\", \n",
    "                                 temperature=0.5, \n",
    "                                 max_tokens=500):\n",
    "    '''\n",
    "    封装一个支持更多参数的自定义访问 gpt-4o-mini 的函数\n",
    "    参数: \n",
    "    messages: 这是一个消息列表，每个消息都是一个字典，包含 role(角色）和 content(内容)。角色可以是'system'、'user' 或 'assistant’，内容是角色的消息。\n",
    "    model: 调用的模型，默认为 gpt-4o-mini(ChatGPT)，有内测资格的用户可以选择 gpt-4\n",
    "    temperature: 这决定模型输出的随机程度，默认为0.5，增加温度会使输出更随机。\n",
    "    max_tokens: 这决定模型输出的最大的 token 数。\n",
    "    '''\n",
    "    response = client.chat.completions.create(\n",
    "        model=model,\n",
    "        messages=messages,\n",
    "        temperature=temperature, # 这决定模型输出的随机程度\n",
    "        max_tokens=max_tokens, # 这决定模型输出的最大的 token 数\n",
    "    )\n",
    "    return response.choices[0].message.content"
   ]
  },
  {
   "cell_type": "code",
   "execution_count": 21,
   "id": "ff693162-81a5-4365-8955-99acb192f281",
   "metadata": {},
   "outputs": [],
   "source": [
    "# 运行问答系统获得一个复杂回答\n",
    "# 用户消息\n",
    "customer_msg = f\"\"\"\n",
    "tell me about the smartx pro phone and the fotosnap camera, the dslr one.\n",
    "Also, what TVs or TV related products do you have?\"\"\"\n",
    "# 从问题中抽取商品名\n",
    "products_by_category = utils_en.get_products_from_query(customer_msg)\n",
    "# 将商品名转化为列表\n",
    "category_and_product_list = utils_en.read_string_to_list(products_by_category)\n",
    "# 查找商品对应的信息\n",
    "product_info = utils_en.get_mentioned_product_info(category_and_product_list)\n",
    "# 由信息生成回答\n",
    "assistant_answer = utils_en.answer_user_msg(user_msg=customer_msg, product_info=product_info)"
   ]
  },
  {
   "cell_type": "code",
   "execution_count": null,
   "id": "938c2bca-ec5f-4b02-bf7d-f92af0695887",
   "metadata": {},
   "outputs": [],
   "source": [
    "# 所谓链式是指在整个处理过程中会多次调用模型生成回复，把事情分步处理\n",
    "# 所谓思维链是指让模型处理问题时分步骤进行推理,但是整个处理过程还是一次调用"
   ]
  },
  {
   "cell_type": "code",
   "execution_count": 3,
   "id": "8ba1a4c6-eab7-493c-99c5-07ca5159a4d1",
   "metadata": {},
   "outputs": [
    {
     "name": "stdout",
     "output_type": "stream",
     "text": [
      "关于您提到的产品：\n",
      "\n",
      "1. **SmartX ProPhone**\n",
      "   - **显示**: 6.1英寸\n",
      "   - **存储**: 128GB\n",
      "   - **相机**: 12MP双摄\n",
      "   - **网络**: 5G\n",
      "   - **价格**: 899.99元\n",
      "   - **描述**: 一款功能强大的智能手机，配备先进的相机功能。\n",
      "   - **评分**: 4.6/5\n",
      "\n",
      "2. **FotoSnap DSLR Camera**\n",
      "   - **传感器**: 24.2MP\n",
      "   - **视频**: 1080p\n",
      "   - **显示屏**: 3英寸LCD\n",
      "   - **镜头**: 可更换镜头\n",
      "   - **价格**: 599.99元\n",
      "   - **描述**: 捕捉惊人的照片和视频，这款多功能单反相机是您的理想选择。\n",
      "   - **评分**: 4.7/5\n",
      "\n",
      "关于电视方面，我们有几款不错的选择：\n",
      "\n",
      "1. **CineView 4K TV**\n",
      "   - **尺寸**: 55英寸\n",
      "   - **分辨率**: 4K\n",
      "   - **价格**: 599.99元\n",
      "   - **评分**: 4.8/5\n",
      "\n",
      "2. **CineView 8K TV**\n",
      "   - **尺寸**: 65英寸\n",
      "   - **分辨率**: 8K\n",
      "   - **价格**: 2999.99元\n",
      "   - **评分**: 4.9/5\n",
      "\n",
      "3. **CineView OLED TV**\n",
      "   - **尺寸**: 55英寸\n",
      "   - **分辨率**: 4K\n",
      "   - **价格**: 1499.99元\n",
      "   - **评分**: 4.7/5\n",
      "\n",
      "您对哪款产品最感兴趣呢？或者您有其他问题吗？\n"
     ]
    }
   ],
   "source": [
    "'''\n",
    "注意：限于模型对中文理解能力较弱，中文 Prompt 可能会随机出现不成功，可以多次运行；也非常欢迎同学探究更稳定的中文 Prompt\n",
    "'''\n",
    "# 用户消息\n",
    "customer_msg = f\"\"\"\n",
    "告诉我有关 the smartx pro phone 和 the fotosnap camera, the dslr one 的信息。\n",
    "另外，你们这有什么 TVs ？\"\"\"\n",
    "# 第一次调用模型从问题中抽取商品和对应的类别名\n",
    "products_by_category = utils_zh.get_products_from_query(customer_msg)\n",
    "# 将商品和对应的类别名转化为列表形式\n",
    "category_and_product_list = utils_zh.read_string_to_list(products_by_category)\n",
    "# 查找商品对应的具体信息\n",
    "product_info = utils_zh.get_mentioned_product_info(category_and_product_list)\n",
    "# 由用户消息和上面提取的商品信息,再次调用助手产生人性化的回复\n",
    "assistant_answer = utils_zh.answer_user_msg(user_msg=customer_msg, product_info=product_info)\n",
    "print(assistant_answer) "
   ]
  },
  {
   "cell_type": "code",
   "execution_count": null,
   "id": "86bd0925-11e0-4360-98af-f3d2544be93b",
   "metadata": {},
   "outputs": [],
   "source": [
    "# 使用 GPT 评估回答是否正确\n",
    "# 我们希望您能从中学到一个设计模式，即当您可以指定一个评估 LLM 输出的标准列表时，您实际上可以使用另一个 API 调用来评估您的第一个 LLM 输出"
   ]
  },
  {
   "cell_type": "code",
   "execution_count": 4,
   "id": "55fa98b4-116c-4307-a3d6-f093223fb337",
   "metadata": {},
   "outputs": [
    {
     "data": {
      "text/plain": [
       "'\\n告诉我有关 the smartx pro phone 和 the fotosnap camera, the dslr one 的信息。\\n另外，你们这有什么 TVs ？'"
      ]
     },
     "metadata": {},
     "output_type": "display_data"
    },
    {
     "data": {
      "text/plain": [
       "[{'name': 'SmartX ProPhone',\n",
       "  'category': 'Smartphones and Accessories',\n",
       "  'brand': 'SmartX',\n",
       "  'model_number': 'SX-PP10',\n",
       "  'warranty': '1 year',\n",
       "  'rating': 4.6,\n",
       "  'features': ['6.1-inch display', '128GB storage', '12MP dual camera', '5G'],\n",
       "  'description': 'A powerful smartphone with advanced camera features.',\n",
       "  'price': 899.99},\n",
       " {'name': 'FotoSnap DSLR Camera',\n",
       "  'category': 'Cameras and Camcorders',\n",
       "  'brand': 'FotoSnap',\n",
       "  'model_number': 'FS-DSLR200',\n",
       "  'warranty': '1 year',\n",
       "  'rating': 4.7,\n",
       "  'features': ['24.2MP sensor',\n",
       "   '1080p video',\n",
       "   '3-inch LCD',\n",
       "   'Interchangeable lenses'],\n",
       "  'description': 'Capture stunning photos and videos with this versatile DSLR camera.',\n",
       "  'price': 599.99},\n",
       " {'name': 'CineView 4K TV',\n",
       "  'category': 'Televisions and Home Theater Systems',\n",
       "  'brand': 'CineView',\n",
       "  'model_number': 'CV-4K55',\n",
       "  'warranty': '2 years',\n",
       "  'rating': 4.8,\n",
       "  'features': ['55-inch display', '4K resolution', 'HDR', 'Smart TV'],\n",
       "  'description': 'A stunning 4K TV with vibrant colors and smart features.',\n",
       "  'price': 599.99},\n",
       " {'name': 'SoundMax Home Theater',\n",
       "  'category': 'Televisions and Home Theater Systems',\n",
       "  'brand': 'SoundMax',\n",
       "  'model_number': 'SM-HT100',\n",
       "  'warranty': '1 year',\n",
       "  'rating': 4.4,\n",
       "  'features': ['5.1 channel',\n",
       "   '1000W output',\n",
       "   'Wireless subwoofer',\n",
       "   'Bluetooth'],\n",
       "  'description': 'A powerful home theater system for an immersive audio experience.',\n",
       "  'price': 399.99},\n",
       " {'name': 'CineView 8K TV',\n",
       "  'category': 'Televisions and Home Theater Systems',\n",
       "  'brand': 'CineView',\n",
       "  'model_number': 'CV-8K65',\n",
       "  'warranty': '2 years',\n",
       "  'rating': 4.9,\n",
       "  'features': ['65-inch display', '8K resolution', 'HDR', 'Smart TV'],\n",
       "  'description': 'Experience the future of television with this stunning 8K TV.',\n",
       "  'price': 2999.99},\n",
       " {'name': 'SoundMax Soundbar',\n",
       "  'category': 'Televisions and Home Theater Systems',\n",
       "  'brand': 'SoundMax',\n",
       "  'model_number': 'SM-SB50',\n",
       "  'warranty': '1 year',\n",
       "  'rating': 4.3,\n",
       "  'features': ['2.1 channel',\n",
       "   '300W output',\n",
       "   'Wireless subwoofer',\n",
       "   'Bluetooth'],\n",
       "  'description': \"Upgrade your TV's audio with this sleek and powerful soundbar.\",\n",
       "  'price': 199.99},\n",
       " {'name': 'CineView OLED TV',\n",
       "  'category': 'Televisions and Home Theater Systems',\n",
       "  'brand': 'CineView',\n",
       "  'model_number': 'CV-OLED55',\n",
       "  'warranty': '2 years',\n",
       "  'rating': 4.7,\n",
       "  'features': ['55-inch display', '4K resolution', 'HDR', 'Smart TV'],\n",
       "  'description': 'Experience true blacks and vibrant colors with this OLED TV.',\n",
       "  'price': 1499.99}]"
      ]
     },
     "metadata": {},
     "output_type": "display_data"
    }
   ],
   "source": [
    "display(customer_msg, product_info)"
   ]
  },
  {
   "cell_type": "code",
   "execution_count": 22,
   "id": "5fb588c8-d122-4e93-a115-a31ef2c38d89",
   "metadata": {},
   "outputs": [],
   "source": [
    "# 问题、上下文\n",
    "cust_prod_info = {\n",
    "    'customer_msg': customer_msg,\n",
    "    'context': product_info\n",
    "}"
   ]
  },
  {
   "cell_type": "code",
   "execution_count": 23,
   "id": "4dab628a-ad82-4039-bc14-c6c503b6313c",
   "metadata": {},
   "outputs": [],
   "source": [
    "def eval_with_rubric(test_set, assistant_answer):\n",
    "    \"\"\"\n",
    "    使用 GPT API 评估生成的回答\n",
    "\n",
    "    参数：\n",
    "    test_set: 测试集\n",
    "    assistant_answer: 助手的回复\n",
    "    \"\"\"\n",
    "\n",
    "    cust_msg = test_set['customer_msg']\n",
    "    context = test_set['context']\n",
    "    completion = assistant_answer\n",
    "    \n",
    "    # 要求 GPT 作为一个助手评估回答正确性\n",
    "    system_message = \"\"\"\\\n",
    "    You are an assistant that evaluates how well the customer service agent \\\n",
    "    answers a user question by looking at the context that the customer service \\\n",
    "    agent is using to generate its response. \n",
    "    \"\"\"\n",
    "\n",
    "    # 具体指令\n",
    "    user_message = f\"\"\"\\\n",
    "You are evaluating a submitted answer to a question based on the context \\\n",
    "that the agent uses to answer the question.\n",
    "Here is the data:\n",
    "    [BEGIN DATA]\n",
    "    ************\n",
    "    [Question]: {cust_msg}\n",
    "    ************\n",
    "    [Context]: {context}\n",
    "    ************\n",
    "    [Submission]: {completion}\n",
    "    ************\n",
    "    [END DATA]\n",
    "\n",
    "Compare the factual content of the submitted answer with the context. \\\n",
    "Ignore any differences in style, grammar, or punctuation.\n",
    "Answer the following questions:\n",
    "    - Is the Assistant response based only on the context provided? (Y or N)\n",
    "    - Does the answer include information that is not provided in the context? (Y or N)\n",
    "    - Is there any disagreement between the response and the context? (Y or N)\n",
    "    - Count how many questions the user asked. (output a number)\n",
    "    - For each question that the user asked, is there a corresponding answer to it?\n",
    "      Question 1: (Y or N)\n",
    "      Question 2: (Y or N)\n",
    "      ...\n",
    "      Question N: (Y or N)\n",
    "    - Of the number of questions asked, how many of these questions were addressed by the answer? (output a number)\n",
    "\"\"\"\n",
    "\n",
    "    messages = [\n",
    "        {'role': 'system', 'content': system_message},\n",
    "        {'role': 'user', 'content': user_message}\n",
    "    ]\n",
    "\n",
    "    response = get_completion_from_messages(messages)\n",
    "    return response"
   ]
  },
  {
   "cell_type": "code",
   "execution_count": 7,
   "id": "8243536c-3bc1-4775-9540-df35e366205a",
   "metadata": {},
   "outputs": [],
   "source": [
    "def eval_with_rubric(test_set, assistant_answer):\n",
    "    \"\"\"\n",
    "    使用 GPT API 评估生成的回答\n",
    "\n",
    "    参数：\n",
    "    test_set: 测试集\n",
    "    assistant_answer: 助手的回复\n",
    "    \"\"\"\n",
    "    \n",
    "    cust_msg = test_set['customer_msg'] # 用户输入的查询\n",
    "    context = test_set['context'] # 上下文(就是根据用户查询调用模型生成的相关问题的商品信息)\n",
    "    completion = assistant_answer # 模型根据用户查询和调用模型查找到的信息,生成的友好回复\n",
    "    # 人设\n",
    "    system_message = \"\"\"\\\n",
    "    你是一位助理，通过查看客户服务代理使用的上下文来评估客户服务代理回答用户问题的情况。\n",
    "    \"\"\"\n",
    "    # 具体指令\n",
    "    user_message = f\"\"\"\\\n",
    "    你正在根据代理使用的上下文评估对问题的提交答案。以下是数据：\n",
    "    [开始]\n",
    "    ************\n",
    "    [用户问题]: {cust_msg}\n",
    "    ************\n",
    "    [使用的上下文]: {context}\n",
    "    ************\n",
    "    [客户代理的回答]: {completion}\n",
    "    ************\n",
    "    [结束]\n",
    "\n",
    "    请将提交的答案的事实内容与上下文进行比较，忽略样式、语法或标点符号上的差异。\n",
    "    回答以下问题：\n",
    "    助手的回应是否只基于所提供的上下文？（是或否）\n",
    "    回答中是否包含上下文中未提供的信息？（是或否）\n",
    "    回应与上下文之间是否存在任何不一致之处？（是或否）\n",
    "    计算用户提出了多少个问题。（输出一个数字）\n",
    "    对于用户提出的每个问题，是否有相应的回答？\n",
    "    问题1：（是或否）\n",
    "    问题2：（是或否）\n",
    "    ...\n",
    "    问题N：（是或否）\n",
    "    在提出的问题数量中，有多少个问题在回答中得到了回应？（输出一个数字）\n",
    "\"\"\"\n",
    "\n",
    "    messages = [\n",
    "        {'role': 'system', 'content': system_message},\n",
    "        {'role': 'user', 'content': user_message}\n",
    "    ]\n",
    "\n",
    "    response = get_completion_from_messages(messages)\n",
    "    return response"
   ]
  },
  {
   "cell_type": "code",
   "execution_count": null,
   "id": "834a396a-b345-4f06-9b06-1c01a9117975",
   "metadata": {},
   "outputs": [],
   "source": [
    "# 技术型模型用于基础信息检索。\n",
    "# 社交型模型用于处理人性化和友好的服务回答。\n",
    "# 检验型模型用于确保回答的质量和准确性。\n",
    "# 这种分工明确的模型设计，能确保在提供服务时既有准确的技术支持，也能确保用户体验，同时又通过评估机制进行验证，确保服务质量。"
   ]
  },
  {
   "cell_type": "code",
   "execution_count": null,
   "id": "e271f4f7-860c-4e0b-9810-6e5fecadc6ac",
   "metadata": {},
   "outputs": [],
   "source": [
    "# 到目前细分的话一共调用了三个模型,第一个是根据用户输入查询相关商品粗略信息的技术型模型\n",
    "# 第二个是根据用户查询和查询到的商品信息生成友好服务的社交型模型\n",
    "# 第三个是根据用户查询和技术模型提供的商品信息和社交模型的回复对社交模型的回复进行评估的检验型模型"
   ]
  },
  {
   "cell_type": "code",
   "execution_count": 24,
   "id": "b6ac07b0-9be5-4e36-87ec-2dc8db44ec5d",
   "metadata": {},
   "outputs": [
    {
     "name": "stdout",
     "output_type": "stream",
     "text": [
      "\n",
      "tell me about the smartx pro phone and the fotosnap camera, the dslr one.\n",
      "Also, what TVs or TV related products do you have?\n"
     ]
    }
   ],
   "source": [
    "print(customer_msg)"
   ]
  },
  {
   "cell_type": "code",
   "execution_count": 25,
   "id": "0570f40d-d084-4144-80a1-6daf3b20bcba",
   "metadata": {},
   "outputs": [
    {
     "name": "stdout",
     "output_type": "stream",
     "text": [
      "- Is the Assistant response based only on the context provided? (Y)\n",
      "- Does the answer include information that is not provided in the context? (N)\n",
      "- Is there any disagreement between the response and the context? (N)\n",
      "- Count how many questions the user asked. (2)\n",
      "- For each question that the user asked, is there a corresponding answer to it?\n",
      "  Question 1: (Y)\n",
      "  Question 2: (Y)\n",
      "- Of the number of questions asked, how many of these questions were addressed by the answer? (2)\n"
     ]
    }
   ],
   "source": [
    "evaluation_output = eval_with_rubric(cust_prod_info, assistant_answer)\n",
    "print(evaluation_output)"
   ]
  },
  {
   "cell_type": "code",
   "execution_count": null,
   "id": "ce9841c6-41b8-4a01-a898-a2f50ac860b3",
   "metadata": {},
   "outputs": [],
   "source": [
    "# 给出一个标准回答，要求其评估生成回答与标准回答的差距\n",
    "# 在经典的自然语言处理技术中，有一些传统的度量标准用于衡量 LLM 输出与人类专家编写的输出的相似度。例如，BLUE 分数可用于衡量两段文本的相似程度。\n",
    "# 实际上有一种更好的方法，即使用 Prompt。您可以指定 Prompt，使用 Prompt 来比较由 LLM 自动生成的客户服务代理响应与人工理想响应的匹配程度。"
   ]
  },
  {
   "cell_type": "code",
   "execution_count": 26,
   "id": "52c214b8-f93b-4955-82ac-255ee72c7f26",
   "metadata": {},
   "outputs": [],
   "source": [
    "# 用户问题和标准答案的字典\n",
    "test_set_ideal = {\n",
    "    'customer_msg': \"\"\"\\\n",
    "tell me about the smartx pro phone and the fotosnap camera, the dslr one.\n",
    "Also, what TVs or TV related products do you have?\"\"\",\n",
    "    'ideal_answer':\"\"\"\\\n",
    "Of course!  The SmartX ProPhone is a powerful \\\n",
    "smartphone with advanced camera features. \\\n",
    "For instance, it has a 12MP dual camera. \\\n",
    "Other features include 5G wireless and 128GB storage. \\\n",
    "It also has a 6.1-inch display.  The price is $899.99.\n",
    "\n",
    "The FotoSnap DSLR Camera is great for \\\n",
    "capturing stunning photos and videos. \\\n",
    "Some features include 1080p video, \\\n",
    "3-inch LCD, a 24.2MP sensor, \\\n",
    "and interchangeable lenses. \\\n",
    "The price is 599.99.\n",
    "\n",
    "For TVs and TV related products, we offer 3 TVs \\\n",
    "\n",
    "\n",
    "All TVs offer HDR and Smart TV.\n",
    "\n",
    "The CineView 4K TV has vibrant colors and smart features. \\\n",
    "Some of these features include a 55-inch display, \\\n",
    "'4K resolution. It's priced at 599.\n",
    "\n",
    "The CineView 8K TV is a stunning 8K TV. \\\n",
    "Some features include a 65-inch display and \\\n",
    "8K resolution.  It's priced at 2999.99\n",
    "\n",
    "The CineView OLED TV lets you experience vibrant colors. \\\n",
    "Some features include a 55-inch display and 4K resolution. \\\n",
    "It's priced at 1499.99.\n",
    "\n",
    "We also offer 2 home theater products, both which include bluetooth.\\\n",
    "The SoundMax Home Theater is a powerful home theater system for \\\n",
    "an immmersive audio experience.\n",
    "Its features include 5.1 channel, 1000W output, and wireless subwoofer.\n",
    "It's priced at 399.99.\n",
    "\n",
    "The SoundMax Soundbar is a sleek and powerful soundbar.\n",
    "It's features include 2.1 channel, 300W output, and wireless subwoofer.\n",
    "It's priced at 199.99\n",
    "\n",
    "Are there any questions additional you may have about these products \\\n",
    "that you mentioned here?\n",
    "Or may do you have other questions I can help you with?\n",
    "    \"\"\"\n",
    "}"
   ]
  },
  {
   "cell_type": "code",
   "execution_count": 12,
   "id": "3d8fc1eb-b5a8-4dbc-92ae-b7911e368655",
   "metadata": {},
   "outputs": [],
   "source": [
    "'''基于中文Prompt的验证集'''\n",
    "test_set_ideal = {\n",
    "    'customer_msg': \"\"\"\\\n",
    "告诉我有关 the smartx pro phone 和 the fotosnap camera, the dslr one 的信息。\\n另外，你们这有什么 TVs ？\"\"\",\n",
    "    'ideal_answer':\"\"\"\\\n",
    "SmartX ProPhone是一款功能强大的智能手机，具有6.1英寸的显示屏，128GB的存储空间，12MP双摄像头和5G网络。它的价格为899.99美元，保修期为1年。\n",
    "FotoSnap DSLR相机是一款功能强大的相机，具有24.2MP传感器，1080p视频，3英寸LCD屏幕和可更换镜头。它的价格为599.99美元，保修期为1年。\n",
    "我们有多种电视可供选择，包括CineView 4K电视，CineView 8K电视和CineView OLED电视。CineView 4K电视具有55英寸的显示屏，4K分辨率，HDR和智能电视功能，价格为599.99美元，保修期为2年。CineView 8K电视具有65英寸的显示屏，8K分辨率，HDR和智能电视功能，价格为2999.99美元，保修期为2年。CineView OLED电视具有55英寸的显示屏，4K分辨率，HDR和智能电视功能，价格为1499.99美元，保修期为2年\n",
    "    \"\"\"\n",
    "}"
   ]
  },
  {
   "cell_type": "code",
   "execution_count": 14,
   "id": "97141f5b-2be8-49f6-abf4-8c3a3a3969db",
   "metadata": {},
   "outputs": [
    {
     "name": "stdout",
     "output_type": "stream",
     "text": [
      "{'customer_msg': '告诉我有关 the smartx pro phone 和 the fotosnap camera, the dslr one 的信息。\\n另外，你们这有什么 TVs ？', 'ideal_answer': 'SmartX ProPhone是一款功能强大的智能手机，具有6.1英寸的显示屏，128GB的存储空间，12MP双摄像头和5G网络。它的价格为899.99美元，保修期为1年。\\nFotoSnap DSLR相机是一款功能强大的相机，具有24.2MP传感器，1080p视频，3英寸LCD屏幕和可更换镜头。它的价格为599.99美元，保修期为1年。\\n我们有多种电视可供选择，包括CineView 4K电视，CineView 8K电视和CineView OLED电视。CineView 4K电视具有55英寸的显示屏，4K分辨率，HDR和智能电视功能，价格为599.99美元，保修期为2年。CineView 8K电视具有65英寸的显示屏，8K分辨率，HDR和智能电视功能，价格为2999.99美元，保修期为2年。CineView OLED电视具有55英寸的显示屏，4K分辨率，HDR和智能电视功能，价格为1499.99美元，保修期为2年\\n    '}\n"
     ]
    }
   ],
   "source": [
    "print(test_set_ideal)"
   ]
  },
  {
   "cell_type": "code",
   "execution_count": 27,
   "id": "babfab2c-6771-4f0e-96a0-d944fce7c21d",
   "metadata": {},
   "outputs": [],
   "source": [
    "def eval_vs_ideal(test_set, assistant_answer):\n",
    "    \"\"\"\n",
    "    评估回复是否与理想答案匹配\n",
    "\n",
    "    参数：\n",
    "    test_set: 测试集\n",
    "    assistant_answer: 助手的回复\n",
    "    \"\"\"\n",
    "    cust_msg = test_set['customer_msg']\n",
    "    ideal = test_set['ideal_answer']\n",
    "    completion = assistant_answer\n",
    "    \n",
    "    system_message = \"\"\"\\\n",
    "    You are an assistant that evaluates how well the customer service agent \\\n",
    "    answers a user question by comparing the response to the ideal (expert) response\n",
    "    Output a single letter and nothing else. \n",
    "    \"\"\"\n",
    "\n",
    "    user_message = f\"\"\"\\\n",
    "You are comparing a submitted answer to an expert answer on a given question. Here is the data:\n",
    "    [BEGIN DATA]\n",
    "    ************\n",
    "    [Question]: {cust_msg}\n",
    "    ************\n",
    "    [Expert]: {ideal}\n",
    "    ************\n",
    "    [Submission]: {completion}\n",
    "    ************\n",
    "    [END DATA]\n",
    "\n",
    "Compare the factual content of the submitted answer with the expert answer. Ignore any differences in style, grammar, or punctuation.\n",
    "    The submitted answer may either be a subset or superset of the expert answer, or it may conflict with it. Determine which case applies. Answer the question by selecting one of the following options:\n",
    "    (A) The submitted answer is a subset of the expert answer and is fully consistent with it.\n",
    "    (B) The submitted answer is a superset of the expert answer and is fully consistent with it.\n",
    "    (C) The submitted answer contains all the same details as the expert answer.\n",
    "    (D) There is a disagreement between the submitted answer and the expert answer.\n",
    "    (E) The answers differ, but these differences don't matter from the perspective of factuality.\n",
    "  choice_strings: ABCDE\n",
    "\"\"\"\n",
    "\n",
    "    messages = [\n",
    "        {'role': 'system', 'content': system_message},\n",
    "        {'role': 'user', 'content': user_message}\n",
    "    ]\n",
    "\n",
    "    response = get_completion_from_messages(messages)\n",
    "    return response"
   ]
  },
  {
   "cell_type": "code",
   "execution_count": null,
   "id": "580a251a-7833-4adf-af34-2360cc1c2773",
   "metadata": {},
   "outputs": [],
   "source": [
    "# 子集与超集的关系：如果A是B的子集，那么B就是A的超集，反之亦然。\n",
    "# 超集与子集的区别：超集的元素多于子集，或者二者完全相同（即相等）。子集只能包含超集中的一部分或全部元素。\n",
    "# 对应到你的问题：\n",
    "# (A) 提交的答案是专家答案的子集，并且与之完全一致：提交的答案包含专家答案中的所有细节，但没有额外的信息，且没有差异。\n",
    "# (B) 提交的答案是专家答案的超集，并且与之完全一致：提交的答案包含专家答案的所有细节，并且提供了额外的信息，且没有差异。\n",
    "# (C) 提交的答案包含与专家答案完全相同的细节：提交的答案和专家答案内容完全相同，没有遗漏或额外信息。\n",
    "# (D) 提交的答案与专家答案存在分歧：提交的答案与专家答案存在不一致的地方，可能是事实错误或观点冲突。\n",
    "# (E) 答案存在差异，但从事实的角度来看这些差异并不重要：提交的答案与专家答案有细微差别，但这些差异不会影响答案的实质性准确性。"
   ]
  },
  {
   "cell_type": "code",
   "execution_count": 15,
   "id": "7b972253-3319-4f9f-aebb-3ffd79d6f174",
   "metadata": {},
   "outputs": [],
   "source": [
    "def eval_vs_ideal(test_set, assistant_answer):\n",
    "    \"\"\"\n",
    "    评估回复是否与理想答案匹配\n",
    "    参数：\n",
    "    test_set: 测试集\n",
    "    assistant_answer: 助手的回复\n",
    "    \"\"\"\n",
    "    cust_msg = test_set['customer_msg'] # 用户问题\n",
    "    ideal = test_set['ideal_answer'] # 标准答案\n",
    "    completion = assistant_answer # 助手回复\n",
    "    # 设定背景\n",
    "    system_message = \"\"\"\\\n",
    "    您是一位助理，通过将客户服务代理的回答与理想（专家）回答进行比较，评估客户服务代理对用户问题的回答质量。\n",
    "    请输出一个单独的字母（A 、B、C、D、E），不要包含其他内容。 \n",
    "    \"\"\"\n",
    "    # 设定用户消息:里面有问题,标准答案,助手回复的答案\n",
    "    user_message = f\"\"\"\\\n",
    "    您正在比较一个给定问题的提交答案和专家答案。数据如下:\n",
    "    [开始]\n",
    "    ************\n",
    "    [问题]: {cust_msg}\n",
    "    ************\n",
    "    [专家答案]: {ideal}\n",
    "    ************\n",
    "    [提交答案]: {completion}\n",
    "    ************\n",
    "    [结束]\n",
    "\n",
    "    比较提交答案的事实内容与专家答案。忽略样式、语法或标点符号上的差异。\n",
    "    提交的答案可能是专家答案的子集、超集，或者与之冲突。确定适用的情况，并通过选择以下选项之一回答问题：\n",
    "    （A）提交的答案是专家答案的子集，并且与之完全一致。\n",
    "    （B）提交的答案是专家答案的超集，并且与之完全一致。\n",
    "    （C）提交的答案包含与专家答案完全相同的细节。\n",
    "    （D）提交的答案与专家答案存在分歧。\n",
    "    （E）答案存在差异，但从事实的角度来看这些差异并不重要。\n",
    "    选项：ABCDE\n",
    "\"\"\"\n",
    "\n",
    "    messages = [\n",
    "        {'role': 'system', 'content': system_message},\n",
    "        {'role': 'user', 'content': user_message}\n",
    "    ]\n",
    "\n",
    "    response = get_completion_from_messages(messages)\n",
    "    return response"
   ]
  },
  {
   "cell_type": "code",
   "execution_count": null,
   "id": "9d9f71a0-59af-4090-b973-be8b8711075b",
   "metadata": {},
   "outputs": [],
   "source": [
    "# 这个评分标准来自于 OpenAI 开源评估框架，这是一个非常棒的框架，其中包含了许多评估方法，既有 OpenAI 开发人员的贡献，\n",
    "# 也有更广泛的开源社区的贡献。\n",
    "# 在这个评分标准中，我们要求 LLM 针对提交答案与专家答案进行信息内容的比较，并忽略其风格、语法和标点符号等方面的差异，\n",
    "# 但关键是我们要求它进行比较，并输出从A到E的分数，具体取决于提交的答案是否是专家答案的子集、超集或完全一致，这可能意\n",
    "# 味着它虚构或编造了一些额外的事实。\n",
    "# LLM 将选择其中最合适的描述。"
   ]
  },
  {
   "cell_type": "code",
   "execution_count": 28,
   "id": "0b9a1233-df02-4f5a-aade-d0a901008479",
   "metadata": {},
   "outputs": [
    {
     "name": "stdout",
     "output_type": "stream",
     "text": [
      "The **SmartX ProPhone** is a powerful smartphone featuring a 6.1-inch display, 128GB of storage, and a 12MP dual camera. It supports 5G connectivity, making it a great choice for fast internet access. It’s priced at $899.99 and comes with a 1-year warranty.\n",
      "\n",
      "The **FotoSnap DSLR Camera** is designed for photography enthusiasts, offering a 24.2MP sensor, 1080p video recording, and a 3-inch LCD screen. It supports interchangeable lenses, allowing for versatility in your photography. This camera is available for $599.99, also with a 1-year warranty.\n",
      "\n",
      "As for TVs and related products, we have a variety of options:\n",
      "\n",
      "1. **CineView 4K TV** - 55-inch, 4K resolution, Smart TV - $599.99\n",
      "2. **CineView 8K TV** - 65-inch, 8K resolution, Smart TV - $2999.99\n",
      "3. **CineView OLED TV** - 55-inch, 4K resolution, Smart TV - $1499.99\n",
      "4. **SoundMax Home Theater** - 5.1 channel, 1000W output - $399.99\n",
      "5. **SoundMax Soundbar** - 2.1 channel, 300W output - $199.99\n",
      "\n",
      "Is there a specific feature or size you’re looking for in a TV, or would you like more details on any of these products?\n"
     ]
    }
   ],
   "source": [
    "print(assistant_answer)"
   ]
  },
  {
   "cell_type": "code",
   "execution_count": 17,
   "id": "b588de61-01f2-46e5-8b5c-fce80c9066c2",
   "metadata": {},
   "outputs": [
    {
     "data": {
      "text/plain": [
       "'C'"
      ]
     },
     "execution_count": 17,
     "metadata": {},
     "output_type": "execute_result"
    }
   ],
   "source": [
    "eval_vs_ideal(test_set_ideal, assistant_answer)\n",
    "# 对于该生成回答，GPT 判断生成内容是标准回答的一个子集"
   ]
  },
  {
   "cell_type": "code",
   "execution_count": 18,
   "id": "d2b849a9-62db-4e6d-836b-3d859cb1f8cd",
   "metadata": {},
   "outputs": [
    {
     "data": {
      "text/plain": [
       "'D'"
      ]
     },
     "execution_count": 18,
     "metadata": {},
     "output_type": "execute_result"
    }
   ],
   "source": [
    "assistant_answer_2 = \"life is like a box of chocolates\"\n",
    "eval_vs_ideal(test_set_ideal, assistant_answer_2)\n",
    "# 对于明显异常答案，GPT 判断为不一致"
   ]
  },
  {
   "cell_type": "code",
   "execution_count": 19,
   "id": "734d8ac9-cbe4-43b7-ae87-2bc9ae17ec39",
   "metadata": {},
   "outputs": [
    {
     "name": "stdout",
     "output_type": "stream",
     "text": [
      "关于您提到的产品：\n",
      "\n",
      "1. **SmartX ProPhone**\n",
      "   - **显示**: 6.1英寸\n",
      "   - **存储**: 128GB\n",
      "   - **相机**: 12MP双摄\n",
      "   - **网络**: 5G\n",
      "   - **价格**: 899.99元\n",
      "   - **描述**: 一款功能强大的智能手机，配备先进的相机功能。\n",
      "   - **评分**: 4.6/5\n",
      "\n",
      "2. **FotoSnap DSLR Camera**\n",
      "   - **传感器**: 24.2MP\n",
      "   - **视频**: 1080p\n",
      "   - **显示屏**: 3英寸LCD\n",
      "   - **镜头**: 可更换镜头\n",
      "   - **价格**: 599.99元\n",
      "   - **描述**: 捕捉惊人的照片和视频，这款多功能单反相机是您的理想选择。\n",
      "   - **评分**: 4.7/5\n",
      "\n",
      "关于电视方面，我们有几款不错的选择：\n",
      "\n",
      "1. **CineView 4K TV**\n",
      "   - **尺寸**: 55英寸\n",
      "   - **分辨率**: 4K\n",
      "   - **价格**: 599.99元\n",
      "   - **评分**: 4.8/5\n",
      "\n",
      "2. **CineView 8K TV**\n",
      "   - **尺寸**: 65英寸\n",
      "   - **分辨率**: 8K\n",
      "   - **价格**: 2999.99元\n",
      "   - **评分**: 4.9/5\n",
      "\n",
      "3. **CineView OLED TV**\n",
      "   - **尺寸**: 55英寸\n",
      "   - **分辨率**: 4K\n",
      "   - **价格**: 1499.99元\n",
      "   - **评分**: 4.7/5\n",
      "\n",
      "您对哪款产品最感兴趣呢？或者您有其他问题吗？\n"
     ]
    }
   ],
   "source": [
    "print(assistant_answer)"
   ]
  },
  {
   "cell_type": "code",
   "execution_count": 29,
   "id": "e8a17f6b-7611-43e1-8b96-f723953725a0",
   "metadata": {},
   "outputs": [
    {
     "data": {
      "text/plain": [
       "'C'"
      ]
     },
     "execution_count": 29,
     "metadata": {},
     "output_type": "execute_result"
    }
   ],
   "source": [
    "eval_vs_ideal(test_set_ideal, assistant_answer)"
   ]
  },
  {
   "cell_type": "code",
   "execution_count": null,
   "id": "c49ecb50-58f6-49e1-abdb-f6331d225322",
   "metadata": {},
   "outputs": [],
   "source": [
    "# 希望您从本章中学到两个设计模式。\n",
    "# 即使没有专家提供的理想答案，只要能制定一个评估标准，就可以使用一个 LLM 来评估另一个 LLM 的输出。\n",
    "# 如果您可以提供一个专家提供的理想答案，那么可以帮助您的 LLM 更好地比较特定助手输出是否与专家提供的理想答案相似。\n",
    "# 希望这可以帮助您评估 LLM 系统的输出，以便在开发期间持续监测系统的性能，并使用这些工具不断评估和改进系统的性能。"
   ]
  },
  {
   "cell_type": "code",
   "execution_count": null,
   "id": "decac3d7-9df7-42ac-8f21-72cfe69df163",
   "metadata": {},
   "outputs": [],
   "source": []
  }
 ],
 "metadata": {
  "kernelspec": {
   "display_name": "Python 3 (ipykernel)",
   "language": "python",
   "name": "python3"
  },
  "language_info": {
   "codemirror_mode": {
    "name": "ipython",
    "version": 3
   },
   "file_extension": ".py",
   "mimetype": "text/x-python",
   "name": "python",
   "nbconvert_exporter": "python",
   "pygments_lexer": "ipython3",
   "version": "3.8.20"
  }
 },
 "nbformat": 4,
 "nbformat_minor": 5
}
