{
 "cells": [
  {
   "cell_type": "code",
   "execution_count": null,
   "id": "416efd4c-3d7a-43a2-9419-ce3df2705065",
   "metadata": {},
   "outputs": [],
   "source": [
    "# 在这节课中，你将从产品评论和新闻文章中推断情感和主题。\n",
    "# 引言\n",
    "# 推断任务可以看作是模型接收文本作为输入，并执行某种分析的过程。其中涉及提取标签、提取实体、理解文本情感等等。如果你想要从一段\n",
    "# 文本中提取正面或负面情感，在传统的机器学习工作流程中，需要收集标签数据集、训练模型、确定如何在云端部署模型并进行推断。这样做\n",
    "# 可能效果还不错，但是执行全流程需要很多工作。而且对于每个任务，如情感分析、提取实体等等，都需要训练和部署单独的模型。\n",
    "# LLM 的一个非常好的特点是，对于许多这样的任务，你只需要编写一个 Prompt 即可开始产出结果，而不需要进行大量的工作。这极大地加快\n",
    "# 了应用程序开发的速度。你还可以只使用一个模型和一个 API 来执行许多不同的任务，而不需要弄清楚如何训练和部署许多不同的模型。"
   ]
  },
  {
   "cell_type": "code",
   "execution_count": 1,
   "id": "5ccc39b2-e84e-4fff-a114-4b0542751f84",
   "metadata": {},
   "outputs": [],
   "source": [
    "from openai import OpenAI\n",
    "def get_completion_gpt(prompt, model=\"gpt-4o-mini\", temperature=0): \n",
    "    messages = [{\"role\": \"user\", \"content\": prompt}] # 消息队列\n",
    "    client = OpenAI()\n",
    "    response = client.chat.completions.create(\n",
    "        model=model,\n",
    "        messages=messages,\n",
    "        temperature=temperature, # 值越低则输出文本随机性越低\n",
    "    )\n",
    "    return response.choices[0].message.content"
   ]
  },
  {
   "cell_type": "code",
   "execution_count": 2,
   "id": "a862c46e-20af-4277-b376-3e0bce9da99f",
   "metadata": {},
   "outputs": [
    {
     "name": "stdout",
     "output_type": "stream",
     "text": [
      "这条评论的情感是积极的。评论者对产品的外观、功能和价格表示满意，并且对公司的客户服务和处理问题的态度给予了高度评价。整体上，评论传达了对产品和公司的认可与赞赏。\n"
     ]
    }
   ],
   "source": [
    "# 情感分类\n",
    "# 以电商平台关于一盏台灯的评论为例，可以对其传达的情感进行二分类（正向/负向）。\n",
    "# 中文\n",
    "lamp_review_zh = \"\"\"\n",
    "我需要一盏漂亮的卧室灯，这款灯具有额外的储物功能，价格也不算太高。\\\n",
    "我很快就收到了它。在运输过程中，我们的灯绳断了，但是公司很乐意寄送了一个新的。\\\n",
    "几天后就收到了。这款灯很容易组装。我发现少了一个零件，于是联系了他们的客服，他们很快就给我寄来了缺失的零件！\\\n",
    "在我看来，Lumina 是一家非常关心顾客和产品的优秀公司！\n",
    "\"\"\"\n",
    "# 现在让我们来编写一个 Prompt 来分类这个评论的情感。如果我想让系统告诉我这个评论的情感是什么，只需要编写 “以下产品评论的情\n",
    "# 感是什么” 这个 Prompt ，加上通常的分隔符和评论文本等等。\n",
    "# 然后让我们运行一下。结果显示这个产品评论的情感是积极的，这似乎是非常正确的。虽然这盏台灯不完美，但这个客户似乎非常满意。这\n",
    "# 似乎是一家关心客户和产品的伟大公司，可以认为积极的情感似乎是正确的答案。\n",
    "# 中文\n",
    "prompt = f\"\"\"\n",
    "以下用三个反引号分隔的产品评论的情感是什么？\n",
    "评论文本: ```{lamp_review_zh}```\n",
    "\"\"\"\n",
    "response = get_completion_gpt(prompt)\n",
    "print(response)"
   ]
  },
  {
   "cell_type": "code",
   "execution_count": 3,
   "id": "b70abafe-db45-4bd5-990e-319104ad9f04",
   "metadata": {},
   "outputs": [
    {
     "name": "stdout",
     "output_type": "stream",
     "text": [
      "正面\n"
     ]
    }
   ],
   "source": [
    "# 如果你想要给出更简洁的答案，以便更容易进行后处理，可以在上述 Prompt 基础上添加另一个指令：用一个单词回答：「正面」或「负面」。\n",
    "# 这样就只会打印出 “正面” 这个单词，这使得输出更加统一，方便后续处理。\n",
    "prompt = f\"\"\"\n",
    "以下用三个反引号分隔的产品评论的情感是什么？\n",
    "用一个单词回答：「正面」或「负面」。\n",
    "评论文本: ```{lamp_review_zh}```\n",
    "\"\"\"\n",
    "response = get_completion_gpt(prompt)\n",
    "print(response)"
   ]
  },
  {
   "cell_type": "code",
   "execution_count": 4,
   "id": "24311c9d-f3a7-4866-80bd-97a87439ce6a",
   "metadata": {},
   "outputs": [
    {
     "name": "stdout",
     "output_type": "stream",
     "text": [
      "积极, 满意, 感激, 赞赏, 可靠\n"
     ]
    }
   ],
   "source": [
    "# 识别情感类型\n",
    "# 仍然使用台灯评论，我们尝试另一个 Prompt 。这次我需要模型识别出评论作者所表达的情感，并归纳为列表，不超过五项。\n",
    "# 中文\n",
    "prompt = f\"\"\"\n",
    "识别以下评论的作者表达的情感。包含不超过五个项目。将答案格式化为以逗号分隔的单词列表。\n",
    "评论文本: ```{lamp_review_zh}```\n",
    "\"\"\"\n",
    "response = get_completion_gpt(prompt)\n",
    "print(response)"
   ]
  },
  {
   "cell_type": "code",
   "execution_count": 5,
   "id": "07f9c0fd-e609-4c84-b029-bfcbda5cc551",
   "metadata": {},
   "outputs": [
    {
     "name": "stdout",
     "output_type": "stream",
     "text": [
      "否\n"
     ]
    }
   ],
   "source": [
    "# 大型语言模型非常擅长从一段文本中提取特定的东西。在上面的例子中，评论所表达的情感有助于了解客户如何看待特定的产品。\n",
    "# 识别愤怒\n",
    "# 对于很多企业来说，了解某个顾客是否非常生气很重要。所以产生了下述分类问题：以下评论的作者是否表达了愤怒情绪？因为如果有\n",
    "# 人真的很生气，那么可能值得额外关注，让客户支持或客户成功团队联系客户以了解情况，并为客户解决问题。\n",
    "# 中文\n",
    "prompt = f\"\"\"\n",
    "以下评论的作者是否表达了愤怒？评论用三个反引号分隔。给出是或否的答案。\n",
    "评论文本: ```{lamp_review_zh}```\n",
    "\"\"\"\n",
    "response = get_completion_gpt(prompt)\n",
    "print(response)"
   ]
  },
  {
   "cell_type": "code",
   "execution_count": 6,
   "id": "a56f7bf9-7402-45f7-be3f-ec9ad7d00046",
   "metadata": {},
   "outputs": [
    {
     "name": "stdout",
     "output_type": "stream",
     "text": [
      "```json\n",
      "{\n",
      "  \"物品\": \"卧室灯\",\n",
      "  \"品牌\": \"Lumina\"\n",
      "}\n",
      "```\n"
     ]
    }
   ],
   "source": [
    "# 上面这个例子中，客户并没有生气。注意，如果使用常规的监督学习，如果想要建立所有这些分类器，不可能在几分钟内就做到这一\n",
    "# 点。我们鼓励大家尝试更改一些这样的 Prompt ，也许询问客户是否表达了喜悦，或者询问是否有任何遗漏的部分，并看看是否可\n",
    "# 以让 Prompt 对这个灯具评论做出不同的推论。\n",
    "# 商品信息提取\n",
    "# 接下来，让我们从客户评论中提取更丰富的信息。信息提取是自然语言处理（NLP）的一部分，与从文本中提取你想要知道的某些事物\n",
    "# 相关。因此，在这个 Prompt 中，我要求它识别以下内容：购买物品和制造物品的公司名称。\n",
    "# 同样，如果你试图总结在线购物电子商务网站的许多评论，对于这些评论来说，弄清楚是什么物品、谁制造了该物品，弄清楚积极和消\n",
    "# 极的情感，有助于追踪特定物品或制造商收获的用户情感趋势。\n",
    "# 在下面这个示例中，我们要求它将响应格式化为一个 JSON 对象，其中物品和品牌作为键。\n",
    "# 中文\n",
    "prompt = f\"\"\"\n",
    "从评论文本中识别以下项目：\n",
    "- 评论者购买的物品\n",
    "- 制造该物品的公司\n",
    "评论文本用三个反引号分隔。将你的响应格式化为以 “物品” 和 “品牌” 为键的 JSON 对象。\n",
    "如果信息不存在，请使用 “未知” 作为值。\n",
    "让你的回应尽可能简短。\n",
    "评论文本: ```{lamp_review_zh}```\n",
    "\"\"\"\n",
    "response = get_completion_gpt(prompt)\n",
    "print(response)"
   ]
  },
  {
   "cell_type": "code",
   "execution_count": null,
   "id": "ff17b490-514c-43cd-93f1-9816934dccb9",
   "metadata": {},
   "outputs": [],
   "source": [
    "# 如上所示，它会说这个物品是一个卧室灯，品牌是 Luminar，你可以轻松地将其加载到 Python 字典中，然后对此输出进行其他处理。\n",
    "# 综合完成任务\n",
    "# 提取上述所有信息使用了 3 或 4 个 Prompt ，但实际上可以编写单个 Prompt 来同时提取所有这些信息。"
   ]
  },
  {
   "cell_type": "code",
   "execution_count": 9,
   "id": "1dfa3aa7-987e-4a10-9b13-5529f1b2418e",
   "metadata": {},
   "outputs": [
    {
     "name": "stdout",
     "output_type": "stream",
     "text": [
      "```json\n",
      "{\n",
      "  \"Sentiment\": \"正面\",\n",
      "  \"Anger\": false,\n",
      "  \"Item\": \"卧室灯\",\n",
      "  \"Brand\": \"Lumina\"\n",
      "}\n",
      "```\n",
      "{'Sentiment': '正面', 'Anger': False, 'Item': '卧室灯', 'Brand': 'Lumina'}\n"
     ]
    }
   ],
   "source": [
    "# 中文\n",
    "prompt = f\"\"\"\n",
    "从评论文本中识别以下项目：\n",
    "- 情绪（正面或负面）\n",
    "- 审稿人是否表达了愤怒？（是或否）\n",
    "- 评论者购买的物品\n",
    "- 制造该物品的公司\n",
    "\n",
    "评论用三个反引号分隔。将您的响应格式化为 JSON 对象，以 “Sentiment”、“Anger”、“Item” 和 “Brand” 作为键。\n",
    "如果信息不存在，请使用 “未知” 作为值。\n",
    "让你的回应尽可能简短。\n",
    "将 Anger 值格式化为布尔值。\n",
    "评论文本: ```{lamp_review_zh}```\n",
    "\"\"\"\n",
    "response = get_completion_gpt(prompt)\n",
    "print(response)\n",
    "import json\n",
    "data=json.loads(response[response.index('{'):response.rindex('```')])\n",
    "print(data)\n",
    "# 这个例子中，我们告诉它将愤怒值格式化为布尔值，然后输出一个 JSON。您可以自己尝试不同的变化，或者甚至尝试完\n",
    "# 全不同的评论，看看是否仍然可以准确地提取这些内容。"
   ]
  },
  {
   "cell_type": "code",
   "execution_count": 10,
   "id": "4977ca30-7e13-4936-8f3a-8c069c032709",
   "metadata": {},
   "outputs": [
    {
     "name": "stdout",
     "output_type": "stream",
     "text": [
      "满意度调查, NASA, 员工评论, 管理团队, 政府承诺\n"
     ]
    }
   ],
   "source": [
    "# 主题推断\n",
    "# 大型语言模型的另一个很酷的应用是推断主题。给定一段长文本，这段文本是关于什么的？有什么话题？\n",
    "# 以以下一段虚构的报纸报道为例。\n",
    "# 中文\n",
    "story_zh = \"\"\"\n",
    "在政府最近进行的一项调查中，要求公共部门的员工对他们所在部门的满意度进行评分。\n",
    "调查结果显示，NASA 是最受欢迎的部门，满意度为 95％。\n",
    "\n",
    "一位 NASA 员工 John Smith 对这一发现发表了评论，他表示：\n",
    "“我对 NASA 排名第一并不感到惊讶。这是一个与了不起的人们和令人难以置信的机会共事的好地方。我为成为这样一个创新组织的一员感到自豪。”\n",
    "\n",
    "NASA 的管理团队也对这一结果表示欢迎，主管 Tom Johnson 表示：\n",
    "“我们很高兴听到我们的员工对 NASA 的工作感到满意。\n",
    "我们拥有一支才华横溢、忠诚敬业的团队，他们为实现我们的目标不懈努力，看到他们的辛勤工作得到回报是太棒了。”\n",
    "\n",
    "调查还显示，社会保障管理局的满意度最低，只有 45％的员工表示他们对工作满意。\n",
    "政府承诺解决调查中员工提出的问题，并努力提高所有部门的工作满意度。\n",
    "\"\"\"\n",
    "# 推断讨论主题\n",
    "# 上面是一篇虚构的关于政府工作人员对他们工作机构感受的报纸文章。我们可以让它确定五个正在讨论的主题，\n",
    "# 用一两个字描述每个主题，并将输出格式化为逗号分隔的列表。\n",
    "# 中文\n",
    "prompt = f\"\"\"\n",
    "确定以下给定文本中讨论的五个主题。\n",
    "每个主题用1-2个单词概括。\n",
    "输出时用逗号分割每个主题。\n",
    "给定文本: ```{story_zh}```\n",
    "\"\"\"\n",
    "response = get_completion_gpt(prompt)\n",
    "print(response)"
   ]
  },
  {
   "cell_type": "code",
   "execution_count": 12,
   "id": "9e1e0877-b2bf-4c9a-b5f1-618546caf17c",
   "metadata": {},
   "outputs": [
    {
     "name": "stdout",
     "output_type": "stream",
     "text": [
      "- 美国航空航天局: 1\n",
      "- 当地政府: 0\n",
      "- 工程: 0\n",
      "- 员工满意度: 1\n",
      "- 联邦政府: 1\n"
     ]
    }
   ],
   "source": [
    "# 为特定主题制作新闻提醒\n",
    "# 假设我们有一个新闻网站或类似的东西，这是我们感兴趣的主题：NASA、地方政府、工程、员工满意度、联邦政府等。假\n",
    "# 设我们想弄清楚，针对一篇新闻文章，其中涵盖了哪些主题。可以使用这样的prompt：确定以下主题列表中的每个项目是\n",
    "# 否是以下文本中的主题。以 0 或 1 的形式给出答案列表。\n",
    "# 中文\n",
    "prompt = f\"\"\"\n",
    "判断主题列表中的每一项是否是给定文本中的一个话题，\n",
    "以列表的形式给出答案，每个主题用 0 或 1。\n",
    "主题列表：美国航空航天局、当地政府、工程、员工满意度、联邦政府\n",
    "以主题(item):答案的形式回答\n",
    "给定文本: ```{story_zh}```\n",
    "\"\"\"\n",
    "response = get_completion_gpt(prompt)\n",
    "print(response)\n",
    "# 有结果可见，这个故事是与关于 NASA 、员工满意度、联邦政府有关，而与当地政府的、工程学无关。这在机器学习中\n",
    "# 有时被称为 Zero-Shot （零样本）学习算法，因为我们没有给它任何标记的训练数据。仅凭 Prompt ，它就能确定\n",
    "# 哪些主题在新闻文章中有所涵盖。"
   ]
  },
  {
   "cell_type": "code",
   "execution_count": 13,
   "id": "cf1a7edb-8e4f-41dd-a140-b93084a5a5d4",
   "metadata": {},
   "outputs": [
    {
     "data": {
      "text/plain": [
       "['美国航空航天局:1', '当地政府:0', '工程:0', '员工满意度:1', '联邦政府:1']"
      ]
     },
     "execution_count": 13,
     "metadata": {},
     "output_type": "execute_result"
    }
   ],
   "source": [
    "response.replace('-','').replace(' ','').split(sep='\\n')"
   ]
  },
  {
   "cell_type": "code",
   "execution_count": 15,
   "id": "6d724eab-8d11-4ee7-9d34-65505d141be8",
   "metadata": {},
   "outputs": [
    {
     "name": "stdout",
     "output_type": "stream",
     "text": [
      "提醒: 关于美国航空航天局的新消息\n"
     ]
    }
   ],
   "source": [
    "# 如果我们想生成一个新闻提醒，也可以使用这个处理新闻的过程。假设我非常喜欢 NASA 所做的工作，就可以构建一个这样\n",
    "# 的系统，每当 NASA 新闻出现时，输出提醒。\n",
    "topic_dict = {i.split(':')[0]: int(i.split(':')[1]) for i in response.replace('-','').replace(' ','').split(sep='\\n')}\n",
    "if topic_dict['美国航空航天局'] == 1:\n",
    "    print(\"提醒: 关于美国航空航天局的新消息\")\n",
    "# 这就是关于推断的全部内容了，仅用几分钟时间，我们就可以构建多个用于对文本进行推理的系统，而以前则需要熟练的机器学习开发人员数天甚\n",
    "# 至数周的时间。这非常令人兴奋，无论是对于熟练的机器学习开发人员，还是对于新手来说，都可以使用 Prompt 来非常快速地构建和开始相当\n",
    "# 复杂的自然语言处理任务。"
   ]
  },
  {
   "cell_type": "code",
   "execution_count": null,
   "id": "61597763-5787-47ac-8b07-3ab6cb5990a2",
   "metadata": {},
   "outputs": [],
   "source": []
  }
 ],
 "metadata": {
  "kernelspec": {
   "display_name": "Python 3 (ipykernel)",
   "language": "python",
   "name": "python3"
  },
  "language_info": {
   "codemirror_mode": {
    "name": "ipython",
    "version": 3
   },
   "file_extension": ".py",
   "mimetype": "text/x-python",
   "name": "python",
   "nbconvert_exporter": "python",
   "pygments_lexer": "ipython3",
   "version": "3.8.20"
  }
 },
 "nbformat": 4,
 "nbformat_minor": 5
}
