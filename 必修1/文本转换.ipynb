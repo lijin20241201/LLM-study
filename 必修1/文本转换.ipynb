{
 "cells": [
  {
   "cell_type": "code",
   "execution_count": 1,
   "id": "f6607287-2d3c-4882-833c-fa7c34b14429",
   "metadata": {},
   "outputs": [],
   "source": [
    "# 文本转换\n",
    "# 引言\n",
    "# LLM非常擅长将输入转换成不同的格式，典型应用包括多语种文本翻译、拼写及语法纠正、语气调整、格式转换等。\n",
    "# 本章节将介绍如何使用编程的方式，调用API接口来实现“文本转换”功能。\n",
    "# 首先，我们需要OpenAI包，加载API密钥，定义getCompletion函数\n",
    "from openai import OpenAI\n",
    "def get_completion_gpt(prompt, model=\"gpt-4o-mini\", temperature=0): \n",
    "    messages = [{\"role\": \"user\", \"content\": prompt}] # 消息队列\n",
    "    client = OpenAI()\n",
    "    response = client.chat.completions.create(\n",
    "        model=model,\n",
    "        messages=messages,\n",
    "        temperature=temperature, # 值越低则输出文本随机性越低\n",
    "    )\n",
    "    return response.choices[0].message.content"
   ]
  },
  {
   "cell_type": "code",
   "execution_count": 2,
   "id": "2a8da07e-f79b-4e6a-ba59-86974b4329c9",
   "metadata": {},
   "outputs": [
    {
     "name": "stdout",
     "output_type": "stream",
     "text": [
      "您好，我想订购一个搅拌机。  \n",
      "Hola, me gustaría pedir una licuadora.\n"
     ]
    }
   ],
   "source": [
    "# 文本翻译\n",
    "# 中文转西班牙语\n",
    "prompt = \"\"\"\n",
    "将以下中文翻译成西班牙语: \\ \n",
    "```您好，我想订购一个搅拌机。```\n",
    "\"\"\"\n",
    "response = get_completion_gpt(prompt)\n",
    "print(response)"
   ]
  },
  {
   "cell_type": "code",
   "execution_count": 3,
   "id": "c3cee056-e558-40e2-933a-de62fd3cbf50",
   "metadata": {},
   "outputs": [
    {
     "name": "stdout",
     "output_type": "stream",
     "text": [
      "该文本是法语。它的意思是“路灯多少钱？”\n"
     ]
    }
   ],
   "source": [
    "# 识别语种\n",
    "prompt = f\"\"\"\n",
    "请告诉我以下文本是什么语种: \n",
    "```Combien coûte le lampadaire?```\n",
    "\"\"\"\n",
    "response = get_completion_gpt(prompt)\n",
    "print(response)"
   ]
  },
  {
   "cell_type": "code",
   "execution_count": 5,
   "id": "41d10377-69df-42e1-ab92-9d203cc9203b",
   "metadata": {},
   "outputs": [
    {
     "name": "stdout",
     "output_type": "stream",
     "text": [
      "中文: 我想订购一个篮球。\n",
      "\n",
      "英文: I want to order a basketball.\n",
      "\n",
      "法语: Je veux commander un ballon de basket.\n",
      "\n",
      "西班牙语: Quiero pedir un balón de baloncesto.\n"
     ]
    }
   ],
   "source": [
    "# 多语种翻译\n",
    "prompt = \"\"\"\n",
    "请将以下文本分别翻译成中文、英文、法语和西班牙语: \n",
    "```I want to order a basketball.```\n",
    "\"\"\"\n",
    "response = get_completion_gpt(prompt)\n",
    "print(response)"
   ]
  },
  {
   "cell_type": "code",
   "execution_count": 7,
   "id": "d7eb6c04-a26f-41aa-9e9e-bc8ac97a7c1b",
   "metadata": {},
   "outputs": [
    {
     "name": "stdout",
     "output_type": "stream",
     "text": [
      "正式语气：您想要订购一个枕头吗？\n",
      "\n",
      "非正式语气：你想要买个枕头吗？\n"
     ]
    }
   ],
   "source": [
    "# 同时进行语气转换\n",
    "prompt = f\"\"\"\n",
    "请将以下文本翻译成中文，分别展示成正式与非正式两种语气: \n",
    "```Would you like to order a pillow?```\n",
    "\"\"\"\n",
    "response = get_completion_gpt(prompt)\n",
    "print(response)"
   ]
  },
  {
   "cell_type": "code",
   "execution_count": null,
   "id": "e750b488-fd03-42c9-815d-a2cea358184e",
   "metadata": {},
   "outputs": [],
   "source": []
  },
  {
   "cell_type": "code",
   "execution_count": 9,
   "id": "4c4a1a71-f3e4-4a3a-8f0c-54fec43d629c",
   "metadata": {},
   "outputs": [
    {
     "name": "stdout",
     "output_type": "stream",
     "text": [
      "Original message (The language of the text you provided is French. The sentence translates to \"The performance of the system is slower than usual.\" in English.): La performance du système est plus lente que d'habitude.\n",
      "The translation of the text is:\n",
      "\n",
      "**Chinese:** 系统的性能比平时慢。\n",
      "\n",
      "**English:** The system's performance is slower than usual. \n",
      "\n",
      "Original message (The language of the sentence \"Mi monitor tiene píxeles que no se iluminan.\" is Spanish. It translates to \"My monitor has pixels that do not light up.\" in English.): Mi monitor tiene píxeles que no se iluminan.\n",
      "**Chinese:** 我的显示器有一些像素不亮。  \n",
      "**English:** My monitor has pixels that do not light up. \n",
      "\n",
      "Original message (The language is Italian. The phrase translates to \"My mouse is not working\" in English.): Il mio mouse non funziona\n",
      "In English, the translation is: \"My mouse is not working.\"\n",
      "\n",
      "In Chinese, the translation is: \"我的鼠标不工作。\" \n",
      "\n",
      "Original message (The language of the text \"Mój klawisz Ctrl jest zepsuty\" is Polish. It translates to \"My Ctrl key is broken\" in English.): Mój klawisz Ctrl jest zepsuty\n",
      "The translation of the text \"Mój klawisz Ctrl jest zepsuty\" is:\n",
      "\n",
      "**Chinese:** 我的Ctrl键坏了  \n",
      "**English:** My Ctrl key is broken. \n",
      "\n",
      "Original message (The language is Chinese. The phrase \"我的屏幕在闪烁\" translates to \"My screen is flickering\" in English.): 我的屏幕在闪烁\n",
      "The translation of \"我的屏幕在闪烁\" is:\n",
      "\n",
      "**English:** My screen is flickering.  \n",
      "**Chinese:** 我的屏幕在闪烁. \n",
      "\n"
     ]
    }
   ],
   "source": [
    "# 通用翻译器\n",
    "# 随着全球化与跨境商务的发展，交流的用户可能来自各个不同的国家，使用不同的语言，因此我们需要一个通用翻译器，\n",
    "# 识别各个消息的语种，并翻译成目标用户的母语，从而实现更方便的跨国交流。\n",
    "user_messages = [\n",
    "  \"La performance du système est plus lente que d'habitude.\",  # System performance is slower than normal         \n",
    "  \"Mi monitor tiene píxeles que no se iluminan.\",              # My monitor has pixels that are not lighting\n",
    "  \"Il mio mouse non funziona\",                                 # My mouse is not working\n",
    "  \"Mój klawisz Ctrl jest zepsuty\",                             # My keyboard has a broken control key\n",
    "  \"我的屏幕在闪烁\"] # My screen is flashing\n",
    "for issue in user_messages:\n",
    "    prompt = f\"Tell me what language this is: ```{issue}```\"\n",
    "    lang = get_completion_gpt(prompt)\n",
    "    print(f\"Original message ({lang}): {issue}\")\n",
    "    prompt = f\"\"\"\n",
    "    Translate the following  text to Chinese \\\n",
    "    and English: ```{issue}```\n",
    "    \"\"\"\n",
    "    response = get_completion_gpt(prompt)\n",
    "    print(response, \"\\n\")"
   ]
  },
  {
   "cell_type": "code",
   "execution_count": 10,
   "id": "6f0c9aeb-5bb2-4efc-b2a1-7e0472f22c1c",
   "metadata": {},
   "outputs": [
    {
     "name": "stdout",
     "output_type": "stream",
     "text": [
      "原始消息 (法语): La performance du système est plus lente que d'habitude.\n",
      "\n",
      "中文翻译：系统的性能比平时慢。  \n",
      "英文翻译：The system's performance is slower than usual. \n",
      "=========================================\n",
      "原始消息 (西班牙语): Mi monitor tiene píxeles que no se iluminan.\n",
      "\n",
      "中文翻译：我的显示器有一些像素不亮。  \n",
      "英文翻译：My monitor has pixels that do not light up. \n",
      "=========================================\n",
      "原始消息 (意大利语): Il mio mouse non funziona\n",
      "\n",
      "中文翻译：我的鼠标不工作  \n",
      "英文翻译：My mouse is not working \n",
      "=========================================\n",
      "原始消息 (波兰语): Mój klawisz Ctrl jest zepsuty\n",
      "\n",
      "中文翻译：我的Ctrl键坏了  \n",
      "英文翻译：My Ctrl key is broken \n",
      "=========================================\n",
      "原始消息 (中文): 我的屏幕在闪烁\n",
      "\n",
      "中文翻译：我的屏幕在闪烁  \n",
      "英文翻译：My screen is flickering \n",
      "=========================================\n"
     ]
    }
   ],
   "source": [
    "import time\n",
    "for issue in user_messages:\n",
    "    prompt = f\"告诉我以下文本是什么语种，直接输出语种，如法语，无需输出标点符号: ```{issue}```\"\n",
    "    lang = get_completion_gpt(prompt)\n",
    "    print(f\"原始消息 ({lang}): {issue}\\n\")\n",
    "    prompt = f\"\"\"\n",
    "    将以下消息分别翻译成英文和中文，并写成\n",
    "    中文翻译：xxx\n",
    "    英文翻译：yyy\n",
    "    的格式：\n",
    "    ```{issue}```\n",
    "    \"\"\"\n",
    "    response = get_completion_gpt(prompt)\n",
    "    print(response, \"\\n=========================================\")\n",
    "    time.sleep(10)"
   ]
  },
  {
   "cell_type": "code",
   "execution_count": 11,
   "id": "30ef53cb-a467-4e30-b4dd-5e79f93d3a7b",
   "metadata": {},
   "outputs": [
    {
     "name": "stdout",
     "output_type": "stream",
     "text": [
      "Subject: Specification for Standing Lamp\n",
      "\n",
      "Dear [Recipient's Name],\n",
      "\n",
      "I hope this message finds you well. \n",
      "\n",
      "I would like to bring to your attention the specifications for the standing lamp. Please take a moment to review the attached document.\n",
      "\n",
      "Thank you for your consideration.\n",
      "\n",
      "Best regards,  \n",
      "Joe\n"
     ]
    }
   ],
   "source": [
    "# 语气与写作风格调整\n",
    "# 写作的语气往往会根据受众对象而有所调整。例如，对于工作邮件，我们常常需要使用正式语气与书面用词，\n",
    "# 而对同龄朋友的微信聊天，可能更多地会使用轻松、口语化的语气。\n",
    "prompt = f\"\"\"\n",
    "Translate the following from slang to a business letter: \n",
    "'Dude, This is Joe, check out this spec on this standing lamp.'\n",
    "\"\"\"\n",
    "response = get_completion_gpt(prompt)\n",
    "print(response)"
   ]
  },
  {
   "cell_type": "code",
   "execution_count": null,
   "id": "8550ca95-baa6-484b-bed0-d87001297c8b",
   "metadata": {},
   "outputs": [],
   "source": [
    "# 这些占位符是为了生成一个可供定制的模板，用户需要根据实际情况填充其中的内容，确保信函内容是完整且符合实际需要的。"
   ]
  },
  {
   "cell_type": "code",
   "execution_count": 12,
   "id": "dfc6917c-fd31-4c17-970d-e531b80f1da9",
   "metadata": {},
   "outputs": [
    {
     "name": "stdout",
     "output_type": "stream",
     "text": [
      "[您的公司名称]  \n",
      "[您的公司地址]  \n",
      "[城市, 州, 邮政编码]  \n",
      "[日期]  \n",
      "\n",
      "[收件人姓名]  \n",
      "[收件人职位]  \n",
      "[收件人公司名称]  \n",
      "[收件人公司地址]  \n",
      "[城市, 州, 邮政编码]  \n",
      "\n",
      "尊敬的[收件人姓名]，\n",
      "\n",
      "您好！\n",
      "\n",
      "我希望您一切安好。上次我们讨论到部门需要采购的显示器，我想确认一下具体的尺寸是多少寸。请您在方便的时候回复我，以便我们能够尽快推进采购事宜。\n",
      "\n",
      "感谢您的帮助！\n",
      "\n",
      "祝好，\n",
      "\n",
      "[您的姓名]  \n",
      "[您的职位]  \n",
      "[您的联系方式]  \n",
      "[您的公司名称]  \n"
     ]
    }
   ],
   "source": [
    "prompt = f\"\"\"\n",
    "将以下文本翻译成商务信函的格式: \n",
    "```小老弟，我小羊，上回你说咱部门要采购的显示器是多少寸来着？```\n",
    "\"\"\"\n",
    "response = get_completion_gpt(prompt)\n",
    "print(response)"
   ]
  },
  {
   "cell_type": "code",
   "execution_count": 19,
   "id": "74bc3340-4afe-449b-bc1b-2ea549bfcae3",
   "metadata": {},
   "outputs": [
    {
     "name": "stdout",
     "output_type": "stream",
     "text": [
      "<table>\n",
      "    <caption>Restaurant Employees</caption>\n",
      "    <thead>\n",
      "        <tr>\n",
      "            <th>Name</th>\n",
      "            <th>Email</th>\n",
      "        </tr>\n",
      "    </thead>\n",
      "    <tbody>\n",
      "        <tr>\n",
      "            <td>Shyam</td>\n",
      "            <td>shyamjaiswal@gmail.com</td>\n",
      "        </tr>\n",
      "        <tr>\n",
      "            <td>Bob</td>\n",
      "            <td>bob32@gmail.com</td>\n",
      "        </tr>\n",
      "        <tr>\n",
      "            <td>Jai</td>\n",
      "            <td>jai87@gmail.com</td>\n",
      "        </tr>\n",
      "    </tbody>\n",
      "</table>\n"
     ]
    }
   ],
   "source": [
    "# 文件格式转换\n",
    "# ChatGPT非常擅长不同格式之间的转换，例如JSON到HTML、XML、Markdown等。在下述例子中，\n",
    "# 我们有一个包含餐厅员工姓名和电子邮件的列表的JSON，我们希望将其从JSON转换为HTML。\n",
    "data_json = { \"resturant employees\" :[ \n",
    "    {\"name\":\"Shyam\", \"email\":\"shyamjaiswal@gmail.com\"},\n",
    "    {\"name\":\"Bob\", \"email\":\"bob32@gmail.com\"},\n",
    "    {\"name\":\"Jai\", \"email\":\"jai87@gmail.com\"}\n",
    "]}\n",
    "prompt = f\"\"\"\n",
    "将以下Python字典从JSON转换为HTML表格，保留表格标题和列名：{data_json}\n",
    "只保留转换成的表格标题和列名，不要额外的信息(标题写到表格上面居中位置)\n",
    "不要```html\n",
    "\"\"\"\n",
    "response = get_completion_gpt(prompt)\n",
    "print(response)"
   ]
  },
  {
   "cell_type": "code",
   "execution_count": 20,
   "id": "bb66b13a-6b75-4543-afe4-87012d32080f",
   "metadata": {},
   "outputs": [
    {
     "data": {
      "text/html": [
       "<table>\n",
       "    <caption>Restaurant Employees</caption>\n",
       "    <thead>\n",
       "        <tr>\n",
       "            <th>Name</th>\n",
       "            <th>Email</th>\n",
       "        </tr>\n",
       "    </thead>\n",
       "    <tbody>\n",
       "        <tr>\n",
       "            <td>Shyam</td>\n",
       "            <td>shyamjaiswal@gmail.com</td>\n",
       "        </tr>\n",
       "        <tr>\n",
       "            <td>Bob</td>\n",
       "            <td>bob32@gmail.com</td>\n",
       "        </tr>\n",
       "        <tr>\n",
       "            <td>Jai</td>\n",
       "            <td>jai87@gmail.com</td>\n",
       "        </tr>\n",
       "    </tbody>\n",
       "</table>"
      ],
      "text/plain": [
       "<IPython.core.display.HTML object>"
      ]
     },
     "metadata": {},
     "output_type": "display_data"
    }
   ],
   "source": [
    "from IPython.display import display, Markdown, Latex, HTML, JSON\n",
    "display(HTML(response))"
   ]
  },
  {
   "cell_type": "code",
   "execution_count": 22,
   "id": "389e0465-dce7-483b-83f7-db251722e2fe",
   "metadata": {},
   "outputs": [
    {
     "name": "stdout",
     "output_type": "stream",
     "text": [
      "The girl with the black and white puppies has a ball\n",
      "No errors found\n",
      "Its going to be a long day. Does the car need its oil changed?\n",
      "Their goes my freedom. They are going to bring their suitcases.\n",
      "Your going to need your notebook\n",
      "That medicine affects my ability to sleep. Have you heard of the butterfly effect?\n",
      "This phrase is to check chatGPT for spelling ability\n"
     ]
    }
   ],
   "source": [
    "# 拼写及语法纠正\n",
    "# 拼写及语法的检查与纠正是一个十分常见的需求，特别是使用非母语语言，例如，在论坛发帖时，或发表英文论文时，校对\n",
    "# 是一件十分重要的事情。\n",
    "# 下述例子给定了一个句子列表，其中有些句子存在拼写或语法问题，有些则没有，我们循环遍历每个句子，要求模型校对文本，\n",
    "# 如果正确则输出“未发现错误”，如果错误则输出纠正后的文本。\n",
    "text = [ \n",
    "  \"The girl with the black and white puppies have a ball.\",  # The girl has a ball.\n",
    "  \"Yolanda has her notebook.\", # ok\n",
    "  \"Its going to be a long day. Does the car need it’s oil changed?\",  # Homonyms\n",
    "  \"Their goes my freedom. There going to bring they’re suitcases.\",  # Homonyms\n",
    "  \"Your going to need you’re notebook.\",  # Homonyms\n",
    "  \"That medicine effects my ability to sleep. Have you heard of the butterfly affect?\", # Homonyms\n",
    "  \"This phrase is to cherck chatGPT for spelling abilitty\"  # spelling\n",
    "]\n",
    "for t in text:\n",
    "    prompt = f\"\"\"Proofread and correct the following text\n",
    "    and rewrite the corrected version. If you don't find\n",
    "    and errors, just say \"No errors found\". Don't use \n",
    "    any punctuation around the text:\n",
    "    ```{t}```\"\"\"\n",
    "    response = get_completion_gpt(prompt)\n",
    "    print(response)"
   ]
  },
  {
   "cell_type": "code",
   "execution_count": 23,
   "id": "0972dee6-a175-4935-909c-ee9bc46d97b6",
   "metadata": {},
   "outputs": [
    {
     "name": "stdout",
     "output_type": "stream",
     "text": [
      "0 The girl with the black and white puppies has a ball.\n",
      "1 未发现错误。\n",
      "2 It's going to be a long day. Does the car need its oil changed?\n",
      "3 There goes my freedom. They're going to bring their suitcases.\n",
      "4 You're going to need your notebook.\n",
      "5 That medicine affects my ability to sleep. Have you heard of the butterfly effect?\n",
      "6 This phrase is to check chatGPT for spelling ability.\n"
     ]
    }
   ],
   "source": [
    "for i in range(len(text)):\n",
    "    prompt = f\"\"\"请校对并更正以下文本，注意纠正文本保持原始语种，无需输出原始文本。\n",
    "    如果您没有发现任何错误，请说“未发现错误”。\n",
    "    例如：\n",
    "    输入：I are happy.\n",
    "    输出：I am happy.\n",
    "    ```{text[i]}```\"\"\"\n",
    "    response = get_completion_gpt(prompt)\n",
    "    print(i, response)\n",
    "    time.sleep(5)"
   ]
  },
  {
   "cell_type": "code",
   "execution_count": 24,
   "id": "579c4664-108a-427e-bfa3-dbd901a8b6a1",
   "metadata": {},
   "outputs": [
    {
     "name": "stdout",
     "output_type": "stream",
     "text": [
      "Here's a proofread and corrected version of your review:\n",
      "\n",
      "---\n",
      "\n",
      "I got this for my daughter for her birthday because she keeps taking mine from my room. Yes, adults like pandas too! She takes it everywhere with her, and it's super soft and cute. However, one of the ears is a bit lower than the other, and I don't think that was intended to be asymmetrical. Additionally, it's a bit small for what I paid for it; I believe there might be other options that are larger for the same price. On a positive note, it arrived a day earlier than expected, so I got to play with it myself before giving it to my daughter.\n",
      "\n",
      "--- \n",
      "\n",
      "Let me know if you need any further adjustments!\n"
     ]
    }
   ],
   "source": [
    "# 以下是一个简单的语法纠错示例（译注：与 Grammarly 功能类似），输入文本为一段关于熊猫玩偶的评价，输出为\n",
    "# 纠正后的文本。本例使用的 Prompt 较为简单，你也可以进一步要求进行语调的更改。\n",
    "# 校对并纠正此评论\n",
    "text = f\"\"\"\n",
    "Got this for my daughter for her birthday cuz she keeps taking \\\n",
    "mine from my room.  Yes, adults also like pandas too.  She takes \\\n",
    "it everywhere with her, and it's super soft and cute.  One of the \\\n",
    "ears is a bit lower than the other, and I don't think that was \\\n",
    "designed to be asymmetrical. It's a bit small for what I paid for it \\\n",
    "though. I think there might be other options that are bigger for \\\n",
    "the same price.  It arrived a day earlier than expected, so I got \\\n",
    "to play with it myself before I gave it to my daughter.\n",
    "\"\"\"\n",
    "prompt = f\"proofread and correct this review: ```{text}```\"\n",
    "response = get_completion_gpt(prompt)\n",
    "print(response)"
   ]
  },
  {
   "cell_type": "code",
   "execution_count": 27,
   "id": "87253c3e-4910-4fba-a709-63cd86533249",
   "metadata": {},
   "outputs": [
    {
     "name": "stdout",
     "output_type": "stream",
     "text": [
      "I got this for my daughter for her birthday because she keeps taking mine from my room. Yes, adults like pandas too! She takes it everywhere with her, and it's super soft and cute. One of the ears is a bit lower than the other, and I don't think it was designed to be asymmetrical. It's a bit small for what I paid for it, though. I think there might be other options that are bigger for the same price. It arrived a day earlier than expected, so I got to play with it myself before giving it to my daughter.\n"
     ]
    }
   ],
   "source": [
    "prompt = f\"校对并更正以下商品评论：```{text}```,注意纠正文本保持原始语种，无需输出原始文本。\"\n",
    "response = get_completion_gpt(prompt)\n",
    "print(response)"
   ]
  },
  {
   "cell_type": "code",
   "execution_count": null,
   "id": "49d2f880-cf6d-4968-a136-3841a32117c7",
   "metadata": {},
   "outputs": [],
   "source": [
    "# 如未安装redlines，需先安装\n",
    "# !pip install redlines"
   ]
  },
  {
   "cell_type": "code",
   "execution_count": null,
   "id": "17f187cd-4b59-4e16-99d8-08c2b4d62aeb",
   "metadata": {},
   "outputs": [],
   "source": [
    "# 使用 redlines 库来显示两个文本之间的差异，并将这些差异格式化成 Markdown 格式，以便在 Jupyter \n",
    "# Notebook 或 IPython 环境中可视化显示。"
   ]
  },
  {
   "cell_type": "code",
   "execution_count": null,
   "id": "202b50f4-eedd-4da1-9efc-611eae763758",
   "metadata": {},
   "outputs": [],
   "source": [
    "# redlines 是一个 Python 库，用于比较两个文本，并高亮显示它们之间的差异。它将文本中的不同部分标记出来，使得文本的变化更加直观。\n",
    "# IPython.display 是 Jupyter Notebook 中的显示模块。display 用于展示数据，Markdown 用于将文本格式化为 Markdown 格式后进行显示"
   ]
  },
  {
   "cell_type": "code",
   "execution_count": 30,
   "id": "b175186c-e4f1-4f42-b1ba-6f710cfe0bc0",
   "metadata": {},
   "outputs": [
    {
     "data": {
      "text/markdown": [
       "<span style='color:red;font-weight:700;text-decoration:line-through;'>Got </span><span style='color:green;font-weight:700;'>I got </span>this for my daughter for her birthday <span style='color:red;font-weight:700;text-decoration:line-through;'>cuz </span><span style='color:green;font-weight:700;'>because </span>she keeps taking mine from my <span style='color:red;font-weight:700;text-decoration:line-through;'>room.  </span><span style='color:green;font-weight:700;'>room. </span>Yes, adults <span style='color:red;font-weight:700;text-decoration:line-through;'>also </span>like pandas <span style='color:red;font-weight:700;text-decoration:line-through;'>too.  </span><span style='color:green;font-weight:700;'>too! </span>She takes it everywhere with her, and it's super soft and <span style='color:red;font-weight:700;text-decoration:line-through;'>cute.  </span><span style='color:green;font-weight:700;'>cute. </span>One of the ears is a bit lower than the other, and I don't think <span style='color:red;font-weight:700;text-decoration:line-through;'>that </span><span style='color:green;font-weight:700;'>it </span>was designed to be asymmetrical. It's a bit small for what I paid for <span style='color:red;font-weight:700;text-decoration:line-through;'>it </span><span style='color:green;font-weight:700;'>it, </span>though. I think there might be other options that are bigger for the same <span style='color:red;font-weight:700;text-decoration:line-through;'>price.  </span><span style='color:green;font-weight:700;'>price. </span>It arrived a day earlier than expected, so I got to play with it myself before <span style='color:red;font-weight:700;text-decoration:line-through;'>I gave </span><span style='color:green;font-weight:700;'>giving </span>it to my daughter."
      ],
      "text/plain": [
       "<IPython.core.display.Markdown object>"
      ]
     },
     "metadata": {},
     "output_type": "display_data"
    }
   ],
   "source": [
    "# 使用 redlines 库比较两个文本之间的差异，并在 Jupyter 环境中以 Markdown 格式呈现，方便用户查看和理解文本之间的变化。\n",
    "from redlines import Redlines\n",
    "from IPython.display import display, Markdown\n",
    "# 通过 Redlines 类创建一个 diff 对象，比较两个文本：text 和 response。text 和 response 是你想要进行对比的两个字符串。\n",
    "diff = Redlines(text,response)\n",
    "# 这行代码将 diff 对象中的差异输出以 Markdown 格式进行渲染。\n",
    "display(Markdown(diff.output_markdown))"
   ]
  },
  {
   "cell_type": "code",
   "execution_count": 31,
   "id": "df94c391-bbbb-4c71-8a3f-abae937b6275",
   "metadata": {},
   "outputs": [
    {
     "data": {
      "text/markdown": [
       "```markdown\n",
       "### Review of the Panda Plush Toy\n",
       "\n",
       "I purchased this delightful panda plush toy for my daughter’s birthday, as she has a tendency to \"borrow\" mine from my room. It is worth noting that adults can appreciate the charm of pandas as well. This plush toy has quickly become a beloved companion for her; she takes it everywhere, and its softness and cuteness are undeniable.\n",
       "\n",
       "However, I did notice a minor flaw: one of the ears is slightly lower than the other, which appears to be an unintended asymmetry rather than a design choice. Additionally, while the quality is commendable, I found the size to be somewhat smaller than I anticipated for the price. There may be larger alternatives available at a similar cost.\n",
       "\n",
       "On a positive note, the toy arrived a day earlier than expected, allowing me to enjoy it briefly before presenting it to my daughter. Overall, while there are some minor drawbacks, the joy it brings to my daughter makes it a worthwhile purchase.\n",
       "```"
      ],
      "text/plain": [
       "<IPython.core.display.Markdown object>"
      ]
     },
     "metadata": {},
     "output_type": "display_data"
    }
   ],
   "source": [
    "# 综合样例\n",
    "# 下述例子展示了同一段评论，用一段prompt同时进行文本翻译+拼写纠正+风格调整+格式转换。\n",
    "text = f\"\"\"\n",
    "Got this for my daughter for her birthday cuz she keeps taking \\\n",
    "mine from my room.  Yes, adults also like pandas too.  She takes \\\n",
    "it everywhere with her, and it's super soft and cute.  One of the \\\n",
    "ears is a bit lower than the other, and I don't think that was \\\n",
    "designed to be asymmetrical. It's a bit small for what I paid for it \\\n",
    "though. I think there might be other options that are bigger for \\\n",
    "the same price.  It arrived a day earlier than expected, so I got \\\n",
    "to play with it myself before I gave it to my daughter.\n",
    "\"\"\"\n",
    "prompt = f\"\"\"\n",
    "proofread and correct this review. Make it more compelling. \n",
    "Ensure it follows APA style guide and targets an advanced reader. \n",
    "Output in markdown format.\n",
    "Text: ```{text}```\n",
    "\"\"\"\n",
    "# 校对注：APA style guide是APA Style Guide是一套用于心理学和相关领域的研究论文写作和格式化的规则。\n",
    "# 它包括了文本的缩略版，旨在快速阅读，包括引用、解释和参考列表，\n",
    "# 其详细内容可参考：https://apastyle.apa.org/about-apa-style\n",
    "# 下一单元格内的汉化prompt内容由译者进行了本地化处理，仅供参考\n",
    "response = get_completion_gpt(prompt)\n",
    "display(Markdown(response))"
   ]
  },
  {
   "cell_type": "code",
   "execution_count": 37,
   "id": "d5ebd4ba-37f4-4f3e-9237-406c5e97c8ea",
   "metadata": {},
   "outputs": [
    {
     "data": {
      "text/markdown": [
       "【优点】  \n",
       "&nbsp;&nbsp;&nbsp;&nbsp;非常可爱的设计，适合所有年龄段，连大人也会喜欢。  \n",
       "&nbsp;&nbsp;&nbsp;&nbsp;超级柔软，手感极佳，女儿随身携带，随时都能享受。  \n",
       "&nbsp;&nbsp;&nbsp;&nbsp;提前一天到货，让我有机会先体验一下，增加了惊喜感。  \n",
       "\n",
       "【缺点】  \n",
       "&nbsp;&nbsp;&nbsp;&nbsp;耳朵不对称，可能不是设计的初衷，影响了整体美观。  \n",
       "&nbsp;&nbsp;&nbsp;&nbsp;相对于价格来说，尺寸偏小，可能有更大尺寸的选择。  \n",
       "\n",
       "【总结】这款熊猫玩具非常适合送给小朋友，设计可爱且手感柔软，女儿非常喜欢，随时随地都能带着。不过，耳朵的不对称和相对较小的尺寸可能会让一些人感到不满。总体来说，性价比一般，但可爱的外观和提前到货的体验让人满意。"
      ],
      "text/plain": [
       "<IPython.core.display.Markdown object>"
      ]
     },
     "metadata": {},
     "output_type": "display_data"
    }
   ],
   "source": [
    "prompt = f\"\"\"\n",
    "针对以下三个反引号之间的英文评论文本，\n",
    "首先进行拼写及语法纠错，\n",
    "然后将其转化成中文，\n",
    "再将其转化成淘宝评论的风格，从各种角度出发，分别说明产品的优点与缺点，并进行总结。\n",
    "润色一下描述，使评论更具有吸引力。\n",
    "输出结果格式为：\n",
    "【优点】\\n缩进xxx\\n缩进xxx\\n...\n",
    "【缺点】\\n缩进xxx\\n缩进xxx\\n...\n",
    "【总结】xxx\n",
    "注意，只需填写xxx部分，并分段输出。\n",
    "将结果输出成Markdown格式。\n",
    "```{text}```\n",
    "\"\"\"\n",
    "response = get_completion_gpt(prompt)\n",
    "display(Markdown(response))"
   ]
  },
  {
   "cell_type": "code",
   "execution_count": null,
   "id": "5296b42f-3f0a-497c-aa2c-ded2e9957a98",
   "metadata": {},
   "outputs": [],
   "source": []
  }
 ],
 "metadata": {
  "kernelspec": {
   "display_name": "Python 3 (ipykernel)",
   "language": "python",
   "name": "python3"
  },
  "language_info": {
   "codemirror_mode": {
    "name": "ipython",
    "version": 3
   },
   "file_extension": ".py",
   "mimetype": "text/x-python",
   "name": "python",
   "nbconvert_exporter": "python",
   "pygments_lexer": "ipython3",
   "version": "3.8.20"
  }
 },
 "nbformat": 4,
 "nbformat_minor": 5
}
