{
 "cells": [
  {
   "cell_type": "code",
   "execution_count": 1,
   "id": "af8f2a2d-4db3-4097-9567-ce1205a851a0",
   "metadata": {},
   "outputs": [],
   "source": [
    "from openai import OpenAI"
   ]
  },
  {
   "cell_type": "code",
   "execution_count": 2,
   "id": "7b1afdfc-4ed6-487e-8445-e674eabb820d",
   "metadata": {},
   "outputs": [],
   "source": [
    "def get_completion_gpt(prompt, model=\"gpt-4o-mini\", temperature=0): \n",
    "    messages = [{\"role\": \"user\", \"content\": prompt}] # 消息队列\n",
    "    client = OpenAI()\n",
    "    response = client.chat.completions.create(\n",
    "        model=model,\n",
    "        messages=messages,\n",
    "        temperature=temperature, # 值越低则输出文本随机性越低\n",
    "    )\n",
    "    return response.choices[0].message.content"
   ]
  },
  {
   "cell_type": "code",
   "execution_count": null,
   "id": "344218fa-fb46-451b-9c64-ba719c40ca9e",
   "metadata": {},
   "outputs": [],
   "source": [
    "get_completion_gpt('你好')"
   ]
  },
  {
   "cell_type": "code",
   "execution_count": 9,
   "id": "ef749edc-0711-4915-92e5-20f40f116499",
   "metadata": {},
   "outputs": [],
   "source": [
    "# 目的是将给定的文本（text_1）转换为按步骤列出的形式。它使用一个包含格式化提示的字符串（prompt），然后将此提示传递给 \n",
    "# get_completion_gpt 方法来生成响应。\n",
    "# 插入变量： {text_1} 会被替换为 text_1 的内容，确保变量的值被插入到字符串中。\n",
    "# \\\"\\\"\\\"：这部分是转义字符（\\\"）的使用，它告诉 Python 在字符串中放入字面量的双引号（\"\"\"），而不是开始或结束字符串。\n",
    "# 这样做是为了确保最终字符串的内容中会包含这些双引号字符。\n",
    "# {text_1}：这部分是 f-string 插值语法，它会将变量 text_1 的值插入到字符串中。\n",
    "# 需要把水烧开。\\后面的还是一整个文本，没有换行"
   ]
  },
  {
   "cell_type": "code",
   "execution_count": null,
   "id": "7b20b6e1-58cf-4f3e-8452-3f60fbac04b4",
   "metadata": {},
   "outputs": [],
   "source": [
    "# 模型根据这些 顺序性词汇、操作的依赖关系 和 明确的指令性语言 判断这是一个有先后顺序、符合步骤描述的过程文本。\n",
    "# 在自然语言处理中，这种文本被识别为一个需要按顺序完成的操作流程。\n",
    "# 反斜杠（\\）的作用并不是插入换行符 \\n，而是将长文本拆分成多个物理行，但 字符串本身不会被分割成多行。在代码中，\n",
    "# 每一行文本实际上是 连接成一个完整的字符串，没有引入换行符或额外的空白字符。"
   ]
  },
  {
   "cell_type": "code",
   "execution_count": 3,
   "id": "c777b682-f203-4ceb-b4bb-cb7600912083",
   "metadata": {},
   "outputs": [
    {
     "name": "stdout",
     "output_type": "stream",
     "text": [
      "第一步 - 把水烧开。  \n",
      "第二步 - 拿一个杯子并把茶包放进去。  \n",
      "第三步 - 一旦水足够热，就把它倒在茶包上。  \n",
      "第四步 - 等待一会儿，让茶叶浸泡。  \n",
      "第五步 - 几分钟后，取出茶包。  \n",
      "第六步 - 如果你愿意，可以加一些糖或牛奶调味。  \n",
      "第七步 - 享受一杯美味的茶。  \n"
     ]
    }
   ],
   "source": [
    "# 文本理解\n",
    "# 文本总结与条件检测\n",
    "# 有步骤的文本（满足输入条件）\n",
    "text_1 = f\"\"\"\n",
    "泡一杯茶很容易。首先，需要把水烧开。\\\n",
    "在等待期间，拿一个杯子并把茶包放进去。\\\n",
    "一旦水足够热，就把它倒在茶包上。\\\n",
    "等待一会儿，让茶叶浸泡。几分钟后，取出茶包。\\\n",
    "如果你愿意，可以加一些糖或牛奶调味。\\\n",
    "就这样，你可以享受一杯美味的茶了。\n",
    "\"\"\"\n",
    "prompt = f\"\"\"\n",
    "您将获得由三个引号括起来的文本。\\\n",
    "如果它包含一系列的指令，则需要按照以下格式重新编写这些指令：\n",
    "第一步 - ...\n",
    "第二步 - …\n",
    "…\n",
    "第N步 - …\n",
    "如果文本中不包含一系列的指令，则直接写“未提供步骤”。\"\n",
    "\\\"\\\"\\\"{text_1}\\\"\\\"\\\"\n",
    "\"\"\"\n",
    "response = get_completion_gpt(prompt)\n",
    "print(response)"
   ]
  },
  {
   "cell_type": "code",
   "execution_count": 7,
   "id": "1a32122a-8462-4780-a397-c89d6832fa24",
   "metadata": {},
   "outputs": [
    {
     "name": "stdout",
     "output_type": "stream",
     "text": [
      "\n",
      "您将获得由三个引号括起来的文本。如果它包含一系列的指令，则需要按照以下格式重新编写这些指令：\n",
      "第一步 - ...\n",
      "第二步 - …\n",
      "…\n",
      "第N步 - …\n",
      "如果文本中不包含一系列的指令，则直接写“未提供步骤”。\"\n",
      "\"\"\"\n",
      "泡一杯茶很容易。首先，需要把水烧开。在等待期间，拿一个杯子并把茶包放进去。一旦水足够热，就把它倒在茶包上。等待一会儿，让茶叶浸泡。几分钟后，取出茶包。如果你愿意，可以加一些糖或牛奶调味。就这样，你可以享受一杯美味的茶了。\n",
      "\"\"\"\n",
      "\n"
     ]
    }
   ],
   "source": [
    "print(prompt)"
   ]
  },
  {
   "cell_type": "code",
   "execution_count": null,
   "id": "bdf37346-655d-41f0-bdfd-264724f04db5",
   "metadata": {},
   "outputs": [],
   "source": [
    "# 模型区分一段文本是否由步骤（或指令）组成，通常基于以下几种方式：\n",
    "# 1. 语言结构和关键词,2.上下文和动作序列,3.缺乏指令性语言,如果文本以叙述方式描述场景、感受、观察结果等，而没有明确的操作指令\n",
    "# ，那么模型会判断这不是步骤,4.上下文一致性\n",
    "# 模型主要是通过语言模式、语气、上下文的顺序以及是否有操作性的描述来判断一段文本是否包含一系列步骤。步骤通常会包括指令\n",
    "# 性的语言、时间序列以及明确的动作和目标，而没有这些特征的文本，模型则会判断为普通的描述性文本，通常会返回“未提供步骤”"
   ]
  },
  {
   "cell_type": "code",
   "execution_count": 10,
   "id": "1e6a20dd-8f40-42b7-bd5b-742c901a9d8d",
   "metadata": {},
   "outputs": [
    {
     "name": "stdout",
     "output_type": "stream",
     "text": [
      "未提供步骤。\n"
     ]
    }
   ],
   "source": [
    "# 无步骤的文本（不满足输入条件）\n",
    "# 无步骤的文本\n",
    "text_2 = f\"\"\"\n",
    "今天阳光明媚，鸟儿在歌唱。\\\n",
    "这是一个去公园散步的美好日子。\\\n",
    "鲜花盛开，树枝在微风中轻轻摇曳。\\\n",
    "人们外出享受着这美好的天气，有些人在野餐，有些人在玩游戏或者在草地上放松。\\\n",
    "这是一个完美的日子，可以在户外度过并欣赏大自然的美景。\n",
    "\"\"\"\n",
    "prompt = f\"\"\"\n",
    "您将获得由三个引号括起来的文本。\\\n",
    "如果它包含一系列的指令，则需要按照以下格式重新编写这些指令：\n",
    "第一步 - ...\n",
    "第二步 - …\n",
    "…\n",
    "第N步 - …\n",
    "如果文本中不包含一系列的指令，则直接写“未提供步骤”。\"\n",
    "\\\"\\\"\\\"{text_2}\\\"\\\"\\\"\n",
    "\"\"\"\n",
    "response = get_completion_gpt(prompt)\n",
    "print(response)"
   ]
  },
  {
   "cell_type": "code",
   "execution_count": null,
   "id": "e9f426f9-7928-4a20-b1a2-7f47d358d75a",
   "metadata": {},
   "outputs": [],
   "source": [
    "print(prompt)"
   ]
  },
  {
   "cell_type": "code",
   "execution_count": null,
   "id": "ef3f3e85-eee9-48ef-8e1c-2490b063af50",
   "metadata": {},
   "outputs": [],
   "source": [
    "# 模型会根据上下文中祖父母的回答(简短，形象，生动)，使用多个生动的比喻来表达“韧性”的概念。每个比喻都强化了“韧性”的含义"
   ]
  },
  {
   "cell_type": "code",
   "execution_count": 12,
   "id": "94e3ea0a-c91b-4522-a44c-b01eedf82e6d",
   "metadata": {},
   "outputs": [],
   "source": [
    "# 提供少量示例的文本续写（Few-shot）\n",
    "prompt = f\"\"\"\n",
    "你的任务是以一致的风格回答问题。\n",
    "<孩子>: 教我耐心。\n",
    "<祖父母>: 挖出最深峡谷的河流源于一处不起眼的泉眼；最宏伟的交响乐从单一的音符开始；最复杂的挂毯以一根孤独的线开始编织。\n",
    "<孩子>: 教我韧性。\n",
    "\"\"\""
   ]
  },
  {
   "cell_type": "code",
   "execution_count": 13,
   "id": "f890c3ac-f2fb-4e47-b8e8-b378dad77b1e",
   "metadata": {},
   "outputs": [
    {
     "name": "stdout",
     "output_type": "stream",
     "text": [
      "<祖父母>: 最坚韧的树木是在风暴中成长的；最璀璨的钻石是在压力下形成的；最美丽的花朵是在逆境中绽放的。\n"
     ]
    }
   ],
   "source": [
    "response = get_completion_gpt(prompt)\n",
    "print(response)"
   ]
  },
  {
   "cell_type": "code",
   "execution_count": null,
   "id": "739551f1-5a9c-4d83-9786-9af0588dfa40",
   "metadata": {},
   "outputs": [],
   "source": [
    "# 在 Python 中，三个反引号（```) 是用来表示 多行字符串 或者 代码块，它是键盘上 反引号（`） 键的三次按下。\n",
    "# 它位于 键盘的左上角，通常在数字键 1 的左边，按下 Shift 键时显示为波浪符号（~）。不需要按任何其他组合键，\n",
    "# 仅需连续按三次反引号键即可。"
   ]
  },
  {
   "cell_type": "code",
   "execution_count": null,
   "id": "6e0b3240-8503-4c8b-8f0c-049aeb0d3ceb",
   "metadata": {},
   "outputs": [],
   "source": [
    "# 它简洁地总结了评论中的关键内容，特别是在聚焦于运输部分的同时，简明地提到产品的其他特点。您提到的**“快递提前一天\n",
    "# 到达，令人满意”确实是评论中的一个亮点，突出了运输的优点，而“公仔可爱但相对较小，性价比略低”**则简要表达了关\n",
    "# 于产品本身的一些评价，虽然聚焦于运输，但依然涵盖了评论中的一些其他元素。"
   ]
  },
  {
   "cell_type": "code",
   "execution_count": 14,
   "id": "bf7f1dc0-6520-4ff2-84cc-18552059cea8",
   "metadata": {},
   "outputs": [
    {
     "name": "stdout",
     "output_type": "stream",
     "text": [
      "快递提前一天到达，令人满意。公仔可爱但相对较小，性价比略低。\n"
     ]
    }
   ],
   "source": [
    "# 关注点侧重(生成摘要)\n",
    "prod_review_zh = \"\"\"\n",
    "这个熊猫公仔是我给女儿的生日礼物，她很喜欢，去哪都带着。\n",
    "公仔很软，超级可爱，面部表情也很和善。但是相比于价钱来说，\n",
    "它有点小，我感觉在别的地方用同样的价钱能买到更大的。\n",
    "快递比预期提前了一天到货，所以在送给女儿之前，我自己玩了会。\n",
    "\"\"\"\n",
    "# 侧重运输\n",
    "prompt = f\"\"\"\n",
    "你的任务是从电子商务网站上生成一个产品评论的简短摘要。\n",
    "请对三个反引号之间的评论文本进行概括，最多30个词汇，并且聚焦在产品运输上。\n",
    "评论: ```{prod_review_zh}```\n",
    "\"\"\"\n",
    "response = get_completion_gpt(prompt)\n",
    "print(response)"
   ]
  },
  {
   "cell_type": "code",
   "execution_count": 15,
   "id": "1b0a688e-652b-4f41-9a8e-20b2f69fc078",
   "metadata": {},
   "outputs": [
    {
     "name": "stdout",
     "output_type": "stream",
     "text": [
      "快递比预期提前了一天到货。\n"
     ]
    }
   ],
   "source": [
    "# 关键信息提取\n",
    "prompt = f\"\"\"\n",
    "你的任务是从电子商务网站上的产品评论中提取相关信息。\n",
    "请从以下三个反引号之间的评论文本中提取产品运输相关的信息，最多30个词汇。\n",
    "评论: ```{prod_review_zh}```\n",
    "\"\"\"\n",
    "response = get_completion_gpt(prompt)\n",
    "print(response)"
   ]
  },
  {
   "cell_type": "code",
   "execution_count": null,
   "id": "c5d65c8b-8777-46f3-9edc-45c72a7a207d",
   "metadata": {},
   "outputs": [],
   "source": [
    "# 上面的应用涵盖文本理解，示例文本续写，关键信息提取"
   ]
  },
  {
   "cell_type": "code",
   "execution_count": null,
   "id": "25c4d9b0-2997-41b1-b1fe-a03ef7bfaeb9",
   "metadata": {},
   "outputs": [],
   "source": [
    "# 在提供的 prompt 中，模型的步骤应该如下：\n",
    "# 概括 <{text}> 中的内容。\n",
    "# 将概括翻译成英语。\n",
    "# 列出英语摘要中的所有人名（例如杰克和吉尔）。\n",
    "# 输出一个 JSON 对象，包含英文摘要和名称数量。\n",
    "# 因此，模型理解并处理的是 {text} 中的文本，而 <> 和 {} 的作用是区分任务指示和实际数据。"
   ]
  },
  {
   "cell_type": "code",
   "execution_count": 16,
   "id": "b81cdbd3-9576-49bc-b41d-509ba299acf4",
   "metadata": {},
   "outputs": [],
   "source": [
    "# 结构化输出\n",
    "text = f\"\"\"\n",
    "在一个迷人的村庄里，兄妹杰克和吉尔出发去一个山顶井里打水。\\\n",
    "他们一边唱着欢乐的歌，一边往上爬，\\\n",
    "然而不幸降临——杰克绊了一块石头，从山上滚了下来，吉尔紧随其后。\\\n",
    "虽然略有些摔伤，但他们还是回到了温馨的家中。\\\n",
    "尽管出了这样的意外，他们的冒险精神依然没有减弱，继续充满愉悦地探索。\n",
    "\"\"\"\n",
    "# example \n",
    "prompt = f\"\"\"\n",
    "1-用一句话概括下面用<>括起来的文本。\n",
    "2-将摘要翻译成英语。\n",
    "3-在英语摘要中列出每个名称。\n",
    "4-输出一个 JSON 对象，其中包含以下键：English_summary，num_names。\n",
    "请使用以下格式：\n",
    "文本：<要总结的文本>\n",
    "摘要：<摘要>\n",
    "翻译：<摘要的翻译>\n",
    "名称：<英语摘要中的名称列表>\n",
    "输出 JSON：<带有 English_summary 和 num_names 的 JSON>\n",
    "Text: <{text}>\n",
    "\"\"\""
   ]
  },
  {
   "cell_type": "code",
   "execution_count": 17,
   "id": "b3db4530-d6e1-4b3b-8860-adb521a03aea",
   "metadata": {},
   "outputs": [
    {
     "name": "stdout",
     "output_type": "stream",
     "text": [
      "\n",
      "1-用一句话概括下面用<>括起来的文本。\n",
      "2-将摘要翻译成英语。\n",
      "3-在英语摘要中列出每个名称。\n",
      "4-输出一个 JSON 对象，其中包含以下键：English_summary，num_names。\n",
      "请使用以下格式：\n",
      "文本：<要总结的文本>\n",
      "摘要：<摘要>\n",
      "翻译：<摘要的翻译>\n",
      "名称：<英语摘要中的名称列表>\n",
      "输出 JSON：<带有 English_summary 和 num_names 的 JSON>\n",
      "Text: <\n",
      "在一个迷人的村庄里，兄妹杰克和吉尔出发去一个山顶井里打水。他们一边唱着欢乐的歌，一边往上爬，然而不幸降临——杰克绊了一块石头，从山上滚了下来，吉尔紧随其后。虽然略有些摔伤，但他们还是回到了温馨的家中。尽管出了这样的意外，他们的冒险精神依然没有减弱，继续充满愉悦地探索。\n",
      ">\n",
      "\n"
     ]
    }
   ],
   "source": [
    "print(prompt)"
   ]
  },
  {
   "cell_type": "code",
   "execution_count": 18,
   "id": "74ab5301-0f29-47a0-8c5a-1a9387a321ff",
   "metadata": {},
   "outputs": [
    {
     "name": "stdout",
     "output_type": "stream",
     "text": [
      "摘要：兄妹杰克和吉尔在爬山打水时不幸摔倒，但他们依然保持冒险精神，继续探索。  \n",
      "翻译：Siblings Jack and Jill fell while climbing a hill to fetch water, but they maintained their adventurous spirit and continued to explore.  \n",
      "名称：[\"Jack\", \"Jill\"]  \n",
      "输出 JSON：{\"English_summary\":\"Siblings Jack and Jill fell while climbing a hill to fetch water, but they maintained their adventurous spirit and continued to explore.\",\"num_names\":2}\n"
     ]
    }
   ],
   "source": [
    "response = get_completion_gpt(prompt)\n",
    "print(response)"
   ]
  },
  {
   "cell_type": "code",
   "execution_count": 19,
   "id": "3ac2f056-c450-4889-bdba-225960619bef",
   "metadata": {},
   "outputs": [],
   "source": [
    "# 从客户的评论中提取结构化信息\n",
    "# 中文\n",
    "lamp_review_zh = \"\"\"\n",
    "我需要一盏漂亮的卧室灯，这款灯具有额外的储物功能，价格也不算太高。\\\n",
    "我很快就收到了它。在运输过程中，我们的灯绳断了，但是公司很乐意寄送了一个新的。\\\n",
    "几天后就收到了。这款灯很容易组装。我发现少了一个零件，于是联系了他们的客服，他们很快就给我寄来了缺失的零件！\\\n",
    "在我看来，Lumina 是一家非常关心顾客和产品的优秀公司！\n",
    "\"\"\"\n",
    "# 中文\n",
    "prompt = f\"\"\"\n",
    "从评论文本中识别以下项目：\n",
    "- 评论者购买的物品\n",
    "- 制造该物品的公司\n",
    "评论文本用三个反引号分隔。将你的响应格式化为以 “物品” 和 “品牌” 为键的 JSON 对象。\n",
    "如果信息不存在，请使用 “未知” 作为值。\n",
    "让你的回应尽可能简短。\n",
    "评论文本: ```{lamp_review_zh}```\n",
    "\"\"\""
   ]
  },
  {
   "cell_type": "code",
   "execution_count": 20,
   "id": "2bdb153b-5a49-4531-9aea-a7367b9a7753",
   "metadata": {},
   "outputs": [
    {
     "name": "stdout",
     "output_type": "stream",
     "text": [
      "```json\n",
      "{\n",
      "  \"物品\": \"卧室灯\",\n",
      "  \"品牌\": \"Lumina\"\n",
      "}\n",
      "```\n"
     ]
    }
   ],
   "source": [
    "response = get_completion_gpt(prompt)\n",
    "print(response)"
   ]
  },
  {
   "cell_type": "code",
   "execution_count": 21,
   "id": "ec363132-c2ed-47c6-bff2-c7bb026825a3",
   "metadata": {},
   "outputs": [
    {
     "name": "stdout",
     "output_type": "stream",
     "text": [
      "```json\n",
      "{\n",
      "  \"Sentiment\": \"正面\",\n",
      "  \"Anger\": false,\n",
      "  \"Item\": \"卧室灯\",\n",
      "  \"Brand\": \"Lumina\"\n",
      "}\n",
      "```\n"
     ]
    }
   ],
   "source": [
    "# 一次提取多条信息\n",
    "# 中文\n",
    "prompt = f\"\"\"\n",
    "从评论文本中识别以下项目：\n",
    "- 情绪（正面或负面）\n",
    "- 审稿人是否表达了愤怒？（是或否）\n",
    "- 评论者购买的物品\n",
    "- 制造该物品的公司\n",
    "评论用三个反引号分隔。将您的响应格式化为 JSON 对象，以 “Sentiment”、“Anger”、“Item” 和 “Brand” 作为键。\n",
    "如果信息不存在，请使用 “未知” 作为值。\n",
    "让你的回应尽可能简短。\n",
    "将 Anger 值格式化为布尔值。\n",
    "评论文本: ```{lamp_review_zh}```\n",
    "\"\"\"\n",
    "response = get_completion_gpt(prompt)\n",
    "print(response)"
   ]
  },
  {
   "cell_type": "code",
   "execution_count": 30,
   "id": "fff92262-36e5-44e5-aa02-d1862c9bb70c",
   "metadata": {},
   "outputs": [
    {
     "data": {
      "text/plain": [
       "'{\\n  \"Sentiment\": \"正面\",\\n  \"Anger\": false,\\n  \"Item\": \"卧室灯\",\\n  \"Brand\": \"Lumina\"\\n}\\n'"
      ]
     },
     "execution_count": 30,
     "metadata": {},
     "output_type": "execute_result"
    }
   ],
   "source": [
    "response[response.index('{'):response.rindex('```')]"
   ]
  },
  {
   "cell_type": "code",
   "execution_count": 31,
   "id": "93f6a1d3-3a1b-47cc-8505-512b9e56048b",
   "metadata": {},
   "outputs": [
    {
     "name": "stdout",
     "output_type": "stream",
     "text": [
      "{'Sentiment': '正面', 'Anger': False, 'Item': '卧室灯', 'Brand': 'Lumina'}\n"
     ]
    }
   ],
   "source": [
    "import json\n",
    "data = json.loads(response[response.index('{'):response.rindex('```')])\n",
    "# 打印转换后的字典对象\n",
    "print(data)"
   ]
  },
  {
   "cell_type": "code",
   "execution_count": 33,
   "id": "0a1a3c64-bf1e-4b56-be4c-8e1831428e2b",
   "metadata": {},
   "outputs": [
    {
     "name": "stdout",
     "output_type": "stream",
     "text": [
      "中文: 我想订购一个篮球。\n",
      "\n",
      "英文: I want to order a basketball.\n",
      "\n",
      "法语: Je veux commander un ballon de basket.\n",
      "\n",
      "西班牙语: Quiero pedir un balón de baloncesto.\n"
     ]
    }
   ],
   "source": [
    "# 翻译与转换\n",
    "# 多语种翻译\n",
    "prompt = f\"\"\"\n",
    "请将以下文本分别翻译成中文、英文、法语和西班牙语: \n",
    "```I want to order a basketball.```\n",
    "\"\"\"\n",
    "response = get_completion_gpt(prompt)\n",
    "print(response)"
   ]
  },
  {
   "cell_type": "code",
   "execution_count": null,
   "id": "c05efb1c-aa61-45ba-862d-d0edb0a3c0a8",
   "metadata": {},
   "outputs": [],
   "source": [
    "# f-string：格式化字符串，通常用于插入变量值。\n",
    "# 如果您的字符串中没有变量或表达式，那么加不加 f 是一样的，输出结果会一样。"
   ]
  },
  {
   "cell_type": "code",
   "execution_count": null,
   "id": "813066c5-605b-49cf-b6ec-4ca86065dd62",
   "metadata": {},
   "outputs": [],
   "source": [
    "# 正式语气：通常用于商务、正式场合，语言更加礼貌、规范。例如：“Would you like to order a pillow?” \n",
    "# 这种问句是比较正式的，语气较为客气。\n",
    "# 非正式语气：用于朋友、熟人之间，语气更轻松、随意。例如：“Do you want to get a pillow?” 或者\n",
    "# “Wanna grab a pillow?”，这些表述通常带有更轻松、随意的感觉\n",
    "# 正式与非正式 语气的差别：正式语气多了一些礼貌成分，而非正式语气则更加简洁和随意。"
   ]
  },
  {
   "cell_type": "code",
   "execution_count": 35,
   "id": "ff512cbd-99e1-4e64-8dd7-9a9782ee38ae",
   "metadata": {},
   "outputs": [
    {
     "name": "stdout",
     "output_type": "stream",
     "text": [
      "正式语气：您想要订购一个枕头吗？\n",
      "\n",
      "非正式语气：你想要买个枕头吗？\n"
     ]
    }
   ],
   "source": [
    "# 翻译+正式语气\n",
    "prompt = f\"\"\"\n",
    "请将以下文本翻译成中文，分别展示成正式与非正式两种语气: \n",
    "```Would you like to order a pillow?```\n",
    "\"\"\"\n",
    "response = get_completion_gpt(prompt)\n",
    "print(response)"
   ]
  },
  {
   "cell_type": "code",
   "execution_count": null,
   "id": "d3430cf3-e2be-4d18-add9-ad8052a77dfc",
   "metadata": {},
   "outputs": [],
   "source": [
    "# - 是用来列举不同费用项的符号，起到 分隔不同项 的作用。它将每项费用列出，以便于逐条理解和计算。\n",
    "# 在这种情况下，它并不是数学运算符，而是 项目符号，通常用于清晰地列出信息。"
   ]
  },
  {
   "cell_type": "code",
   "execution_count": null,
   "id": "958af3e1-f8e8-4547-a381-5d1aeba51f5c",
   "metadata": {},
   "outputs": [],
   "source": [
    "# 解析文本：识别费用项和它们与平方英尺数的关系。\n",
    "# 定义变量：使用变量 x 表示平方英尺数。\n",
    "# 转换为数学公式：将各项费用用数学表达式表示。\n",
    "# 合并并简化：将费用项合并成一个公式。\n",
    "# 呈现答案：给出最终的公式并进行解释。\n",
    "# 这种逐步解析并构建数学模型的方式是LLM解决类似问题的常见方法。"
   ]
  },
  {
   "cell_type": "code",
   "execution_count": null,
   "id": "c83a7cd4-e536-461a-9dd3-eaa159458718",
   "metadata": {},
   "outputs": [],
   "source": [
    "# 理解自然语言并将其转换为数学表达式，实际上是自然语言处理（NLP）中的一个复杂任务。这需要模型不仅具备语言理解能力\n",
    "# ，还要能够推理、抽象并生成特定格式的信息。在这个问题中，模型将语言中的费用描述转换成了数学公式，这主要依赖于以下几个方面：\n",
    "# 1. 语言模型的训练数据，2. 语言模型的抽象能力，3. 推理和上下文理解，4. 数学关系的生成，5. 符号处理能力，6. 生成答案"
   ]
  },
  {
   "cell_type": "code",
   "execution_count": 36,
   "id": "27ea14cc-bb07-480a-97c7-b09831671746",
   "metadata": {},
   "outputs": [
    {
     "name": "stdout",
     "output_type": "stream",
     "text": [
      "问题：我正在建造一个太阳能发电站，需要帮助计算财务。 \n",
      "- 土地费用为每平方英尺100美元\n",
      "- 我可以以每平方英尺250美元的价格购买太阳能电池板\n",
      "- 我已经谈判好了维护合同，每年需要支付固定的10万美元，并额外支付每平方英尺10美元\n",
      "作为平方英尺数的函数，首年运营的总费用是多少。\n",
      "\n",
      "学生的解决方案：\n",
      "设x为发电站的大小，单位为平方英尺。\n",
      "费用：\n",
      "1. 土地费用：100x\n",
      "2. 太阳能电池板费用：250x\n",
      "3. 维护费用：100,000+100x\n",
      "总费用：100x+250x+100,000+100x=450x+100,000\n",
      "\n",
      "实际解决方案和步骤：\n",
      "1. 土地费用：每平方英尺100美元，面积为x平方英尺，因此土地费用为100x。\n",
      "2. 太阳能电池板费用：每平方英尺250美元，面积为x平方英尺，因此太阳能电池板费用为250x。\n",
      "3. 维护费用：固定费用为100,000美元，额外费用为每平方英尺10美元，面积为x平方英尺，因此维护费用为100,000 + 10x。\n",
      "4. 总费用计算：\n",
      "   - 土地费用：100x\n",
      "   - 太阳能电池板费用：250x\n",
      "   - 维护费用：100,000 + 10x\n",
      "   - 总费用 = 100x + 250x + (100,000 + 10x) = 100x + 250x + 100,000 + 10x = 360x + 100,000\n",
      "\n",
      "学生的解决方案和实际解决方案是否相同：否  \n",
      "学生的成绩：不正确\n"
     ]
    }
   ],
   "source": [
    "# 逻辑推理\n",
    "prompt = f\"\"\"\n",
    "请判断学生的解决方案是否正确，请通过如下步骤解决这个问题：\n",
    "步骤：\n",
    "    首先，自己解决问题。\n",
    "    然后将你的解决方案与学生的解决方案进行比较，并评估学生的解决方案是否正确。在自己完成问题之前，请勿决定学生的解决方案是否正确。\n",
    "使用以下格式：\n",
    "    问题：问题文本\n",
    "    学生的解决方案：学生的解决方案文本\n",
    "    实际解决方案和步骤：实际解决方案和步骤文本\n",
    "    学生的解决方案和实际解决方案是否相同：是或否\n",
    "    学生的成绩：正确或不正确\n",
    "问题：\n",
    "    我正在建造一个太阳能发电站，需要帮助计算财务。 \n",
    "    - 土地费用为每平方英尺100美元\n",
    "    - 我可以以每平方英尺250美元的价格购买太阳能电池板\n",
    "    - 我已经谈判好了维护合同，每年需要支付固定的10万美元，并额外支付每平方英尺10美元\n",
    "    作为平方英尺数的函数，首年运营的总费用是多少。\n",
    "学生的解决方案：\n",
    "    设x为发电站的大小，单位为平方英尺。\n",
    "    费用：\n",
    "    1. 土地费用：100x\n",
    "    2. 太阳能电池板费用：250x\n",
    "    3. 维护费用：100,000+100x\n",
    "    总费用：100x+250x+100,000+100x=450x+100,000\n",
    "实际解决方案和步骤：\n",
    "\"\"\"\n",
    "response = get_completion_gpt(prompt)\n",
    "print(response)"
   ]
  },
  {
   "cell_type": "code",
   "execution_count": null,
   "id": "1ad8c597-1bb1-4136-b340-077173e1054d",
   "metadata": {},
   "outputs": [],
   "source": []
  }
 ],
 "metadata": {
  "kernelspec": {
   "display_name": "Python 3 (ipykernel)",
   "language": "python",
   "name": "python3"
  },
  "language_info": {
   "codemirror_mode": {
    "name": "ipython",
    "version": 3
   },
   "file_extension": ".py",
   "mimetype": "text/x-python",
   "name": "python",
   "nbconvert_exporter": "python",
   "pygments_lexer": "ipython3",
   "version": "3.8.20"
  }
 },
 "nbformat": 4,
 "nbformat_minor": 5
}
