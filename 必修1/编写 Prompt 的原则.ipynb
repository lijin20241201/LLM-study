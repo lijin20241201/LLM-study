{
 "cells": [
  {
   "cell_type": "code",
   "execution_count": null,
   "id": "f07e1c97-686d-46ec-966e-5ef36cc86f77",
   "metadata": {},
   "outputs": [],
   "source": [
    "# 本章的主要内容为编写 Prompt 的原则，在本章中，我们将给出两个编写 Prompt 的原则与一些相关的策略，您可以练习编写\n",
    "# 高效的 Prompt，从而便捷而有效地使用 LLM。"
   ]
  },
  {
   "cell_type": "code",
   "execution_count": null,
   "id": "daab830f-0f07-4f12-b57e-c5de3ea9178f",
   "metadata": {},
   "outputs": [],
   "source": [
    "# 首先需要安装 OpenAI 库：\n",
    "# pip install openai"
   ]
  },
  {
   "cell_type": "code",
   "execution_count": 1,
   "id": "64455385-96f2-4d59-93e1-45b57a1eb38d",
   "metadata": {},
   "outputs": [],
   "source": [
    "from openai import OpenAI"
   ]
  },
  {
   "cell_type": "code",
   "execution_count": 2,
   "id": "6e844708-0054-4c04-813e-d728fadda4a2",
   "metadata": {},
   "outputs": [],
   "source": [
    "import os\n",
    "import openai"
   ]
  },
  {
   "cell_type": "code",
   "execution_count": null,
   "id": "29b6a9c7-717f-4ec2-90d9-1d76a6b157e1",
   "metadata": {},
   "outputs": [],
   "source": [
    "openai.api_key=os.environ.get('INNER_OPENAI_API_KEY')"
   ]
  },
  {
   "cell_type": "code",
   "execution_count": null,
   "id": "0e2a42e4-6191-4799-9b9c-1fde7a461f6e",
   "metadata": {},
   "outputs": [],
   "source": [
    "openai.base_url = \"https://free.v36.cm/v1/\""
   ]
  },
  {
   "cell_type": "code",
   "execution_count": 3,
   "id": "786da995-b253-4b60-bca0-db351e706bee",
   "metadata": {},
   "outputs": [],
   "source": [
    "client = OpenAI()\n",
    "def get_completion_gpt(prompt, model=\"gpt-4o-mini\", temperature=0): \n",
    "    messages = [{\"role\": \"user\", \"content\": prompt}] # 消息队列\n",
    "    response = client.chat.completions.create(\n",
    "        model=model,\n",
    "        messages=messages,\n",
    "        temperature=temperature, # 值越低则输出文本随机性越低\n",
    "    )\n",
    "    return response.choices[0].message.content"
   ]
  },
  {
   "cell_type": "code",
   "execution_count": null,
   "id": "5fe43b1f-854b-4ce3-8c51-b13cd417718f",
   "metadata": {},
   "outputs": [],
   "source": [
    "def get_completion(prompt, model=\"gpt-3.5-turbo\", temperature=0): \n",
    "    messages = [{\"role\": \"user\", \"content\": prompt}] \n",
    "    response = openai.chat.completions.create(\n",
    "        model=model,\n",
    "        messages=messages,\n",
    "        temperature=temperature, # 值越低则输出文本随机性越低\n",
    "    )\n",
    "    return response.choices[0].message.content"
   ]
  },
  {
   "cell_type": "code",
   "execution_count": null,
   "id": "5687c9bc-b58d-4579-befc-0fdb3f095a5c",
   "metadata": {},
   "outputs": [],
   "source": [
    "# 两个基本原则\n",
    "# 原则一：编写清晰、具体的指令\n",
    "# 您应该通过提供尽可能清晰和具体的指令来表达您希望模型执行的操作。这将引导模型给出正确的输出，并降低您得\n",
    "# 到无关或不正确响应的可能性。清晰的指令不意味着必须简短，在许多情况下，更长的 Prompt 实际上更清晰，且\n",
    "# 提供了更多上下文，也就可能产生更详细更相关的输出。\n",
    "# 使用分隔符清晰地表示输入的不同部分\n",
    "# 分隔符可以是：```，\"\"，<>，:，<tag> </tag>等。\n",
    "# 您可以使用任何明显的标点符号将特定的文本部分与 Prompt 的其余部分分开。标记的形式不限，只需要让模型明\n",
    "# 确知道这是一个单独部分。使用分隔符可以有效避免提示词注入( Prompt injection )。提示词注入是指如果允许\n",
    "# 用户将某些输入添加到（开发者预定义的） Prompt 中，则所提供的指令可能会与开发者想要执行的操作相冲突，从\n",
    "# 而使 LLM 遵循用户输入的指令，而非执行开发者预期的操作。即，输入里面可能包含其他指令，会覆盖掉您的指令。\n",
    "# 对此，使用分隔符是一个不错的策略。"
   ]
  },
  {
   "cell_type": "code",
   "execution_count": 4,
   "id": "b102ec61-3c7d-4bae-9472-8b367e3ca683",
   "metadata": {},
   "outputs": [],
   "source": [
    "# 在以下的例子中，我们给出一段话并要求 GPT 进行总结，在该示例中我们使用 ``` 来作为分隔符。\n",
    "# 中文版见下一个 cell\n",
    "text = \"\"\"\n",
    "你应该通过提供尽可能清晰和具体的指令来表达你希望模型做的事情。这样可以引导模型朝着期望的输出方向，\\\n",
    "减少收到无关或错误回答的可能性。不要将写清晰的提示与写简短的提示混淆。在许多情况下，较长的提示提\\\n",
    "供了更多的清晰度和上下文，这可以导致更详细和相关的输出。\n",
    "\"\"\""
   ]
  },
  {
   "cell_type": "code",
   "execution_count": null,
   "id": "4c745eb9-5f06-4964-8a9a-b00c5d427e5f",
   "metadata": {},
   "outputs": [],
   "source": [
    "print(text)"
   ]
  },
  {
   "cell_type": "code",
   "execution_count": 5,
   "id": "81996e26-b199-4d94-a830-1fe4655265a1",
   "metadata": {},
   "outputs": [
    {
     "name": "stdout",
     "output_type": "stream",
     "text": [
      "提供清晰具体的指令可以有效引导模型生成相关的输出，较长的提示往往能提供更多上下文。\n"
     ]
    }
   ],
   "source": [
    "prompt = f\"\"\"\n",
    "        将三个反引号之间的文本总结成一句话。\n",
    "        ```{text}```\n",
    "    \"\"\"\n",
    "response = get_completion_gpt(prompt)\n",
    "print(response)"
   ]
  },
  {
   "cell_type": "code",
   "execution_count": null,
   "id": "be363a2d-58a3-4633-ac68-ad0fe04c7887",
   "metadata": {},
   "outputs": [],
   "source": [
    "response_35 = get_completion(prompt)\n",
    "print(response_35)"
   ]
  },
  {
   "cell_type": "code",
   "execution_count": null,
   "id": "40cf60f3-556b-4639-a8d2-25e77b66d7f9",
   "metadata": {},
   "outputs": [],
   "source": [
    "# 寻求结构化的输出\n",
    "# 输出可以是 Json、HTML 等格式。\n",
    "# 第二个策略是要求生成一个结构化的输出，这可以使模型的输出更容易被我们解析，例如，您可以在 Python 中将其读入字典或列表中。\n",
    "# 在以下示例中，我们要求 GPT 生成三本书的标题、作者和类别，并要求 GPT 以 Json 的格式返回给我们，为便于解析，我们指定了 Json 的键。"
   ]
  },
  {
   "cell_type": "code",
   "execution_count": 6,
   "id": "05d02c0e-dd33-443e-9ca2-2fea2cba7648",
   "metadata": {},
   "outputs": [
    {
     "name": "stdout",
     "output_type": "stream",
     "text": [
      "以下是三本虚构书籍的清单，以 JSON 格式提供：\n",
      "\n",
      "```json\n",
      "[\n",
      "    {\n",
      "        \"book_id\": 1,\n",
      "        \"title\": \"星际迷航者\",\n",
      "        \"author\": \"李明\",\n",
      "        \"genre\": \"科幻\"\n",
      "    },\n",
      "    {\n",
      "        \"book_id\": 2,\n",
      "        \"title\": \"时间的尽头\",\n",
      "        \"author\": \"张华\",\n",
      "        \"genre\": \"奇幻\"\n",
      "    },\n",
      "    {\n",
      "        \"book_id\": 3,\n",
      "        \"title\": \"消失的记忆\",\n",
      "        \"author\": \"王芳\",\n",
      "        \"genre\": \"悬疑\"\n",
      "    }\n",
      "]\n",
      "```\n"
     ]
    }
   ],
   "source": [
    "prompt = f\"\"\"\n",
    "请生成包括书名、作者和类别的三本虚构书籍清单，\\\n",
    "并以 JSON 格式提供，其中包含以下键:book_id、title、author、genre。\n",
    "\"\"\"\n",
    "response = get_completion_gpt(prompt)\n",
    "print(response)"
   ]
  },
  {
   "cell_type": "code",
   "execution_count": 10,
   "id": "57ee24b5-1f5f-47f8-984e-ee5f1755dd20",
   "metadata": {},
   "outputs": [
    {
     "name": "stdout",
     "output_type": "stream",
     "text": [
      "Text 1 的总结:\n",
      "第一步 - 把水烧开。  \n",
      "第二步 - 拿一个杯子并把茶包放进去。  \n",
      "第三步 - 将热水倒在茶包上。  \n",
      "第四步 - 等待一会儿，让茶叶浸泡。  \n",
      "第五步 - 几分钟后，取出茶包。  \n",
      "第六步 - 如果愿意，可以加一些糖或牛奶调味。  \n",
      "第七步 - 享受一杯美味的茶。  \n"
     ]
    }
   ],
   "source": [
    "# 要求模型检查是否满足条件\n",
    "# 如果任务包含不一定能满足的假设（条件），我们可以告诉模型先检查这些假设，如果不满足，则会指出并停止执行后续\n",
    "# 的完整流程。您还可以考虑可能出现的边缘情况及模型的应对，以避免意外的结果或错误发生。\n",
    "# 在如下示例中，我们将分别给模型两段文本，分别是制作茶的步骤以及一段没有明确步骤的文本。我们将要求模型判断\n",
    "# 其是否包含一系列指令，如果包含则按照给定格式重新编写指令，不包含则回答“未提供步骤”。\n",
    "# 满足条件的输入（text中提供了步骤）\n",
    "text_1 = \"\"\"\n",
    "泡一杯茶很容易。首先，需要把水烧开。在等待期间，拿一个杯子并把茶包放进去。\\\n",
    "一旦水足够热，就把它倒在茶包上。等待一会儿，让茶叶浸泡。几分钟后，取出茶包。\\\n",
    "如果您愿意，可以加一些糖或牛奶调味。就这样，您可以享受一杯美味的茶了。\n",
    "\"\"\"\n",
    "prompt = f\"\"\"\n",
    "你首先浏览下面<tag></tag>之间的文本,\\\n",
    "如果它包含一系列的指令，则需要按照以下格式重新编写这些指令：\n",
    "第一步 - ...\n",
    "第二步 - …\n",
    "…\n",
    "第N步 - …\n",
    "如果文本中不包含一系列的指令，则直接写“未提供步骤”。\"\n",
    "    text:<tag>{text_1}</tag>\n",
    "\"\"\"\n",
    "response = get_completion_gpt(prompt)\n",
    "print(\"Text 1 的总结:\")\n",
    "print(response)"
   ]
  },
  {
   "cell_type": "code",
   "execution_count": 11,
   "id": "3b81bba4-fa38-47c9-b885-d5a1be1d3777",
   "metadata": {},
   "outputs": [
    {
     "name": "stdout",
     "output_type": "stream",
     "text": [
      "\n",
      "你首先浏览下面<tag></tag>之间的文本,如果它包含一系列的指令，则需要按照以下格式重新编写这些指令：\n",
      "第一步 - ...\n",
      "第二步 - …\n",
      "…\n",
      "第N步 - …\n",
      "如果文本中不包含一系列的指令，则直接写“未提供步骤”。\"\n",
      "    text:<tag>\n",
      "泡一杯茶很容易。首先，需要把水烧开。在等待期间，拿一个杯子并把茶包放进去。一旦水足够热，就把它倒在茶包上。等待一会儿，让茶叶浸泡。几分钟后，取出茶包。如果您愿意，可以加一些糖或牛奶调味。就这样，您可以享受一杯美味的茶了。\n",
      "</tag>\n",
      "\n"
     ]
    }
   ],
   "source": [
    "print(prompt)"
   ]
  },
  {
   "cell_type": "code",
   "execution_count": 13,
   "id": "d5e6a273-02f4-414c-a816-55a66c79f823",
   "metadata": {},
   "outputs": [
    {
     "name": "stdout",
     "output_type": "stream",
     "text": [
      "Text 2 的总结:\n",
      "未提供步骤。\n"
     ]
    }
   ],
   "source": [
    "# 不满足条件的输入（text中未提供预期指令）\n",
    "text_2 = \"\"\"\n",
    "今天阳光明媚，鸟儿在歌唱。这是一个去公园散步的美好日子。\\\n",
    "鲜花盛开，树枝在微风中轻轻摇曳。人们外出享受着这美好的天气，\\\n",
    "有些人在野餐，有些人在玩游戏或者在草地上放松。这是一个完美\\\n",
    "的日子，可以在户外度过并欣赏大自然的美景。\n",
    "\"\"\"\n",
    "prompt = f\"\"\"\n",
    "您将获得由三个反引号括起来的文本。\\\n",
    "如果它包含一系列的指令，则需要按照以下格式重新编写这些指令：\n",
    "第一步 - ...\n",
    "第二步 - …\n",
    "…\n",
    "第N步 - …\n",
    "如果文本中不包含一系列的指令，则直接写“未提供步骤”。\"\n",
    "  text:```{text_2}```\n",
    "\"\"\"\n",
    "response = get_completion_gpt(prompt)\n",
    "print(\"Text 2 的总结:\")\n",
    "print(response)"
   ]
  },
  {
   "cell_type": "code",
   "execution_count": 14,
   "id": "ad29f0c8-249b-49e8-8ab2-e46a9ffa7f07",
   "metadata": {},
   "outputs": [
    {
     "name": "stdout",
     "output_type": "stream",
     "text": [
      "在暴风雨中，最坚韧的树木是那些经历过无数风雨的；最美丽的花朵是那些在艰难环境中依然绽放的；最强大的河流是那些在岩石间蜿蜒而过，永不放弃的。\n"
     ]
    }
   ],
   "source": [
    "# 提供少量示例（少样本提示词，Few-shot prompting）\n",
    "# 即在要求模型执行实际任务之前，提供给它少量成功执行任务的示例。\n",
    "# 例如，在以下的示例中，我们告诉模型其任务是以一致的风格回答问题，并先给它一个孩子和祖父之间的对话的\n",
    "# 例子。孩子说，“请教我何为耐心”，祖父用下述风格的隐喻来回答。由于我们已经告诉模型要以一致的语气回答，\n",
    "# 因此现在我们问“请教我何为韧性”，由于模型已经有了这个少样本示例( few-shot example )，它将以类似\n",
    "# 的语气回答下一个任务。\n",
    "prompt = \"\"\"\n",
    "    您的任务是以一致的风格回答问题。<孩子>: 教我耐心。\n",
    "    <祖父母>: 挖出最深峡谷的河流源于一处不起眼的泉眼；最宏伟的交响乐从单一的音符开始；最复杂的挂毯以一根孤独的线开始编织。\n",
    "    <孩子>: 教我韧性。\n",
    "    <祖父母>:\n",
    "\"\"\"\n",
    "response = get_completion_gpt(prompt)\n",
    "print(response)"
   ]
  },
  {
   "cell_type": "code",
   "execution_count": null,
   "id": "30ba3993-d3b5-4067-9058-f2240c2a82eb",
   "metadata": {},
   "outputs": [],
   "source": [
    "# 给模型时间去思考\n",
    "# 如果您发现模型推理过程过于匆忙，导致得出了错误的结论，那么您应该尝试重新构思 Prompt ，要求模型在提\n",
    "# 供最终答案之前开展思维链，或进行一系列相关推理（a chain or series of relevant reasoning）。换\n",
    "# 句话说，如果您给模型一个在短时间内或用少量文字无法完成的复杂任务，它的输出结果就容易出错。这种情况对人\n",
    "# 来说也是类似：如果您要求某人完成复杂的数学问题，又不给足够时间计算出答案，他们也可能会犯错误。因此，在\n",
    "# 这些情况下，您应该指示模型花更多时间思考问题，让它在任务上花费更多计算资源。"
   ]
  },
  {
   "cell_type": "code",
   "execution_count": 15,
   "id": "35f3b360-14c9-47a0-a69a-3ab40aa0a214",
   "metadata": {},
   "outputs": [
    {
     "name": "stdout",
     "output_type": "stream",
     "text": [
      "prompt 1:\n",
      "兄妹杰克和吉尔在爬山打水时不幸摔下山，但他们依然保持冒险精神，继续探索。  \n",
      "Les frères et sœurs Jack et Jill sont tombés de la montagne en allant chercher de l'eau, mais ils conservent leur esprit d'aventure et continuent à explorer.  \n",
      "人名：杰克，吉尔  \n",
      "```json\n",
      "{\n",
      "  \"French_summary\": \"Les frères et sœurs Jack et Jill sont tombés de la montagne en allant chercher de l'eau, mais ils conservent leur esprit d'aventure et continuent à explorer.\",\n",
      "  \"num_names\": 2\n",
      "}\n",
      "```\n"
     ]
    }
   ],
   "source": [
    "# 指定完成任务所需的步骤\n",
    "# 接下来我们将通过给定一个复杂任务，给出完成该任务的一系列步骤，来展示这一策略的效果。\n",
    "# 首先我们描述了杰克和吉尔的故事，并给出提示词执行以下操作：首先，用一句话概括三个反引号限定的文本。第二，将摘\n",
    "# 要翻译成法语。第三，在法语摘要中列出每个名称。第四，输出包含以下键的 JSON 对象：法语摘要和人名个数。要求输出\n",
    "# 以换行符分隔。\n",
    "text = \"\"\"\n",
    "在一个迷人的村庄里，兄妹杰克和吉尔出发去一个山顶井里打水。他们一边唱着欢乐的歌，一边往上爬，\\\n",
    "然而不幸降临——杰克绊了一块石头，从山上滚了下来，吉尔紧随其后。虽然略有些摔伤，但他们还是回到\n",
    "了温馨的家中。尽管出了这样的意外，他们的冒险精神依然没有减弱，继续充满愉悦地探索。\n",
    "\"\"\"\n",
    "prompt_1 = f\"\"\"\n",
    "    执行以下操作：1.用一句话概括下面用三个反引号括起来的文本。2.将摘要翻译成法语。\n",
    "    3.在法语摘要中列出每个人名。4.输出一个 JSON 对象，其中包含以下键：French_summary，num_names。\n",
    "    请用换行符分隔您的答案。\n",
    "    Text:```{text}```\n",
    "\"\"\"\n",
    "response = get_completion_gpt(prompt_1)\n",
    "print(\"prompt 1:\")\n",
    "print(response)"
   ]
  },
  {
   "cell_type": "code",
   "execution_count": null,
   "id": "acf0f9f0-6c8e-48ba-8f4b-5c5d5d472256",
   "metadata": {},
   "outputs": [],
   "source": [
    "# 我们将Prompt加以改进，该 Prompt 前半部分不变，同时确切指定了输出的格式。"
   ]
  },
  {
   "cell_type": "code",
   "execution_count": 17,
   "id": "63b67bc3-c426-4d81-96cc-569ed48df372",
   "metadata": {},
   "outputs": [
    {
     "name": "stdout",
     "output_type": "stream",
     "text": [
      "\n",
      "prompt 2:\n",
      "摘要：兄妹杰克和吉尔在爬山打水时不幸摔下山，但他们的冒险精神依然高涨，继续探索。\n",
      "\n",
      "翻译：Les frères et sœurs Jack et Jill sont tombés de la montagne en allant chercher de l'eau, mais leur esprit d'aventure reste intact et ils continuent à explorer.\n",
      "\n",
      "名称：[\"Jack\", \"Jill\"]\n",
      "\n",
      "输出 JSON：{\"French_summary\":\"Les frères et sœurs Jack et Jill sont tombés de la montagne en allant chercher de l'eau, mais leur esprit d'aventure reste intact et ils continuent à explorer.\",\"num_names\":2}\n"
     ]
    }
   ],
   "source": [
    "prompt_2 = f\"\"\"\n",
    "1-用一句话概括下面用<>括起来的文本。2-将摘要翻译成法语。\n",
    "3-在法语摘要中列出每个名称。4-输出一个 JSON 对象，其中包含以下键：French_summary，num_names。\n",
    "请使用以下格式：\n",
    "文本：<要总结的文本>\n",
    "摘要：<摘要>\n",
    "翻译：<摘要的翻译>\n",
    "名称：<法语摘要中的名称列表>\n",
    "输出 JSON：<带有 French_summary和num_names的 JSON>\n",
    "Text: <{text}>\n",
    "\"\"\"\n",
    "response = get_completion_gpt(prompt_2)\n",
    "print(\"\\nprompt 2:\")\n",
    "print(response)"
   ]
  },
  {
   "cell_type": "code",
   "execution_count": null,
   "id": "80157bf8-cb09-4d83-9074-d094e3fe3c82",
   "metadata": {},
   "outputs": [],
   "source": [
    "# 指导模型在下结论之前找出一个自己的解法\n",
    "# 明确地指引模型在匆匆做决策之前，要自己思考出一份解决方案。有时这样会得到更好的结果。这与之前所述思想类似，即给模型时间思考。\n",
    "# 接下来我们会给出一个问题和一份来自学生的解答，要求模型判断解答是否正确：\n",
    "prompt = f\"\"\"\n",
    "Determine if the student's solution is correct or not.\n",
    "Question:\n",
    "I'm building a solar power installation and I need \\\n",
    " help working out the financials. \n",
    "- Land costs $100 / square foot\n",
    "- I can buy solar panels for $250 / square foot\n",
    "- I negotiated a contract for maintenance that will cost \\ \n",
    "me a flat $100k per year, and an additional $10 / square \\\n",
    "foot\n",
    "What is the total cost for the first year of operations \n",
    "as a function of the number of square feet.\n",
    "Student's Solution:\n",
    "Let x be the size of the installation in square feet.\n",
    "Costs:\n",
    "1. Land cost: 100x\n",
    "2. Solar panel cost: 250x\n",
    "3. Maintenance cost: 100,000 + 100x\n",
    "Total cost: 100x + 250x + 100,000 + 100x = 450x + 100,000\n",
    "\"\"\"\n",
    "response = get_completion_gpt(prompt)\n",
    "print(response)"
   ]
  },
  {
   "cell_type": "code",
   "execution_count": 18,
   "id": "a156a46f-38df-4346-af9e-e5803f133432",
   "metadata": {},
   "outputs": [
    {
     "name": "stdout",
     "output_type": "stream",
     "text": [
      "学生的解决方案是正确的。我们可以逐步分析一下计算过程：\n",
      "\n",
      "1. **土地费用**：每平方英尺100美元，发电站的大小为x平方英尺，因此土地费用为 \\(100x\\) 美元。\n",
      "\n",
      "2. **太阳能电池板费用**：每平方英尺250美元，发电站的大小为x平方英尺，因此太阳能电池板费用为 \\(250x\\) 美元。\n",
      "\n",
      "3. **维护费用**：每年固定维护费用为100,000美元，另外每平方英尺还需支付10美元的维护费用，因此维护费用为 \\(100,000 + 10x\\) 美元。\n",
      "\n",
      "4. **总费用**：将以上所有费用相加：\n",
      "   \\[\n",
      "   \\text{总费用} = \\text{土地费用} + \\text{太阳能电池板费用} + \\text{维护费用}\n",
      "   \\]\n",
      "   \\[\n",
      "   = 100x + 250x + (100,000 + 10x)\n",
      "   \\]\n",
      "   \\[\n",
      "   = 100x + 250x + 100,000 + 10x\n",
      "   \\]\n",
      "   \\[\n",
      "   = (100x + 250x + 10x) + 100,000\n",
      "   \\]\n",
      "   \\[\n",
      "   = 450x + 100,000\n",
      "   \\]\n",
      "\n",
      "因此，学生的计算结果 \\(450x + 100,000\\) 美元是正确的。\n"
     ]
    }
   ],
   "source": [
    "prompt = \"\"\"\n",
    "    判断学生的解决方案是否正确。\n",
    "    问题:\n",
    "    我正在建造一个太阳能发电站，需要帮助计算财务。\n",
    "        土地费用为 100美元/平方英尺\n",
    "        我可以以 250美元/平方英尺的价格购买太阳能电池板\n",
    "        我已经谈判好了维护合同，每年需要支付固定的10万美元，并额外支付每平方英尺10美元\n",
    "        作为平方英尺数的函数，首年运营的总费用是多少。\n",
    "    学生的解决方案：\n",
    "    设x为发电站的大小，单位为平方英尺。\n",
    "    费用：\n",
    "        土地费用：100x\n",
    "        太阳能电池板费用：250x\n",
    "        维护费用：100,000美元+100x\n",
    "        总费用：100x+250x+100,000美元+100x=450x+100,000美元\n",
    "\"\"\"\n",
    "response = get_completion_gpt(prompt)\n",
    "print(response)"
   ]
  },
  {
   "cell_type": "code",
   "execution_count": null,
   "id": "2884a937-1657-4e5a-8b63-3e97b6f837c2",
   "metadata": {},
   "outputs": [],
   "source": [
    "# 我:为啥我一提出来，你就能正确推理，之前死说是对的?\n",
    "# gpt:这是因为模型在回答问题时是基于模式识别和概率推理的，并不是完美地执行逐步数学推理。当你提出问题时，我会立即\n",
    "# 重新分析问题，并根据你给出的反馈进行修正和改进。\n",
    "# 在你最初提到“450x + 100,000”时，模型基于先前的计算步骤做出了自信的回答，但模型并没有真正进行细致的加法核对，\n",
    "# 而是直接依据了过程中的公式进行推理。在没有更多具体的反馈时，模型认为它的回答是正确的。\n",
    "# 然而，当你指出了计算错误后，我重新仔细审视了每一步，发现了合并同类项时的错误，最终得出了正确的结果。这个过程表明：\n",
    "# 我可以根据你的反馈进行反思和自我修正。\n",
    "# 当有外部信息或纠正时，我能够按逻辑修正错误。\n",
    "# 因此，你的反馈帮助我对问题进行了更精确的分析。模型的“自信”并不意味着它每次都能百分之百正确，尤其是涉及需要细致推理\n",
    "# 和数学计算的场景时，人工修正是很重要的。"
   ]
  },
  {
   "cell_type": "code",
   "execution_count": null,
   "id": "2a37d667-7834-4d5e-abef-74aeaa946443",
   "metadata": {},
   "outputs": [],
   "source": [
    "# 但是注意，学生的解决方案实际上是错误的。（维护费用项100x应为10x，总费用450x应为360x）\n",
    "# 我们可以通过指导模型先自行找出一个解法来解决这个问题。\n",
    "# 在接下来这个 Prompt 中，我们要求模型先自行解决这个问题，再根据自己的解法与学生的解法进行对比，从而判断学\n",
    "# 生的解法是否正确。同时，我们给定了输出的格式要求。通过拆分任务、明确步骤，让模型有更多时间思考，有时可以获\n",
    "# 得更准确的结果。在这个例子中，学生的答案是错误的，但如果我们没有先让模型自己计算，那么可能会被误导以为学生是正确的。"
   ]
  },
  {
   "cell_type": "code",
   "execution_count": 19,
   "id": "76809c79-4798-4341-a9e1-1e20d3646ad3",
   "metadata": {},
   "outputs": [
    {
     "name": "stdout",
     "output_type": "stream",
     "text": [
      "问题：我正在建造一个太阳能发电站，需要帮助计算财务。\n",
      "- 土地费用为每平方英尺100美元\n",
      "- 我可以以每平方英尺250美元的价格购买太阳能电池板\n",
      "- 我已经谈判好了维护合同，每年需要支付固定的10万美元，并额外支付每平方英尺10美元\n",
      "作为平方英尺数的函数，首年运营的总费用是多少。\n",
      "\n",
      "学生的解决方案：\n",
      "设x为发电站的大小，单位为平方英尺。\n",
      "费用：\n",
      "1. 土地费用：100x\n",
      "2. 太阳能电池板费用：250x\n",
      "3. 维护费用：100,000+100x\n",
      "总费用：100x+250x+100,000+100x=450x+100,000\n",
      "\n",
      "实际解决方案和步骤：\n",
      "1. 土地费用：每平方英尺100美元，面积为x平方英尺，所以土地费用为 \\(100x\\)。\n",
      "2. 太阳能电池板费用：每平方英尺250美元，面积为x平方英尺，所以太阳能电池板费用为 \\(250x\\)。\n",
      "3. 维护费用：固定费用为100,000美元，另外每平方英尺10美元，面积为x平方英尺，所以维护费用为 \\(100,000 + 10x\\)。\n",
      "\n",
      "将所有费用相加：\n",
      "\\[\n",
      "\\text{总费用} = \\text{土地费用} + \\text{太阳能电池板费用} + \\text{维护费用}\n",
      "\\]\n",
      "\\[\n",
      "\\text{总费用} = 100x + 250x + (100,000 + 10x) = 100x + 250x + 100,000 + 10x = 360x + 100,000\n",
      "\\]\n",
      "\n",
      "**学生的计算结果：450x + 100,000**\n",
      "实际计算结果：360x + 100,000\n",
      "学生的计算结果和实际计算结果是否相同：否\n",
      "学生的解决方案和实际解决方案是否相同：否\n",
      "学生的成绩：不正确\n"
     ]
    }
   ],
   "source": [
    "prompt = f\"\"\"\n",
    "请判断学生的解决方案是否正确，请通过如下步骤解决这个问题：\n",
    "步骤：\n",
    "首先，自己解决问题，解决问题时列数学表达式。\n",
    "然后将您的解决方案与学生的解决方案进行比较，并评估学生的解决方案是否正确。\n",
    "在自己完成问题之前，请勿决定学生的解决方案是否正确。\n",
    "使用以下格式：\n",
    "问题：问题文本\n",
    "学生的解决方案：学生的解决方案文本\n",
    "实际解决方案和步骤：实际解决方案和步骤文本\n",
    "**学生的计算结果：学生的计算结果文本\n",
    "实际计算结果：实际计算结果文本\n",
    "学生的计算结果和实际计算结果是否相同：是或否\n",
    "学生的解决方案和实际解决方案是否相同：是或否**\n",
    "学生的成绩：正确或不正确\n",
    "问题：\n",
    "我正在建造一个太阳能发电站，需要帮助计算财务。\n",
    "- 土地费用为每平方英尺100美元\n",
    "- 我可以以每平方英尺250美元的价格购买太阳能电池板\n",
    "- 我已经谈判好了维护合同，每年需要支付固定的10万美元，并额外支付每平方英尺10美元\n",
    "作为平方英尺数的函数，首年运营的总费用是多少。\n",
    "学生的解决方案：\n",
    "设x为发电站的大小，单位为平方英尺。\n",
    "费用：\n",
    "1. 土地费用：100x\n",
    "2. 太阳能电池板费用：250x\n",
    "3. 维护费用：100,000+100x\n",
    "总费用：100x+250x+100,000+100x=450x+100,000\n",
    "实际解决方案和步骤：\n",
    "\"\"\"\n",
    "response = get_completion_gpt(prompt)\n",
    "print(response)"
   ]
  },
  {
   "cell_type": "code",
   "execution_count": null,
   "id": "b1c23522-f4e6-4b34-9c3e-630ffce89f32",
   "metadata": {},
   "outputs": [],
   "source": [
    "# 局限性\n",
    "# 开发大模型相关应用时请务必铭记：\n",
    "# 虚假知识：模型偶尔会生成一些看似真实实则编造的知识\n",
    "# 虽然模型在训练过程中接触了大量的知识，但它并没有完全记住所见的信息，因此它不甚清楚自己知识的边界。\n",
    "# 这意味着它可能会尝试回答主题晦涩难懂的问题，并编造听起来合理但实际上并不正确的答案。我们称这些编\n",
    "# 造的想法为幻觉（Hallucination）。\n",
    "# 如下示例展示了大模型的幻觉。我们要求告诉我们 Boie 公司生产的 AeroGlide UltraSlim Smart Toothbrush 产\n",
    "# 品的信息，事实上，这个公司是真实存在的，但产品是编造的，而模型一本正经地提供了它编造的知识，而且迷惑性很强。"
   ]
  },
  {
   "cell_type": "code",
   "execution_count": 20,
   "id": "eab6762b-b27b-45d4-b094-1f575f31d797",
   "metadata": {},
   "outputs": [
    {
     "name": "stdout",
     "output_type": "stream",
     "text": [
      "Boie 公司生产的 AeroGlide 超薄智能牙刷是一款结合了现代科技与设计的牙刷。以下是一些关于这款牙刷的相关信息：\n",
      "\n",
      "1. **超薄设计**：AeroGlide 牙刷采用超薄设计，便于携带和使用，适合现代生活的快节奏。\n",
      "\n",
      "2. **智能功能**：这款牙刷通常配备智能传感器，可以监测刷牙的力度和时间，帮助用户养成更好的刷牙习惯。\n",
      "\n",
      "3. **高效清洁**：AeroGlide 牙刷的刷头设计旨在提供高效的清洁效果，能够深入牙缝，去除牙菌斑。\n",
      "\n",
      "4. **可充电**：牙刷通常配备可充电电池，使用方便，减少了更换电池的麻烦。\n",
      "\n",
      "5. **应用程序支持**：一些型号可能与手机应用程序连接，提供刷牙反馈和个性化的口腔护理建议。\n",
      "\n",
      "6. **环保材料**：Boie 公司注重环保，可能使用可持续材料制造牙刷，减少对环境的影响。\n",
      "\n",
      "请注意，具体的功能和特点可能因型号而异，建议查看 Boie 官方网站或相关产品说明以获取最新和最准确的信息。\n"
     ]
    }
   ],
   "source": [
    "# AeroGlide 这个词可能是品牌或产品的名称\n",
    "prompt = \"\"\"\n",
    "告诉我 Boie 公司生产的 AeroGlide 超薄智能牙刷 的相关信息\n",
    "\"\"\"\n",
    "response = get_completion_gpt(prompt)\n",
    "print(response)"
   ]
  },
  {
   "cell_type": "code",
   "execution_count": null,
   "id": "d5527a5b-02b7-4427-a7de-3067e85573a0",
   "metadata": {},
   "outputs": [],
   "source": [
    "# 由于很容易以假乱真，请读者根据在本系列教程中所学知识，在构建自己的应用程序时尽量避免幻觉情况。幻觉是大模型\n",
    "# 的一个已知缺陷（注：截至2023年7月），OpenAI也在努力解决该问题。\n",
    "# 在您希望模型根据文本生成回答时，另一种减少幻觉的策略是先要求模型获取来源于该文本的所有引用信息（任何相关引用，\n",
    "# any relevant quotes），然后要求它基于所引用的信息来回答问题，这使得我们能根据答案追溯源文档，通常对减少幻觉非常有帮助。"
   ]
  },
  {
   "cell_type": "code",
   "execution_count": null,
   "id": "1c77807d-64f7-4426-a146-5f40b412294f",
   "metadata": {},
   "outputs": [],
   "source": [
    "# 关于反斜杠使用的说明：\n",
    "# 在本教程中，我们使用反斜杠 \\ 来使文本适应屏幕大小以提高阅读体验，而没有用换行符 \\n 。GPT-3 并不受换行符（\n",
    "# newline characters）的影响，但在您调用其他大模型时，需额外考虑换行符是否会影响模型性能。"
   ]
  }
 ],
 "metadata": {
  "kernelspec": {
   "display_name": "Python 3 (ipykernel)",
   "language": "python",
   "name": "python3"
  },
  "language_info": {
   "codemirror_mode": {
    "name": "ipython",
    "version": 3
   },
   "file_extension": ".py",
   "mimetype": "text/x-python",
   "name": "python",
   "nbconvert_exporter": "python",
   "pygments_lexer": "ipython3",
   "version": "3.8.20"
  }
 },
 "nbformat": 4,
 "nbformat_minor": 5
}
