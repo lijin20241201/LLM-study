{
 "cells": [
  {
   "cell_type": "code",
   "execution_count": null,
   "id": "d566fc8f-b87f-4219-9725-16bbeb0e6aa7",
   "metadata": {},
   "outputs": [],
   "source": [
    "# 引言\n",
    "# 使用一个大型语言模型的一个令人兴奋的事情是，我们可以用它来构建一个定制的聊天机器人 (Chatbot) ，只需要很少的工作量。\n",
    "# 在这一节中，我们将探索如何利用聊天的方式，与个性化（或专门针对特定任务或行为的）聊天机器人进行扩展对话。"
   ]
  },
  {
   "cell_type": "code",
   "execution_count": null,
   "id": "0f47bf44-b786-44ee-be5c-c2b4c80c287d",
   "metadata": {},
   "outputs": [],
   "source": [
    "# 像 ChatGPT 这样的聊天模型实际上是组装成以一系列消息作为输入，并返回一个模型生成的消息作为输出的。这种聊天格式原本的设\n",
    "# 计目标是简便多轮对话，但我们通过之前的学习可以知道，它对于不会涉及任何对话的单轮任务也同样有用。"
   ]
  },
  {
   "cell_type": "code",
   "execution_count": null,
   "id": "f5f925b9-2c94-426b-b3d2-7714e0177295",
   "metadata": {},
   "outputs": [],
   "source": [
    "# 身份与上下文构建\n",
    "# 接下来，我们将定义两个辅助函数。\n",
    "# 第一个方法已经陪伴了您一整个教程，即 get_completion_gpt ，其适用于单轮对话。我们将 Prompt 放入某种类似用户消息的对话框中。\n",
    "# 另一个称为 get_completion_from_messages ，传入一个消息列表。这些消息可以来自大量不同的角色 (roles) ，我们会描述一下这些角色。\n",
    "# 第一条消息中，我们以系统身份发送系统消息 (system message) ，它提供了一个总体的指示。系统消息则有助于设置助手的行为和角色，并作\n",
    "# 为对话的高级指示。你可以想象它在助手的耳边低语，引导它的回应，而用户不会注意到系统消息。因此，作为用户，如果你曾经使用过 ChatGPT，\n",
    "# 您可能从来不知道 ChatGPT 的系统消息是什么，这是有意为之的。系统消息的好处是为开发者提供了一种方法，在不让请求本身成为对话的一部分的\n",
    "# 情况下，引导助手并指导其回应。\n",
    "# 在 ChatGPT 网页界面中，您的消息称为用户消息，而 ChatGPT 的消息称为助手消息。但在构建聊天机器人时，在发送了系统消息之后，您的角色可\n",
    "# 以仅作为用户 (user) ；也可以在用户和助手 (assistant) 之间交替，从而提供对话上下文。"
   ]
  },
  {
   "cell_type": "code",
   "execution_count": null,
   "id": "d759a498-b4f5-49b0-8959-5e0718b1f423",
   "metadata": {},
   "outputs": [],
   "source": [
    "from openai import OpenAI\n",
    "client = OpenAI()\n",
    "def get_completion_gpt(prompt, model=\"gpt-4o-mini\", temperature=0): \n",
    "    messages = [{\"role\": \"user\", \"content\": prompt}] # 消息队列\n",
    "    response = client.chat.completions.create(\n",
    "        model=model,\n",
    "        messages=messages,\n",
    "        temperature=temperature, # 值越低则输出文本随机性越低\n",
    "    )\n",
    "    return response.choices[0].message.content\n",
    "\n",
    "def get_completion_from_messages(messages, model=\"gpt-4o-mini\", temperature=0):\n",
    "    response = client.chat.completions.create(\n",
    "        model=model,\n",
    "        messages=messages,\n",
    "        temperature=temperature, # 控制模型输出的随机程度\n",
    "    )\n",
    "    return response.choices[0].message.content"
   ]
  },
  {
   "cell_type": "code",
   "execution_count": null,
   "id": "74cd95e7-285e-4e3c-a6da-2c06ba911064",
   "metadata": {},
   "outputs": [],
   "source": [
    "# 现在让我们尝试在对话中使用这些消息。我们将使用上面的函数来获取从这些消息中得到的回答，同时，使用更高的温度 (temperature)\n",
    "# （越高生成的越多样，更多内容见第七章）。\n",
    "# 系统消息说，你是一个说话像莎士比亚的助手。这是我们向助手描述它应该如何表现的方式。然后，第一个用户消息是给我讲个笑话。接下来\n",
    "# 以助手身份给出回复是，为什么鸡会过马路？ 最后发送用户消息是我不知道。(系统消息相当于给LLM设置人格，用户消息是用户发送的query,\n",
    "# 助手回复就是模型根据多轮对话的上下文,生成的最新回复)\n",
    "messages =  [  \n",
    "{'role':'system', 'content':'You are an assistant that speaks like Shakespeare.'}, # 给模型设置人设   \n",
    "{'role':'user', 'content':'tell me a joke'}, # 用户发送的消息  \n",
    "{'role':'assistant', 'content':'Why did the chicken cross the road'}, # 模型生成的回复(人设是莎士比亚)   \n",
    "{'role':'user', 'content':'I don\\'t know'}  ] # 用户根据之前模型回复,接的茬\n",
    "response = get_completion_from_messages(messages, temperature=1)\n",
    "print(response)"
   ]
  },
  {
   "cell_type": "code",
   "execution_count": null,
   "id": "90057257-a505-4d43-ad88-67e71225d731",
   "metadata": {},
   "outputs": [],
   "source": [
    "# 中文\n",
    "messages =  [  \n",
    "{'role':'system', 'content':'你是一个像莎士比亚一样说话的助手。'},    \n",
    "{'role':'user', 'content':'给我讲个笑话'},   \n",
    "{'role':'assistant', 'content':'鸡为什么过马路'},   \n",
    "{'role':'user', 'content':'我不知道'}  ]\n",
    "response = get_completion_from_messages(messages, temperature=1)\n",
    "print(response)"
   ]
  },
  {
   "cell_type": "code",
   "execution_count": null,
   "id": "2d2785fc-bfcb-4722-924b-5ec71da576c3",
   "metadata": {},
   "outputs": [],
   "source": [
    "# 中文\n",
    "messages =  [  \n",
    "{'role':'system', 'content':'你是一个像莎士比亚一样说话的助手。'},    \n",
    "{'role':'user', 'content':'给我讲个笑话'},   \n",
    "{'role':'assistant', 'content':'鸡为什么过马路'},   \n",
    "{'role':'user', 'content':'我不知道'}  ]\n",
    "response = get_completion_from_messages(messages, temperature=1)\n",
    "print(response)"
   ]
  },
  {
   "cell_type": "code",
   "execution_count": null,
   "id": "b8f3d5bd-57cf-499b-bbbf-f0d9a6fa8333",
   "metadata": {},
   "outputs": [],
   "source": [
    "# 注：上述例子中由于选定 temperature = 1，模型的回答会比较随机且迥异（不乏很有创意）。"
   ]
  },
  {
   "cell_type": "code",
   "execution_count": null,
   "id": "7872fb30-f725-4062-b21d-08028f28ed82",
   "metadata": {},
   "outputs": [],
   "source": [
    "# 让我们看另一个例子。助手的消息是你是一个友好的聊天机器人，第一个用户消息是嗨，我叫Isa。我们想要得到第一个用户消息。\n",
    "messages =  [  \n",
    "{'role':'system', 'content':'You are friendly chatbot.'},    \n",
    "{'role':'user', 'content':'Hi, my name is Isa'}  ]\n",
    "response = get_completion_from_messages(messages, temperature=1)\n",
    "print(response)"
   ]
  },
  {
   "cell_type": "code",
   "execution_count": null,
   "id": "1b88f160-ff68-423f-8644-f587bbfd43f6",
   "metadata": {},
   "outputs": [],
   "source": [
    "# 中文\n",
    "messages =  [  \n",
    "{'role':'system', 'content':'你是个友好的聊天机器人。'},    \n",
    "{'role':'user', 'content':'Hi, 我是Isa。'}  ]\n",
    "response = get_completion_from_messages(messages, temperature=1)\n",
    "print(response)"
   ]
  },
  {
   "cell_type": "code",
   "execution_count": null,
   "id": "76adc050-2d10-4a85-b0d8-e7742e85524f",
   "metadata": {},
   "outputs": [],
   "source": [
    "# 让我们再试一个例子。系统消息是，你是一个友好的聊天机器人，第一个用户消息是，是的，你能提醒我我的名字是什么吗？\n",
    "messages =  [  \n",
    "{'role':'system', 'content':'You are friendly chatbot.'},    \n",
    "{'role':'user', 'content':'Yes,  can you remind me, What is my name?'}  ]\n",
    "response = get_completion_from_messages(messages, temperature=1)\n",
    "print(response)"
   ]
  },
  {
   "cell_type": "code",
   "execution_count": null,
   "id": "8ac80861-a0b8-4aad-8476-ad839573b94e",
   "metadata": {},
   "outputs": [],
   "source": [
    "# 中文\n",
    "messages =  [  \n",
    "{'role':'system', 'content':'你是个友好的聊天机器人。'},    \n",
    "{'role':'user', 'content':'好，你能提醒我，我的名字是什么吗？'}  ]\n",
    "response = get_completion_from_messages(messages, temperature=1)\n",
    "print(response)"
   ]
  },
  {
   "cell_type": "code",
   "execution_count": null,
   "id": "c38d7556-2a41-49b4-abb5-1b29e332d3e3",
   "metadata": {},
   "outputs": [],
   "source": [
    "# 如上所见，模型实际上并不知道我的名字。\n",
    "# 因此，每次与语言模型的交互都互相独立，这意味着我们必须提供所有相关的消息，以便模型在当前对话中进行引用。如果想让模型\n",
    "# 引用或 “记住” 对话的早期部分，则必须在模型的输入中提供早期的交流。我们将其称为上下文 (context) 。尝试以下示例。"
   ]
  },
  {
   "cell_type": "code",
   "execution_count": null,
   "id": "4a172b8f-08ac-4c98-b115-f9d9c5769f3f",
   "metadata": {},
   "outputs": [],
   "source": [
    "messages =  [  \n",
    "{'role':'system', 'content':'You are friendly chatbot.'},\n",
    "{'role':'user', 'content':'Hi, my name is Isa'},\n",
    "{'role':'assistant', 'content': \"Hi Isa! It's nice to meet you. \\\n",
    "Is there anything I can help you with today?\"},\n",
    "{'role':'user', 'content':'Yes, you can remind me, What is my name?'}  ]\n",
    "response = get_completion_from_messages(messages, temperature=1)\n",
    "print(response)"
   ]
  },
  {
   "cell_type": "code",
   "execution_count": null,
   "id": "5c5d50af-10eb-4c02-bfc2-489c1bc365ce",
   "metadata": {},
   "outputs": [],
   "source": [
    "# 中文\n",
    "messages =  [  \n",
    "{'role':'system', 'content':'你是个友好的聊天机器人。'},\n",
    "{'role':'user', 'content':'Hi, 我是Isa'},\n",
    "{'role':'assistant', 'content': \"Hi Isa! 很高兴认识你。今天有什么可以帮到你的吗?\"},\n",
    "{'role':'user', 'content':'是的，你可以提醒我, 我的名字是什么?'}  ]\n",
    "response = get_completion_from_messages(messages, temperature=1)\n",
    "print(response)"
   ]
  },
  {
   "cell_type": "code",
   "execution_count": null,
   "id": "9caf44f0-4fa5-4aef-80ac-6e17f07444a4",
   "metadata": {},
   "outputs": [],
   "source": [
    "# 现在我们已经给模型提供了上下文，也就是之前的对话中提到的我的名字，然后我们会问同样的问题，也就是我的名字是什么。因为模型有了\n",
    "# 需要的全部上下文，所以它能够做出回应，就像我们在输入的消息列表中看到的一样"
   ]
  },
  {
   "cell_type": "code",
   "execution_count": null,
   "id": "800836b8-5132-42e1-bc18-6b54ebf793b3",
   "metadata": {},
   "outputs": [],
   "source": [
    "# 订餐机器人\n",
    "# 现在，我们构建一个 “订餐机器人”，我们需要它自动收集用户信息，接受比萨饼店的订单。\n",
    "# 下面这个函数将收集我们的用户消息，以便我们可以避免像刚才一样手动输入。这个函数将从我们下面构建的用户界面中收集 Prompt ，\n",
    "# 然后将其附加到一个名为上下文( context )的列表中，并在每次调用模型时使用该上下文。模型的响应也会添加到上下文中，所以用户消\n",
    "# 息和模型消息都被添加到上下文中，上下文逐渐变长。这样，模型就有了需要的信息来确定下一步要做什么。"
   ]
  },
  {
   "cell_type": "code",
   "execution_count": null,
   "id": "93f9248c-7f2f-4bb7-a290-ba788d48b5dc",
   "metadata": {},
   "outputs": [],
   "source": [
    "# 收集用户输入并生成一个回复，然后将这些信息通过 Panel 显示出来。\n",
    "# _ 作为参数通常表示该参数未被使用，可能是一个占位符或者事件回调时传入的参数。\n",
    "def collect_messages(_): \n",
    "    prompt = inp.value_input # inp.value_input 获取用户输入的内容，并将其赋值给变量 prompt\n",
    "    # 将用户的输入内容（即 prompt）加入到对话上下文 context 中,context 是一个列表，记录了整个对话的历史\n",
    "    context.append({'role':'user', 'content':f\"{prompt}\"})\n",
    "    # 基于上下文生成一个符合对话情境的回复，并将其保存在 response 变量中\n",
    "    response = get_completion_from_messages(context) \n",
    "    # 生成的回复（response）被添加到对话上下文 context 中，标记为“assistant”角色，表示这是模型生成的回应。\n",
    "    context.append({'role':'assistant', 'content':f\"{response}\"})\n",
    "    # 将用户输入的内容（prompt）渲染成 Markdown 格式的文本并指定宽度为 600 像素。\n",
    "    panels.append(\n",
    "        pn.Row('User:', pn.pane.Markdown(prompt, width=600)))\n",
    "    # 显示模型生成的回复（response）。它被渲染为 Markdown 格式的文本，并设置了背景颜色，以便与用户的输入区分开。\n",
    "    panels.append(\n",
    "        pn.Row('Assistant:', pn.pane.Markdown(response, width=600, styles={'background-color': '#F6F6F6'})))\n",
    "    inp.value = '' # 将输入控件的值清空,为了给用户留下一个干净的输入框\n",
    "    # 返回一个 pn.Column，它包含了所有的面板，用户和助手的对话会以垂直排列的形式展示。\n",
    "    return pn.Column(*panels)\n",
    "# 现在，我们将设置并运行这个 UI 来显示订单机器人。初始的上下文包含了包含菜单的系统消息，在每次调用时都会使用。此后随着对话进行，\n",
    "# 上下文也会不断增长。"
   ]
  },
  {
   "cell_type": "code",
   "execution_count": null,
   "id": "c70190bf-a321-4de5-8223-389997f10177",
   "metadata": {},
   "outputs": [],
   "source": [
    "# !pip install panel"
   ]
  },
  {
   "cell_type": "code",
   "execution_count": null,
   "id": "245ca251-350b-454d-98ee-98421d6607a1",
   "metadata": {},
   "outputs": [],
   "source": [
    "import panel as pn  # 图形用户界面\n",
    "pn.extension()\n",
    "panels = [] # 收集显示\n",
    "context = [ {'role':'system', 'content':\"\"\"\n",
    "You are OrderBot, an automated service to collect orders for a pizza restaurant. \\\n",
    "You first greet the customer, then collects the order, \\\n",
    "and then asks if it's a pickup or delivery. \\\n",
    "You wait to collect the entire order, then summarize it and check for a final \\\n",
    "time if the customer wants to add anything else. \\\n",
    "If it's a delivery, you ask for an address. \\\n",
    "Finally you collect the payment.\\\n",
    "Make sure to clarify all options, extras and sizes to uniquely \\\n",
    "identify the item from the menu.\\\n",
    "You respond in a short, very conversational friendly style. \\\n",
    "The menu includes \\\n",
    "pepperoni pizza  12.95, 10.00, 7.00 \\\n",
    "cheese pizza   10.95, 9.25, 6.50 \\\n",
    "eggplant pizza   11.95, 9.75, 6.75 \\\n",
    "fries 4.50, 3.50 \\\n",
    "greek salad 7.25 \\\n",
    "Toppings: \\\n",
    "extra cheese 2.00, \\\n",
    "mushrooms 1.50 \\\n",
    "sausage 3.00 \\\n",
    "canadian bacon 3.50 \\\n",
    "AI sauce 1.50 \\\n",
    "peppers 1.00 \\\n",
    "Drinks: \\\n",
    "coke 3.00, 2.00, 1.00 \\\n",
    "sprite 3.00, 2.00, 1.00 \\\n",
    "bottled water 5.00 \\\n",
    "\"\"\"} ]  # 累积消息\n",
    "inp = pn.widgets.TextInput(value=\"Hi\", placeholder='Enter text here…')\n",
    "button_conversation = pn.widgets.Button(name=\"Chat!\")\n",
    "interactive_conversation = pn.bind(collect_messages, button_conversation)\n",
    "dashboard = pn.Column(\n",
    "    inp,\n",
    "    pn.Row(button_conversation),\n",
    "    pn.panel(interactive_conversation, loading_indicator=True, height=300),\n",
    ")\n",
    "dashboard"
   ]
  },
  {
   "cell_type": "code",
   "execution_count": null,
   "id": "8dd62430-c512-462a-b1ba-0d092ee7cec6",
   "metadata": {},
   "outputs": [],
   "source": [
    "# 运行结果可交互，请见下文中文版。\n",
    "# 创建JSON摘要\n",
    "# 此处我们另外要求模型创建一个 JSON 摘要，方便我们发送给订单系统。\n",
    "# 因此我们需要在上下文的基础上追加另一个系统消息，作为另一条指示 (instruction) 。我们说创建一个刚刚订单的 JSON 摘要，\n",
    "# 列出每个项目的价格，字段应包括 1）披萨，包括尺寸，2）配料列表，3）饮料列表，4）辅菜列表，包括尺寸，最后是总价格。此处\n",
    "# 也可以定义为用户消息，不一定是系统消息。\n",
    "# 请注意，这里我们使用了一个较低的温度，因为对于这些类型的任务，我们希望输出相对可预测。"
   ]
  },
  {
   "cell_type": "code",
   "execution_count": null,
   "id": "30d64324-0c14-4100-ac8a-9ac685e91f68",
   "metadata": {},
   "outputs": [],
   "source": [
    "messages =  context.copy()\n",
    "messages.append(\n",
    "{'role':'system', 'content':'create a json summary of the previous food order. Itemize the price for each item\\\n",
    " The fields should be 1) pizza, include size 2) list of toppings 3) list of drinks, include size   4) list of sides include size  5)total price '},    \n",
    ")\n",
    "response = get_completion_from_messages(messages, temperature=0)\n",
    "print(response)"
   ]
  },
  {
   "cell_type": "code",
   "execution_count": null,
   "id": "fb134916-1634-47eb-a3ec-197d95f7b1fd",
   "metadata": {},
   "outputs": [],
   "source": [
    "# 使用 Panel 库实现了一个交互式用户界面，模拟了披萨餐厅订餐机器人\n",
    "# 中文\n",
    "import panel as pn  # 导入 Panel 库，用于创建交互式用户界面。\n",
    "pn.extension() # 加载 Panel 的扩展功能，如交互式组件和样式支持\n",
    "# panels：用于存储用户和机器人的对话历史，每次对话生成的内容都会以 Panel 组件的形式加入到该列表中。\n",
    "panels = [] \n",
    "# context：一个用于记录上下文的列表，存储了系统、用户和机器人之间的交互消息。初始内容是系统消息，\n",
    "# 用于定义机器人的角色、任务以及菜单信息。\n",
    "context = [{'role':'system', 'content':\"\"\"\n",
    "你是订餐机器人，为披萨餐厅自动收集订单信息。\n",
    "你要首先问候顾客。然后等待用户回复收集订单信息。收集完信息需确认顾客是否还需要添加其他内容。\n",
    "最后需要询问是否自取或外送，如果是外送，你要询问地址。\n",
    "最后告诉顾客订单总金额，并送上祝福。\n",
    "请确保明确所有选项、附加项和尺寸，以便从菜单中识别出该项唯一的内容。\n",
    "你的回应应该以简短、非常随意和友好的风格呈现。\n",
    "菜单包括：\n",
    "菜品：\n",
    "意式辣香肠披萨（大、中、小） 12.95、10.00、7.00\n",
    "芝士披萨（大、中、小） 10.95、9.25、6.50\n",
    "茄子披萨（大、中、小） 11.95、9.75、6.75\n",
    "薯条（大、小） 4.50、3.50\n",
    "希腊沙拉 7.25\n",
    "配料：\n",
    "奶酪 2.00\n",
    "蘑菇 1.50\n",
    "香肠 3.00\n",
    "加拿大熏肉 3.50\n",
    "AI酱 1.50\n",
    "辣椒 1.00\n",
    "饮料：\n",
    "可乐（大、中、小） 3.00、2.00、1.00\n",
    "雪碧（大、中、小） 3.00、2.00、1.00\n",
    "瓶装水 5.00\n",
    "\"\"\"} ]  \n",
    "# 创建用户输入和按钮\n",
    "# 创建一个文本输入框组件，允许用户输入消息。在输入框为空时显示提示文字，指引用户输入内容。\n",
    "inp = pn.widgets.TextInput(value=\"你好\", placeholder='在这里输入内容…')\n",
    "# 创建一个按钮，用户可以点击它触发交互。按钮显示的文本是 \"Chat!\"。\n",
    "button_conversation = pn.widgets.Button(name=\"Chat!\")\n",
    "# 将一个函数与组件（如按钮）绑定，使得当组件状态变化时自动调用该函数\n",
    "# collect_messages 是绑定的函数（用户点击按钮后触发）。\n",
    "# button_conversation 是被绑定的组件。\n",
    "# 当用户点击按钮时，collect_messages 函数会执行，生成新的对话内容并更新界面。\n",
    "interactive_conversation = pn.bind(collect_messages, button_conversation)\n",
    "# 将多个组件垂直排列，形成一个主界面。\n",
    "dashboard = pn.Column(\n",
    "    inp, # inp：用户输入框\n",
    "    pn.Row(button_conversation), # 将按钮放在一行中（此处只有一个按钮）。\n",
    "    # interactive_conversation：动态显示用户与机器人的对话。\n",
    "    # loading_indicator=True：在生成对话内容时显示加载指示器，增强用户体验。\n",
    "    # height=300：设置对话显示区域的高度。\n",
    "    pn.panel(interactive_conversation, loading_indicator=True, height=300),\n",
    ")"
   ]
  },
  {
   "cell_type": "code",
   "execution_count": null,
   "id": "9cb9bde5-67cd-467d-aa1b-5a0a38dff9a6",
   "metadata": {},
   "outputs": [],
   "source": [
    "dashboard"
   ]
  },
  {
   "cell_type": "code",
   "execution_count": null,
   "id": "619c0978-175d-4698-b172-a8d32a71f3ac",
   "metadata": {},
   "outputs": [],
   "source": [
    "messages =  context.copy()\n",
    "messages.append(\n",
    "{'role':'system', 'content':'创建上一个食品订单的 json 摘要。\\\n",
    "逐项列出每件商品的价格，字段应该是 1) 披萨，包括大小 2) 配料列表 3) 饮料列表，包括大小 4) 配菜列表包括大小 5) 总价'},    \n",
    ")\n",
    "response = get_completion_from_messages(messages, temperature=0)\n",
    "print(response)"
   ]
  },
  {
   "cell_type": "code",
   "execution_count": null,
   "id": "d6839a4b-8bbb-4b7c-a763-47dadfc7b5a9",
   "metadata": {},
   "outputs": [],
   "source": [
    "dashboard"
   ]
  },
  {
   "cell_type": "code",
   "execution_count": null,
   "id": "dc8cc27e-0773-4a0d-9c73-ecefe663e4fe",
   "metadata": {},
   "outputs": [],
   "source": [
    "# 现在，我们已经建立了自己的订餐聊天机器人。请随意自定义并修改系统消息，以更改聊天机器人的行为，并使其扮演不同的角色，拥有不同的知识。"
   ]
  }
 ],
 "metadata": {
  "kernelspec": {
   "display_name": "Python 3 (ipykernel)",
   "language": "python",
   "name": "python3"
  },
  "language_info": {
   "codemirror_mode": {
    "name": "ipython",
    "version": 3
   },
   "file_extension": ".py",
   "mimetype": "text/x-python",
   "name": "python",
   "nbconvert_exporter": "python",
   "pygments_lexer": "ipython3",
   "version": "3.8.20"
  }
 },
 "nbformat": 4,
 "nbformat_minor": 5
}
