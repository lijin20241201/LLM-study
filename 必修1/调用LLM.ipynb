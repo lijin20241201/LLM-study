{
 "cells": [
  {
   "cell_type": "code",
   "execution_count": 1,
   "id": "88fbb1db-0a8f-41c5-a2e5-bedcfb340346",
   "metadata": {},
   "outputs": [],
   "source": [
    "import os\n",
    "import openai"
   ]
  },
  {
   "cell_type": "code",
   "execution_count": 2,
   "id": "ed1741f1-b6e9-4b9b-8604-16c510fbf87d",
   "metadata": {},
   "outputs": [],
   "source": [
    "# 一个github上模型的api_key\n",
    "openai.api_key = '**e'"
   ]
  },
  {
   "cell_type": "code",
   "execution_count": 3,
   "id": "0a82a8fa-2f8f-4ff5-a7f3-0499cfde0c73",
   "metadata": {},
   "outputs": [],
   "source": [
    "# all client options can be configured just like the `OpenAI` instantiation counterpart\n",
    "openai.base_url = \"https://free.v36.cm/v1/\"\n",
    "# 自定义的头部字段，可以根据实际需求使用，通常用来传递一些额外的信息或者控制某些功能\n",
    "# openai.default_headers = {\"x-foo\": \"true\"}"
   ]
  },
  {
   "cell_type": "code",
   "execution_count": null,
   "id": "a54aa91f-f87c-403c-ac75-c458a882e12e",
   "metadata": {},
   "outputs": [],
   "source": [
    "# 如果开启了代理,代理是在激活环境，进入jupyter之后设置的，所以如果之后禁用了代理(或开启代理),即便重启内核，这里面的环境也不会改变\n",
    "os.environ.items()"
   ]
  },
  {
   "cell_type": "code",
   "execution_count": 5,
   "id": "8ee386a5-d766-498e-8015-ca7293154b12",
   "metadata": {},
   "outputs": [
    {
     "name": "stdout",
     "output_type": "stream",
     "text": [
      "Hello! How can I assist you today?\n"
     ]
    }
   ],
   "source": [
    "# 没有代理时，这个也能访问\n",
    "completion = openai.chat.completions.create(\n",
    "    model=\"gpt-3.5-turbo\",\n",
    "    messages=[\n",
    "        {\n",
    "            \"role\": \"user\",\n",
    "            \"content\": \"Hello world!\",\n",
    "        },\n",
    "    ],\n",
    ")\n",
    "print(completion.choices[0].message.content)\n",
    "# 正常会输出结果：Hello there! How can I assist you today ?"
   ]
  },
  {
   "cell_type": "code",
   "execution_count": null,
   "id": "9b966edd-bd4d-4059-8f7a-6be46b4aab35",
   "metadata": {},
   "outputs": [],
   "source": [
    "# !pip install openai"
   ]
  },
  {
   "cell_type": "code",
   "execution_count": null,
   "id": "b56d9e2b-8859-4eea-a79d-78b3d5afd130",
   "metadata": {},
   "outputs": [],
   "source": [
    "# api_key='你的openai api key'"
   ]
  },
  {
   "cell_type": "code",
   "execution_count": 6,
   "id": "09bac372-c685-4285-bd2f-bb1873109c2a",
   "metadata": {},
   "outputs": [],
   "source": [
    "from openai import OpenAI"
   ]
  },
  {
   "cell_type": "code",
   "execution_count": 7,
   "id": "98d29424-07ed-4f11-ba74-4bbf917a78af",
   "metadata": {},
   "outputs": [],
   "source": [
    "client = OpenAI()"
   ]
  },
  {
   "cell_type": "code",
   "execution_count": 9,
   "id": "106e3266-df87-4bb9-b457-354e53e7f1a2",
   "metadata": {},
   "outputs": [
    {
     "name": "stdout",
     "output_type": "stream",
     "text": [
      "代码深处行，  \n",
      "层层嵌套如梦，  \n",
      "回归自我。\n"
     ]
    }
   ],
   "source": [
    "completion = client.chat.completions.create(\n",
    "    model=\"gpt-4o-mini\",\n",
    "    messages=[\n",
    "        {\"role\": \"system\", \"content\": \"你是一个有用的助手。\"},\n",
    "        {\n",
    "            \"role\": \"user\",\n",
    "            \"content\": \"写一首关于编程中递归的俳句。\"\n",
    "        }\n",
    "    ]\n",
    ")\n",
    "print(completion.choices[0].message.content)"
   ]
  },
  {
   "cell_type": "code",
   "execution_count": 10,
   "id": "771e5fc3-9199-400e-8eb1-3483fd45b8bb",
   "metadata": {},
   "outputs": [
    {
     "name": "stdout",
     "output_type": "stream",
     "text": [
      "代码如波浪，  \n",
      "递归深似海洋，  \n",
      "循环无尽头。\n"
     ]
    }
   ],
   "source": [
    "completion = openai.chat.completions.create(\n",
    "    model=\"gpt-4o-mini\",\n",
    "    messages=[\n",
    "        {\"role\": \"system\", \"content\": \"你是一个有用的助手。\"},\n",
    "        {\n",
    "            \"role\": \"user\",\n",
    "            \"content\": \"写一首关于编程中递归的俳句。\"\n",
    "        }\n",
    "    ]\n",
    ")\n",
    "print(completion.choices[0].message.content)"
   ]
  },
  {
   "cell_type": "code",
   "execution_count": 12,
   "id": "72806239-2d32-4ab4-88f8-6b2a33e3be6f",
   "metadata": {},
   "outputs": [],
   "source": [
    "img_url=\"https://upload.wikimedia.org/wikipedia/commons/thumb/d/dd/Gfp-wisconsin-madison-the-nature-boardwalk.jpg/2560px-Gfp-wisconsin-madison-the-nature-boardwalk.jpg\""
   ]
  },
  {
   "cell_type": "code",
   "execution_count": null,
   "id": "af941871-6dc9-4fa7-b9c2-c36d897c15c3",
   "metadata": {},
   "outputs": [],
   "source": [
    "# messages 是一个列表，用于包含对话的所有消息。在这个请求中，只有一个消息，是用户的输入。\n",
    "# content 包含用户的实际输入内容，组成一个列表：\n",
    "# 第一项是一个文本消息，询问模型：“What's in this image?”（这张图片里有什么？）。\n",
    "# 第二项是一个图像信息，类型是 image_url，它提供了图像的 URL 地址，img_url 是图像的 URL。"
   ]
  },
  {
   "cell_type": "code",
   "execution_count": 13,
   "id": "cd6a8349-590d-44dd-a96d-10109d7c7b18",
   "metadata": {},
   "outputs": [
    {
     "name": "stdout",
     "output_type": "stream",
     "text": [
      "这张图片展示了一片开阔的自然景观，主要包括一条木栈道，周围是绿油油的草地和一些灌木丛。天空上有几朵云，整体展现出一幅宁静的自然场景。\n"
     ]
    }
   ],
   "source": [
    "# 调用 OpenAI 的 API 来创建一个 聊天完成请求\n",
    "completion = client.chat.completions.create(\n",
    "    model=\"gpt-4o-mini\",\n",
    "    messages=[\n",
    "        {\n",
    "            \"role\": \"user\",\n",
    "            \"content\": [\n",
    "                {\"type\": \"text\", \"text\": \"这张图片里有什么？\"},\n",
    "                {\n",
    "                    \"type\": \"image_url\",\n",
    "                    \"image_url\": {\n",
    "                        \"url\": img_url,\n",
    "                    }\n",
    "                },\n",
    "            ],\n",
    "        }\n",
    "    ],\n",
    ")\n",
    "print(completion.choices[0].message.content)"
   ]
  },
  {
   "cell_type": "code",
   "execution_count": null,
   "id": "668baa3e-532d-4ffb-a2f1-d067c5275b87",
   "metadata": {},
   "outputs": [],
   "source": [
    "# API 中的某些字段（如 role, content, model）是固定的，你不能随意更改它们的名字。\n",
    "# JSON Schema 中的字段名可以自定义，但是需要符合 JSON Schema 的规范。你可以使用英文或其他字符集，但不能随意改变标准字段的含义。"
   ]
  },
  {
   "cell_type": "code",
   "execution_count": 15,
   "id": "969f0be7-a32b-4e68-bf95-687a3629a325",
   "metadata": {},
   "outputs": [
    {
     "name": "stdout",
     "output_type": "stream",
     "text": [
      "{\"email\":\"example@outlook.com\"}\n"
     ]
    }
   ],
   "source": [
    "# 调用 OpenAI GPT-4 mini 模型进行聊天补全\n",
    "response = client.chat.completions.create(\n",
    "    model=\"gpt-4o-mini\",  # 使用的模型名称，指定为 gpt-4o-mini\n",
    "    messages=[ # 这是要发送给模型的消息列表\n",
    "        {\n",
    "            \"role\": \"developer\",  # 角色是开发者，指明是系统发出的指导消息\n",
    "            \"content\": \"您将电子邮件地址提取到 JSON 数据中。\" # 开发者指示内容，要求模型从用户的输入中提取电子邮件地址\n",
    "        },\n",
    "        {\n",
    "            \"role\": \"user\",  # 角色是用户，表示这条消息是用户发出的\n",
    "            \"content\": \"感觉被卡住了吗？发送消息至 example@outlook.com。\"  # 用户消息，其中包含了一个电子邮件地址\n",
    "        }\n",
    "    ],\n",
    "    # 设置返回格式为 JSON Schema\n",
    "    response_format={  # 返回的格式设置为 json_schema，这样模型会根据这个格式生成结果\n",
    "        \"type\": \"json_schema\",  # 指定响应类型为 json_schema\n",
    "        \"json_schema\": {  # 定义 JSON Schema 的结构\n",
    "            \"name\": \"email_schema\",  # 给 schema 起个名字\n",
    "            \"schema\": { # 这里是定义具体的 JSON Schema 内容\n",
    "                \"type\": \"object\", # 表明这是一个对象\n",
    "                \"properties\": {  # 定义对象的属性\n",
    "                    \"email\": {  # 属性 email，用于存放电子邮件地址\n",
    "                        \"description\": \"输入中显示的电子邮件地址\", # 对该属性的描述\n",
    "                        \"type\": \"string\" # 该属性的类型是字符串\n",
    "                    },\n",
    "                    \"additionalProperties\": False # 禁止对象中包含额外的属性\n",
    "                }\n",
    "            }\n",
    "        }\n",
    "    }\n",
    ")\n",
    "print(response.choices[0].message.content); # 输出模型返回的内容，选择第一个补全选项中的消息内容"
   ]
  },
  {
   "cell_type": "code",
   "execution_count": null,
   "id": "ef5355c4-b152-4c8a-86a2-2793319dfce3",
   "metadata": {},
   "outputs": [],
   "source": []
  }
 ],
 "metadata": {
  "kernelspec": {
   "display_name": "Python 3 (ipykernel)",
   "language": "python",
   "name": "python3"
  },
  "language_info": {
   "codemirror_mode": {
    "name": "ipython",
    "version": 3
   },
   "file_extension": ".py",
   "mimetype": "text/x-python",
   "name": "python",
   "nbconvert_exporter": "python",
   "pygments_lexer": "ipython3",
   "version": "3.8.20"
  }
 },
 "nbformat": 4,
 "nbformat_minor": 5
}
